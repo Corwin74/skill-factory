{
 "cells": [
  {
   "cell_type": "code",
   "execution_count": 7,
   "metadata": {},
   "outputs": [
    {
     "name": "stdout",
     "output_type": "stream",
     "text": [
      "data ratings_1.txt\n",
      "data ratings_10.txt\n",
      "data ratings_2.txt\n",
      "data ratings_3.txt\n",
      "data ratings_4.txt\n",
      "data ratings_5.txt\n",
      "data ratings_6.txt\n",
      "data ratings_7.txt\n",
      "data ratings_8.txt\n",
      "data ratings_9.txt\n",
      "data\\subfolder ratings_1.txt\n",
      "data\\subfolder ratings_10.txt\n",
      "data\\subfolder ratings_2.txt\n",
      "data\\subfolder ratings_3.txt\n",
      "data\\subfolder ratings_4.txt\n",
      "data\\subfolder ratings_5.txt\n",
      "data\\subfolder ratings_6.txt\n",
      "data\\subfolder ratings_7.txt\n",
      "data\\subfolder ratings_8.txt\n",
      "data\\subfolder ratings_9.txt\n"
     ]
    },
    {
     "data": {
      "text/plain": [
       "200008"
      ]
     },
     "execution_count": 7,
     "metadata": {},
     "output_type": "execute_result"
    }
   ],
   "source": [
    "import os\n",
    "import pandas as pd\n",
    "data = pd.DataFrame([])\n",
    "for root, dirs, files in os.walk('data'):\n",
    "    for file_name in files:\n",
    "        if '.txt' == file_name[-4:]:\n",
    "            print(root, file_name)\n",
    "            temp = pd.read_csv(os.path.join(root, file_name), names = ['userId', 'movieId', 'rating', 'timestamp'] )\n",
    "            data = pd.concat([data, temp])\n",
    "len(data)"
   ]
  },
  {
   "cell_type": "code",
   "execution_count": 6,
   "metadata": {},
   "outputs": [
    {
     "data": {
      "text/plain": [
       "200008"
      ]
     },
     "execution_count": 6,
     "metadata": {},
     "output_type": "execute_result"
    }
   ],
   "source": [
    "len(data)"
   ]
  }
 ],
 "metadata": {
  "kernelspec": {
   "display_name": "Python 3",
   "language": "python",
   "name": "python3"
  },
  "language_info": {
   "codemirror_mode": {
    "name": "ipython",
    "version": 3
   },
   "file_extension": ".py",
   "mimetype": "text/x-python",
   "name": "python",
   "nbconvert_exporter": "python",
   "pygments_lexer": "ipython3",
   "version": "3.7.6"
  }
 },
 "nbformat": 4,
 "nbformat_minor": 2
}
