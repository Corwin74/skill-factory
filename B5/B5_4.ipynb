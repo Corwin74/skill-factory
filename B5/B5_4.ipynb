{
 "cells": [
  {
   "cell_type": "code",
   "execution_count": 9,
   "metadata": {},
   "outputs": [],
   "source": [
    "import pandas as pd\n",
    "import numpy as np\n",
    "df_user = pd.read_csv('users.csv', header=None, encoding='koi8-r')\n",
    "df_log = pd.read_csv('log.csv', header=None)\n",
    "df_log.columns = ['user_id','time','bet','win']\n",
    "df_log.dropna(inplace=True, subset=['time'])"
   ]
  },
  {
   "cell_type": "code",
   "execution_count": 10,
   "metadata": {},
   "outputs": [],
   "source": [
    "def clean_time(time):\n",
    "    time = time[1:]\n",
    "    return pd.to_datetime(time, format='%Y-%m-%d %H:%M:%S')\n",
    "df_log.time = df_log.time.apply(clean_time)"
   ]
  },
  {
   "cell_type": "code",
   "execution_count": 12,
   "metadata": {},
   "outputs": [],
   "source": [
    "t = df_log.time.apply(lambda x: x.dayofweek).value_counts()"
   ]
  },
  {
   "cell_type": "code",
   "execution_count": 13,
   "metadata": {},
   "outputs": [
    {
     "data": {
      "text/plain": [
       "283"
      ]
     },
     "execution_count": 13,
     "metadata": {},
     "output_type": "execute_result"
    }
   ],
   "source": [
    "t[5] + t[6]"
   ]
  },
  {
   "cell_type": "code",
   "execution_count": 22,
   "metadata": {},
   "outputs": [
    {
     "data": {
      "text/plain": [
       "ночь     265\n",
       "утро     253\n",
       "день     240\n",
       "вечер    227\n",
       "Name: time, dtype: int64"
      ]
     },
     "execution_count": 22,
     "metadata": {},
     "output_type": "execute_result"
    }
   ],
   "source": [
    "df_log.time.apply(lambda x: 'ночь' if x.hour < 6 else ('утро' if x.hour < 12 else ('день' if x.hour < 18 else 'вечер'))).value_counts()"
   ]
  },
  {
   "cell_type": "code",
   "execution_count": 17,
   "metadata": {},
   "outputs": [],
   "source": [
    "f = lambda x: 'ночь' if x.hour < 6 else ('утро' if x.hour < 11 else ('день' if x.hour < 17 else 'вечер'))"
   ]
  },
  {
   "cell_type": "code",
   "execution_count": 21,
   "metadata": {},
   "outputs": [
    {
     "data": {
      "text/plain": [
       "'вечер'"
      ]
     },
     "execution_count": 21,
     "metadata": {},
     "output_type": "execute_result"
    }
   ],
   "source": [
    "f(pd.to_datetime('23:12'))"
   ]
  }
 ],
 "metadata": {
  "kernelspec": {
   "display_name": "Python 3",
   "language": "python",
   "name": "python3"
  },
  "language_info": {
   "codemirror_mode": {
    "name": "ipython",
    "version": 3
   },
   "file_extension": ".py",
   "mimetype": "text/x-python",
   "name": "python",
   "nbconvert_exporter": "python",
   "pygments_lexer": "ipython3",
   "version": "3.7.6"
  }
 },
 "nbformat": 4,
 "nbformat_minor": 4
}
