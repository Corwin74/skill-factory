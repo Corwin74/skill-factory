{
 "cells": [
  {
   "cell_type": "code",
   "execution_count": 12,
   "metadata": {},
   "outputs": [],
   "source": [
    "import pandas as pd\n",
    "import numpy as np\n",
    "df_user = pd.read_csv('users.csv', header=None, encoding='koi8-r')\n",
    "df_log = pd.read_csv('log.csv', header=None)\n",
    "df_log.columns = ['user_id','time','bet','win']"
   ]
  },
  {
   "cell_type": "code",
   "execution_count": 13,
   "metadata": {},
   "outputs": [],
   "source": [
    "df_log.bet.fillna(0, inplace=True)"
   ]
  },
  {
   "cell_type": "code",
   "execution_count": 14,
   "metadata": {},
   "outputs": [
    {
     "data": {
      "text/plain": [
       "0.0          515\n",
       "500.0         50\n",
       "100.0         48\n",
       "300.0         42\n",
       "800.0         42\n",
       "200.0         40\n",
       "400.0         40\n",
       "700.0         38\n",
       "600.0         37\n",
       "1000.0        37\n",
       "900.0         30\n",
       "9754.0        10\n",
       "10554.0       10\n",
       "10154.0        7\n",
       "10254.0        7\n",
       "10454.0        6\n",
       "9954.0         6\n",
       "10754.0        5\n",
       "10654.0        5\n",
       "10354.0        4\n",
       "10054.0        4\n",
       "9854.0         2\n",
       "5000.0         1\n",
       "27000.0        1\n",
       "9876.0         1\n",
       "156789.0       1\n",
       "12945.0        1\n",
       "12548.0        1\n",
       "145732.0       1\n",
       "1678321.0      1\n",
       "98753.0        1\n",
       "123981.0       1\n",
       "104540.0       1\n",
       "8700.0         1\n",
       "950.0          1\n",
       "8734.0         1\n",
       "7650.0         1\n",
       "Name: bet, dtype: int64"
      ]
     },
     "execution_count": 14,
     "metadata": {},
     "output_type": "execute_result"
    }
   ],
   "source": [
    "df_log.bet.value_counts()"
   ]
  },
  {
   "cell_type": "code",
   "execution_count": 18,
   "metadata": {},
   "outputs": [
    {
     "data": {
      "text/plain": [
       "0          NaN\n",
       "1          NaN\n",
       "2          NaN\n",
       "3          NaN\n",
       "4          NaN\n",
       "        ...   \n",
       "995        NaN\n",
       "996    29265.0\n",
       "997        NaN\n",
       "998        NaN\n",
       "999        NaN\n",
       "Length: 1000, dtype: float64"
      ]
     },
     "execution_count": 18,
     "metadata": {},
     "output_type": "execute_result"
    }
   ],
   "source": [
    "df_log.apply(lambda x: -x.bet if x.win == np.NaN else x.win, axis=1)"
   ]
  },
  {
   "cell_type": "code",
   "execution_count": 34,
   "metadata": {},
   "outputs": [],
   "source": [
    "df_log.win = df_log.apply(lambda x: x.win if not pd.isna(x.win) else (0 if x.bet == 0 else -x.bet), axis=1)"
   ]
  },
  {
   "cell_type": "code",
   "execution_count": 38,
   "metadata": {},
   "outputs": [
    {
     "data": {
      "text/plain": [
       "347"
      ]
     },
     "execution_count": 38,
     "metadata": {},
     "output_type": "execute_result"
    }
   ],
   "source": [
    "df_log.win[df_log.win<0].count()"
   ]
  }
 ],
 "metadata": {
  "kernelspec": {
   "display_name": "Python 3",
   "language": "python",
   "name": "python3"
  },
  "language_info": {
   "codemirror_mode": {
    "name": "ipython",
    "version": 3
   },
   "file_extension": ".py",
   "mimetype": "text/x-python",
   "name": "python",
   "nbconvert_exporter": "python",
   "pygments_lexer": "ipython3",
   "version": "3.7.6"
  }
 },
 "nbformat": 4,
 "nbformat_minor": 4
}
