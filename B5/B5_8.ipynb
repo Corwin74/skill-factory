{
 "cells": [
  {
   "cell_type": "code",
   "execution_count": 102,
   "metadata": {},
   "outputs": [],
   "source": [
    "import pandas as pd\n",
    "import numpy as np\n",
    "df_user = pd.read_csv('users.csv', encoding='koi8-r', sep='\\t')\n",
    "df_log = pd.read_csv('log.csv', header=None)\n",
    "df_log.columns = ['user_id','time','bet','win']\n",
    "df_user.columns=['user_id', 'mail', 'city']\n",
    "df_user.user_id = df_user.user_id.apply(lambda x: x.lower())\n",
    "df_log = df_log[df_log.user_id != '#error']\n",
    "df_log.user_id = df_log.user_id.apply(lambda x: x[-8:])"
   ]
  },
  {
   "cell_type": "code",
   "execution_count": 114,
   "metadata": {},
   "outputs": [
    {
     "data": {
      "text/plain": [
       "user_id    963\n",
       "time       963\n",
       "bet        466\n",
       "win        131\n",
       "mail       955\n",
       "city       938\n",
       "dtype: int64"
      ]
     },
     "execution_count": 114,
     "metadata": {},
     "output_type": "execute_result"
    }
   ],
   "source": [
    "pd.merge(df_log, df_user, on='user_id').count()"
   ]
  }
 ],
 "metadata": {
  "kernelspec": {
   "display_name": "Python 3",
   "language": "python",
   "name": "python3"
  },
  "language_info": {
   "codemirror_mode": {
    "name": "ipython",
    "version": 3
   },
   "file_extension": ".py",
   "mimetype": "text/x-python",
   "name": "python",
   "nbconvert_exporter": "python",
   "pygments_lexer": "ipython3",
   "version": "3.7.6"
  }
 },
 "nbformat": 4,
 "nbformat_minor": 4
}
