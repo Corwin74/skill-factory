{
 "cells": [
  {
   "cell_type": "code",
   "execution_count": 42,
   "metadata": {},
   "outputs": [],
   "source": [
    "import pandas as pd\n",
    "import numpy as np\n",
    "df_user = pd.read_csv('users.csv', encoding='koi8-r', sep='\\t')\n",
    "df_log = pd.read_csv('log.csv', header=None)\n",
    "df_log.columns = ['user_id','time','bet','win']\n",
    "df_user.columns=['user_id', 'mail', 'city']\n",
    "df_log = df_log[df_log.user_id != '#error']  \n",
    "df_log.user_id = df_log.user_id.str.split(' - ').apply(lambda x: x[1]) \n",
    "df_user.user_id = df_user.user_id.apply(lambda x: x.lower())"
   ]
  },
  {
   "cell_type": "code",
   "execution_count": 43,
   "metadata": {},
   "outputs": [],
   "source": [
    "dff = pd.merge(df_log, df_user, on='user_id')"
   ]
  },
  {
   "cell_type": "code",
   "execution_count": 44,
   "metadata": {},
   "outputs": [],
   "source": [
    "dff['bet'] = dff['bet'].fillna(0)\n",
    "dff['win'] = dff['win'].fillna(0)\n",
    "dff['net'] = dff['win'] - dff['bet']\n",
    "def clean_time(time):\n",
    "    time = time[1:]\n",
    "    return pd.to_datetime(time, format='%Y-%m-%d %H:%M:%S')\n",
    "dff['time'] = dff['time'].apply(clean_time)"
   ]
  },
  {
   "cell_type": "code",
   "execution_count": 45,
   "metadata": {},
   "outputs": [
    {
     "data": {
      "text/plain": [
       "1986.0"
      ]
     },
     "execution_count": 45,
     "metadata": {},
     "output_type": "execute_result"
    }
   ],
   "source": [
    "dff.groupby('user_id')['net'].sum().median()"
   ]
  },
  {
   "cell_type": "code",
   "execution_count": 28,
   "metadata": {},
   "outputs": [
    {
     "data": {
      "text/plain": [
       "505"
      ]
     },
     "execution_count": 28,
     "metadata": {},
     "output_type": "execute_result"
    }
   ],
   "source": [
    "dff.groupby(['user_id'])['bet'].apply(lambda x: x[x == 0].count() if x.max() > 0 else 0).sum()"
   ]
  },
  {
   "cell_type": "code",
   "execution_count": 50,
   "metadata": {},
   "outputs": [],
   "source": [
    "by_user = dff.groupby(['user_id'])['bet']"
   ]
  },
  {
   "cell_type": "code",
   "execution_count": 51,
   "metadata": {},
   "outputs": [
    {
     "data": {
      "text/plain": [
       "('user_1000',\n",
       " 829      0.0\n",
       " 830    800.0\n",
       " 831      0.0\n",
       " 832      0.0\n",
       " 833      0.0\n",
       " 834      0.0\n",
       " 835      0.0\n",
       " 836      0.0\n",
       " 837    100.0\n",
       " 838    400.0\n",
       " 839    300.0\n",
       " 840      0.0\n",
       " Name: bet, dtype: float64)"
      ]
     },
     "execution_count": 51,
     "metadata": {},
     "output_type": "execute_result"
    }
   ],
   "source": [
    "next(iter(by_user))"
   ]
  },
  {
   "cell_type": "code",
   "execution_count": 62,
   "metadata": {},
   "outputs": [],
   "source": [
    "delta = dff.groupby(['user_id']).apply(lambda x: x.time[x.bet == 0].min() - x.time[x.bet > 0].min() if x.bet.max() > 0 else 0).sum()"
   ]
  },
  {
   "cell_type": "code",
   "execution_count": 78,
   "metadata": {},
   "outputs": [
    {
     "data": {
      "text/plain": [
       "Timedelta('-4629 days +04:40:00')"
      ]
     },
     "execution_count": 78,
     "metadata": {},
     "output_type": "execute_result"
    }
   ],
   "source": [
    "delta"
   ]
  },
  {
   "cell_type": "code",
   "execution_count": 79,
   "metadata": {},
   "outputs": [
    {
     "data": {
      "text/plain": [
       "Timedelta('-47 days +17:05:12')"
      ]
     },
     "execution_count": 79,
     "metadata": {},
     "output_type": "execute_result"
    }
   ],
   "source": [
    "delta/100"
   ]
  },
  {
   "cell_type": "code",
   "execution_count": 80,
   "metadata": {},
   "outputs": [
    {
     "data": {
      "text/plain": [
       "Timedelta('46 days 06:54:48')"
      ]
     },
     "execution_count": 80,
     "metadata": {},
     "output_type": "execute_result"
    }
   ],
   "source": [
    "-delta/100"
   ]
  }
 ],
 "metadata": {
  "kernelspec": {
   "display_name": "Python 3",
   "language": "python",
   "name": "python3"
  },
  "language_info": {
   "codemirror_mode": {
    "name": "ipython",
    "version": 3
   },
   "file_extension": ".py",
   "mimetype": "text/x-python",
   "name": "python",
   "nbconvert_exporter": "python",
   "pygments_lexer": "ipython3",
   "version": "3.7.6"
  }
 },
 "nbformat": 4,
 "nbformat_minor": 4
}
