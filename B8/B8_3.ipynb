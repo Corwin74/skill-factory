{
 "cells": [
  {
   "cell_type": "code",
   "execution_count": 1,
   "metadata": {},
   "outputs": [],
   "source": [
    "import json\n",
    "from pprint import pprint  \n",
    "with open('recipes.json') as f:\n",
    "    recipes = json.load(f)"
   ]
  },
  {
   "cell_type": "code",
   "execution_count": 2,
   "metadata": {},
   "outputs": [
    {
     "data": {
      "text/plain": [
       "{'id': 10259,\n",
       " 'cuisine': 'greek',\n",
       " 'ingredients': ['romaine lettuce',\n",
       "  'black olives',\n",
       "  'grape tomatoes',\n",
       "  'garlic',\n",
       "  'pepper',\n",
       "  'purple onion',\n",
       "  'seasoning',\n",
       "  'garbanzo beans',\n",
       "  'feta cheese crumbles']}"
      ]
     },
     "execution_count": 2,
     "metadata": {},
     "output_type": "execute_result"
    }
   ],
   "source": [
    "recipes[0]"
   ]
  },
  {
   "cell_type": "code",
   "execution_count": 17,
   "metadata": {},
   "outputs": [
    {
     "data": {
      "text/plain": [
       "1318"
      ]
     },
     "execution_count": 17,
     "metadata": {},
     "output_type": "execute_result"
    }
   ],
   "source": [
    "ingridients = set()\n",
    "for food in recipes:\n",
    "    for ingr in food['ingredients']:\n",
    "        ingridients.add(ingr)\n",
    "len(ingridients)\n",
    "    "
   ]
  },
  {
   "cell_type": "code",
   "execution_count": 5,
   "metadata": {},
   "outputs": [
    {
     "data": {
      "text/plain": [
       "406"
      ]
     },
     "execution_count": 5,
     "metadata": {},
     "output_type": "execute_result"
    }
   ],
   "source": [
    "ingridients = set()\n",
    "for food in recipes:\n",
    "    if food['cuisine'] == 'italian':\n",
    "        for ingr in food['ingredients']:\n",
    "            ingridients.add(ingr)\n",
    "len(ingridients)"
   ]
  },
  {
   "cell_type": "code",
   "execution_count": 12,
   "metadata": {},
   "outputs": [],
   "source": [
    "ingridients = set()\n",
    "for food in recipes:\n",
    "    if food['cuisine'] == 'russian':\n",
    "        for ingr in food['ingredients']:\n",
    "            ingridients.add(ingr)\n",
    "test = set(['bacon','bread slices', 'buttermilk', 'red beets', 'mozzarella cheese', 'carrots'])"
   ]
  },
  {
   "cell_type": "code",
   "execution_count": 14,
   "metadata": {},
   "outputs": [
    {
     "data": {
      "text/plain": [
       "{'bacon', 'bread slices', 'carrots'}"
      ]
     },
     "execution_count": 14,
     "metadata": {},
     "output_type": "execute_result"
    }
   ],
   "source": [
    "test.difference(ingridients)"
   ]
  },
  {
   "cell_type": "code",
   "execution_count": 18,
   "metadata": {},
   "outputs": [],
   "source": [
    "food = {}  # создаём пустой словарь для хранения информации об ингредиентах\n",
    "for item in ingridients:  # перебираем список ингредиентов\n",
    "   food[item] = 0 # добавляем в словарь ключ, соответствующий очередному ингредиенту\n",
    "for recipe in recipes:   # перебираем список рецептов\n",
    "    for item in recipe['ingredients']:   # и список ингредиентов в каждом рецепте\n",
    "        food[item] += 1   # у"
   ]
  },
  {
   "cell_type": "code",
   "execution_count": 21,
   "metadata": {},
   "outputs": [
    {
     "name": "stdout",
     "output_type": "stream",
     "text": [
      "garlic 107\n",
      "salt 217\n"
     ]
    }
   ],
   "source": [
    "for each in food:\n",
    "    if food[each] > 100:\n",
    "        print(each, food[each])"
   ]
  },
  {
   "cell_type": "code",
   "execution_count": 23,
   "metadata": {},
   "outputs": [
    {
     "data": {
      "text/plain": [
       "684"
      ]
     },
     "execution_count": 23,
     "metadata": {},
     "output_type": "execute_result"
    }
   ],
   "source": [
    "s = 0\n",
    "for each in food:\n",
    "    if food[each] == 1:\n",
    "        s += 1\n",
    "s"
   ]
  }
 ],
 "metadata": {
  "kernelspec": {
   "display_name": "Python 3",
   "language": "python",
   "name": "python3"
  },
  "language_info": {
   "codemirror_mode": {
    "name": "ipython",
    "version": 3
   },
   "file_extension": ".py",
   "mimetype": "text/x-python",
   "name": "python",
   "nbconvert_exporter": "python",
   "pygments_lexer": "ipython3",
   "version": "3.7.6"
  }
 },
 "nbformat": 4,
 "nbformat_minor": 4
}
