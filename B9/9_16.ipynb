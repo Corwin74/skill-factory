{
 "cells": [
  {
   "cell_type": "code",
   "execution_count": 6,
   "metadata": {},
   "outputs": [
    {
     "data": {
      "text/plain": [
       "'{\"response\":{\"count\":701557,\"items\":[10480793,10480877,10480885,10480996,10481012,10481022,10481243,10481300,10481703,10481818]}}'"
      ]
     },
     "execution_count": 6,
     "metadata": {},
     "output_type": "execute_result"
    }
   ],
   "source": [
    "import requests\n",
    "import json\n",
    "\n",
    "ACCESS_TOKEN = '0869f3f50869f3f50869f3f59808030800008690869f3f555cc62c3a9c9cf1de89854b9'\n",
    "url = 'https://api.vk.com/method/groups.getMembers'   \n",
    "params = {'group_id': 'habr', 'count': 10, 'offset': 99999, 'v': 5.95, 'access_token': ACCESS_TOKEN, 'lang': 'ru'}  \n",
    "response = requests.get(url, params=params)  \n",
    "response.text"
   ]
  }
 ],
 "metadata": {
  "kernelspec": {
   "display_name": "Python 3",
   "language": "python",
   "name": "python3"
  },
  "language_info": {
   "codemirror_mode": {
    "name": "ipython",
    "version": 3
   },
   "file_extension": ".py",
   "mimetype": "text/x-python",
   "name": "python",
   "nbconvert_exporter": "python",
   "pygments_lexer": "ipython3",
   "version": "3.7.6"
  }
 },
 "nbformat": 4,
 "nbformat_minor": 4
}
