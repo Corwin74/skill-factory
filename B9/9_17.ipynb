{
 "cells": [
  {
   "cell_type": "code",
   "execution_count": 28,
   "metadata": {},
   "outputs": [],
   "source": [
    "import requests\n",
    "import json\n",
    "\n",
    "\n",
    "token = '0869f3f50869f3f50869f3f59808030800008690869f3f555cc62c3a9c9cf1de89854b9'\n",
    "import requests  \n",
    "from pprint import pprint  \n",
    "\n",
    "def get_smm_index(group_name, token):\n",
    "    url = 'https://api.vk.com/method/wall.get'  \n",
    "    params = {  \n",
    "        'domain': group_name,  \n",
    "        'filter': 'owner',  \n",
    "        'count': 10,  \n",
    "        'offset': 0,  \n",
    "        'access_token': token,  \n",
    "        'v': 5.95  \n",
    "    }\n",
    "    response = requests.get(url, params = params)\n",
    "    stats = {}  \n",
    "    summ = 0        \n",
    "    for record in response.json()['response']['items']:  \n",
    "        summ = summ + record['comments']['count'] + record['likes']['count'] + record['reposts']['count']\n",
    "    url = 'https://api.vk.com/method/groups.getMembers'  \n",
    "    params = {  \n",
    "            'group_id': group_name,  \n",
    "            'v': 5.95,  \n",
    "            'access_token': token  \n",
    "        }  \n",
    "    response2 = requests.get(url, params = params)  \n",
    "    data = response2.json()    \n",
    "    return summ/data['response']['count']"
   ]
  },
  {
   "cell_type": "code",
   "execution_count": 29,
   "metadata": {},
   "outputs": [
    {
     "data": {
      "text/plain": [
       "0.0009992060516821868"
      ]
     },
     "execution_count": 29,
     "metadata": {},
     "output_type": "execute_result"
    }
   ],
   "source": [
    "get_smm_index('habr', token)"
   ]
  }
 ],
 "metadata": {
  "kernelspec": {
   "display_name": "Python 3",
   "language": "python",
   "name": "python3"
  },
  "language_info": {
   "codemirror_mode": {
    "name": "ipython",
    "version": 3
   },
   "file_extension": ".py",
   "mimetype": "text/x-python",
   "name": "python",
   "nbconvert_exporter": "python",
   "pygments_lexer": "ipython3",
   "version": "3.7.6"
  }
 },
 "nbformat": 4,
 "nbformat_minor": 4
}
