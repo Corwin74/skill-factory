{
 "cells": [
  {
   "cell_type": "markdown",
   "metadata": {},
   "source": [
    "### Для стандартных задачь в DL уже есть готовые решения и библиотеки, которые значительно ускоряют решение задачи и позволяют быстро построить базовое решение с хорошим результатом.\n",
    "![](https://www.meme-arsenal.com/memes/0eb7d7ba093f7a61409127282e0d4f1b.jpg)"
   ]
  },
  {
   "cell_type": "code",
   "execution_count": 1,
   "metadata": {
    "_kg_hide-output": true
   },
   "outputs": [
    {
     "output_type": "stream",
     "name": "stdout",
     "text": [
      "INFO:tensorflow:Using local port 18589\n",
      "INFO:tensorflow:Using local port 20639\n",
      "INFO:tensorflow:Using local port 15585\n",
      "INFO:tensorflow:Using local port 24043\n",
      "INFO:tensorflow:Using local port 16967\n",
      "INFO:tensorflow:Using local port 17067\n",
      "INFO:tensorflow:Using local port 18846\n",
      "INFO:tensorflow:Using local port 15964\n",
      "INFO:tensorflow:Using local port 19569\n",
      "INFO:tensorflow:Using local port 18249\n"
     ]
    }
   ],
   "source": [
    "import ktrain\n",
    "from ktrain import text"
   ]
  },
  {
   "cell_type": "markdown",
   "metadata": {},
   "source": [
    "Немного погуглив и поспрашивая коллег я нашел множество решений под нашу задачу с уже предобучеными моделями со своими обертками и готовыми пеплайнами.\n",
    "Например:\n",
    "\n",
    "* [https://finetune.indico.io](https://finetune.indico.io)\n",
    "* [https://github.com/huggingface/pytorch-transformers](https://github.com/huggingface/pytorch-transformers)\n",
    "* [https://github.com/deepset-ai/FARM](https://github.com/deepset-ai/FARM)\n",
    "* [https://github.com/kaushaltrivedi/fast-bert](https://github.com/kaushaltrivedi/fast-bert)\n",
    "* [https://github.com/amaiya/ktrain](https://github.com/amaiya/ktrain)\n",
    "\n",
    "С последней и поработаем. Посмотрим что получилось...\n",
    "\n"
   ]
  },
  {
   "cell_type": "code",
   "execution_count": 2,
   "metadata": {
    "_cell_guid": "b1076dfc-b9ad-4769-8c92-a6c4dae69d19",
    "_kg_hide-input": true,
    "_uuid": "8f2839f25d086af736a60e9eeb907d3b93b6e0e5"
   },
   "outputs": [
    {
     "output_type": "stream",
     "name": "stdout",
     "text": [
      "data/train.csv\ndata/test.csv\ndata/submission.csv\n"
     ]
    }
   ],
   "source": [
    "import random\n",
    "import numpy as np # linear algebra\n",
    "import pandas as pd # data processing, CSV file I/O (e.g. pd.read_csv)\n",
    "# plt\n",
    "import matplotlib.pyplot as plt\n",
    "#увеличим дефолтный размер графиков\n",
    "from pylab import rcParams\n",
    "rcParams['figure.figsize'] = 10, 5\n",
    "#графики в svg выглядят более четкими\n",
    "%config InlineBackend.figure_format = 'svg' \n",
    "%matplotlib inline\n",
    "\n",
    "import os\n",
    "for dirname, _, filenames in os.walk('data'):\n",
    "    for filename in filenames:\n",
    "        print(os.path.join(dirname, filename))"
   ]
  },
  {
   "cell_type": "code",
   "execution_count": 3,
   "metadata": {},
   "outputs": [
    {
     "output_type": "stream",
     "name": "stdout",
     "text": [
      "1 Physical GPUs, 1 Logical GPUs\n"
     ]
    }
   ],
   "source": [
    "import tensorflow as tf\n",
    "gpus = tf.config.experimental.list_physical_devices('GPU')\n",
    "if gpus:\n",
    "  try:\n",
    "    # Currently, memory growth needs to be the same across GPUs\n",
    "    for gpu in gpus:\n",
    "      tf.config.experimental.set_memory_growth(gpu, True)\n",
    "    logical_gpus = tf.config.experimental.list_logical_devices('GPU')\n",
    "    print(len(gpus), \"Physical GPUs,\", len(logical_gpus), \"Logical GPUs\")\n",
    "  except RuntimeError as e:\n",
    "    # Memory growth must be set before GPUs have been initialized\n",
    "    print(e)"
   ]
  },
  {
   "cell_type": "markdown",
   "metadata": {},
   "source": [
    "# SETUP\n",
    "В setup выносим основные настройки"
   ]
  },
  {
   "cell_type": "code",
   "execution_count": 4,
   "metadata": {},
   "outputs": [],
   "source": [
    "# MODEL\n",
    "#BATCH_SIZE  = 32\n",
    "EPOCH       = 3\n",
    "VAL_SPLIT   = 0.10  #15%\n",
    "\n",
    "# TOKENIZER\n",
    "# The maximum number of words to be used. (most frequent)\n",
    "MAX_WORDS = 20000\n",
    "# Max number of words in each complaint.\n",
    "MAXLEN    = 100\n",
    "\n",
    "DATA_PATH = 'data/'\n",
    "PATH      = 'data/'"
   ]
  },
  {
   "cell_type": "markdown",
   "metadata": {},
   "source": [
    "# Data\n",
    "#### TRAIN"
   ]
  },
  {
   "cell_type": "code",
   "execution_count": 5,
   "metadata": {},
   "outputs": [],
   "source": [
    "train = pd.read_csv(DATA_PATH+'train.csv',)"
   ]
  },
  {
   "cell_type": "code",
   "execution_count": 6,
   "metadata": {},
   "outputs": [
    {
     "output_type": "execute_result",
     "data": {
      "text/plain": [
       "                                 name     genre  \\\n",
       "0       Oscar et la dame rose (2009)      drama   \n",
       "1                       Cupid (1997)   thriller   \n",
       "2   Young, Wild and Wonderful (1980)      adult   \n",
       "3              The Secret Sin (1915)      drama   \n",
       "4             The Unrecovered (2007)      drama   \n",
       "\n",
       "                                                text  \n",
       "0   Listening in to a conversation between his do...  \n",
       "1   A brother and sister with a past incestuous r...  \n",
       "2   As the bus empties the students for their fie...  \n",
       "3   To help their unemployed father make ends mee...  \n",
       "4   The film's title refers not only to the un-re...  "
      ],
      "text/html": "<div>\n<style scoped>\n    .dataframe tbody tr th:only-of-type {\n        vertical-align: middle;\n    }\n\n    .dataframe tbody tr th {\n        vertical-align: top;\n    }\n\n    .dataframe thead th {\n        text-align: right;\n    }\n</style>\n<table border=\"1\" class=\"dataframe\">\n  <thead>\n    <tr style=\"text-align: right;\">\n      <th></th>\n      <th>name</th>\n      <th>genre</th>\n      <th>text</th>\n    </tr>\n  </thead>\n  <tbody>\n    <tr>\n      <th>0</th>\n      <td>Oscar et la dame rose (2009)</td>\n      <td>drama</td>\n      <td>Listening in to a conversation between his do...</td>\n    </tr>\n    <tr>\n      <th>1</th>\n      <td>Cupid (1997)</td>\n      <td>thriller</td>\n      <td>A brother and sister with a past incestuous r...</td>\n    </tr>\n    <tr>\n      <th>2</th>\n      <td>Young, Wild and Wonderful (1980)</td>\n      <td>adult</td>\n      <td>As the bus empties the students for their fie...</td>\n    </tr>\n    <tr>\n      <th>3</th>\n      <td>The Secret Sin (1915)</td>\n      <td>drama</td>\n      <td>To help their unemployed father make ends mee...</td>\n    </tr>\n    <tr>\n      <th>4</th>\n      <td>The Unrecovered (2007)</td>\n      <td>drama</td>\n      <td>The film's title refers not only to the un-re...</td>\n    </tr>\n  </tbody>\n</table>\n</div>"
     },
     "metadata": {},
     "execution_count": 6
    }
   ],
   "source": [
    "train.head()"
   ]
  },
  {
   "cell_type": "code",
   "execution_count": 7,
   "metadata": {},
   "outputs": [
    {
     "output_type": "stream",
     "name": "stdout",
     "text": [
      "<class 'pandas.core.frame.DataFrame'>\nRangeIndex: 54214 entries, 0 to 54213\nData columns (total 3 columns):\n #   Column  Non-Null Count  Dtype \n---  ------  --------------  ----- \n 0   name    54214 non-null  object\n 1   genre   54214 non-null  object\n 2   text    54214 non-null  object\ndtypes: object(3)\nmemory usage: 1.2+ MB\n"
     ]
    }
   ],
   "source": [
    "train.info()"
   ]
  },
  {
   "cell_type": "code",
   "execution_count": 8,
   "metadata": {
    "_kg_hide-input": true
   },
   "outputs": [
    {
     "output_type": "execute_result",
     "data": {
      "text/plain": [
       "Text(0, 0.5, 'Counts')"
      ]
     },
     "metadata": {},
     "execution_count": 8
    },
    {
     "output_type": "display_data",
     "data": {
      "text/plain": "<Figure size 864x288 with 1 Axes>",
      "image/svg+xml": "<?xml version=\"1.0\" encoding=\"utf-8\" standalone=\"no\"?>\n<!DOCTYPE svg PUBLIC \"-//W3C//DTD SVG 1.1//EN\"\n  \"http://www.w3.org/Graphics/SVG/1.1/DTD/svg11.dtd\">\n<!-- Created with matplotlib (https://matplotlib.org/) -->\n<svg height=\"315.045305pt\" version=\"1.1\" viewBox=\"0 0 736.490625 315.045305\" width=\"736.490625pt\" xmlns=\"http://www.w3.org/2000/svg\" xmlns:xlink=\"http://www.w3.org/1999/xlink\">\n <metadata>\n  <rdf:RDF xmlns:cc=\"http://creativecommons.org/ns#\" xmlns:dc=\"http://purl.org/dc/elements/1.1/\" xmlns:rdf=\"http://www.w3.org/1999/02/22-rdf-syntax-ns#\">\n   <cc:Work>\n    <dc:type rdf:resource=\"http://purl.org/dc/dcmitype/StillImage\"/>\n    <dc:date>2020-10-21T17:16:43.655109</dc:date>\n    <dc:format>image/svg+xml</dc:format>\n    <dc:creator>\n     <cc:Agent>\n      <dc:title>Matplotlib v3.3.2, https://matplotlib.org/</dc:title>\n     </cc:Agent>\n    </dc:creator>\n   </cc:Work>\n  </rdf:RDF>\n </metadata>\n <defs>\n  <style type=\"text/css\">*{stroke-linecap:butt;stroke-linejoin:round;}</style>\n </defs>\n <g id=\"figure_1\">\n  <g id=\"patch_1\">\n   <path d=\"M 0 315.045305 \nL 736.490625 315.045305 \nL 736.490625 0 \nL 0 0 \nz\n\" style=\"fill:none;\"/>\n  </g>\n  <g id=\"axes_1\">\n   <g id=\"patch_2\">\n    <path d=\"M 59.690625 224.64 \nL 729.290625 224.64 \nL 729.290625 7.2 \nL 59.690625 7.2 \nz\n\" style=\"fill:#ffffff;\"/>\n   </g>\n   <g id=\"patch_3\">\n    <path clip-path=\"url(#p41ba248ed9)\" d=\"M 65.890625 224.64 \nL 78.290625 224.64 \nL 78.290625 17.554286 \nL 65.890625 17.554286 \nz\n\" style=\"fill:#1f77b4;\"/>\n   </g>\n   <g id=\"patch_4\">\n    <path clip-path=\"url(#p41ba248ed9)\" d=\"M 90.690625 224.64 \nL 103.090625 224.64 \nL 103.090625 25.41907 \nL 90.690625 25.41907 \nz\n\" style=\"fill:#1f77b4;\"/>\n   </g>\n   <g id=\"patch_5\">\n    <path clip-path=\"url(#p41ba248ed9)\" d=\"M 115.490625 224.64 \nL 127.890625 224.64 \nL 127.890625 111.353633 \nL 115.490625 111.353633 \nz\n\" style=\"fill:#1f77b4;\"/>\n   </g>\n   <g id=\"patch_6\">\n    <path clip-path=\"url(#p41ba248ed9)\" d=\"M 140.290625 224.64 \nL 152.690625 224.64 \nL 152.690625 147.467751 \nL 140.290625 147.467751 \nz\n\" style=\"fill:#1f77b4;\"/>\n   </g>\n   <g id=\"patch_7\">\n    <path clip-path=\"url(#p41ba248ed9)\" d=\"M 165.090625 224.64 \nL 177.490625 224.64 \nL 177.490625 191.111982 \nL 165.090625 191.111982 \nz\n\" style=\"fill:#1f77b4;\"/>\n   </g>\n   <g id=\"patch_8\">\n    <path clip-path=\"url(#p41ba248ed9)\" d=\"M 189.890625 224.64 \nL 202.290625 224.64 \nL 202.290625 200.437152 \nL 189.890625 200.437152 \nz\n\" style=\"fill:#1f77b4;\"/>\n   </g>\n   <g id=\"patch_9\">\n    <path clip-path=\"url(#p41ba248ed9)\" d=\"M 214.690625 224.64 \nL 227.090625 224.64 \nL 227.090625 204.63576 \nL 214.690625 204.63576 \nz\n\" style=\"fill:#1f77b4;\"/>\n   </g>\n   <g id=\"patch_10\">\n    <path clip-path=\"url(#p41ba248ed9)\" d=\"M 239.490625 224.64 \nL 251.890625 224.64 \nL 251.890625 208.940855 \nL 239.490625 208.940855 \nz\n\" style=\"fill:#1f77b4;\"/>\n   </g>\n   <g id=\"patch_11\">\n    <path clip-path=\"url(#p41ba248ed9)\" d=\"M 264.290625 224.64 \nL 276.690625 224.64 \nL 276.690625 211.192283 \nL 264.290625 211.192283 \nz\n\" style=\"fill:#1f77b4;\"/>\n   </g>\n   <g id=\"patch_12\">\n    <path clip-path=\"url(#p41ba248ed9)\" d=\"M 289.090625 224.64 \nL 301.490625 224.64 \nL 301.490625 212.713518 \nL 289.090625 212.713518 \nz\n\" style=\"fill:#1f77b4;\"/>\n   </g>\n   <g id=\"patch_13\">\n    <path clip-path=\"url(#p41ba248ed9)\" d=\"M 313.890625 224.64 \nL 326.290625 224.64 \nL 326.290625 212.850429 \nL 313.890625 212.850429 \nz\n\" style=\"fill:#1f77b4;\"/>\n   </g>\n   <g id=\"patch_14\">\n    <path clip-path=\"url(#p41ba248ed9)\" d=\"M 338.690625 224.64 \nL 351.090625 224.64 \nL 351.090625 213.519772 \nL 338.690625 213.519772 \nz\n\" style=\"fill:#1f77b4;\"/>\n   </g>\n   <g id=\"patch_15\">\n    <path clip-path=\"url(#p41ba248ed9)\" d=\"M 363.490625 224.64 \nL 375.890625 224.64 \nL 375.890625 214.417301 \nL 363.490625 214.417301 \nz\n\" style=\"fill:#1f77b4;\"/>\n   </g>\n   <g id=\"patch_16\">\n    <path clip-path=\"url(#p41ba248ed9)\" d=\"M 388.290625 224.64 \nL 400.690625 224.64 \nL 400.690625 214.79761 \nL 388.290625 214.79761 \nz\n\" style=\"fill:#1f77b4;\"/>\n   </g>\n   <g id=\"patch_17\">\n    <path clip-path=\"url(#p41ba248ed9)\" d=\"M 413.090625 224.64 \nL 425.490625 224.64 \nL 425.490625 215.664714 \nL 413.090625 215.664714 \nz\n\" style=\"fill:#1f77b4;\"/>\n   </g>\n   <g id=\"patch_18\">\n    <path clip-path=\"url(#p41ba248ed9)\" d=\"M 437.890625 224.64 \nL 450.290625 224.64 \nL 450.290625 216.957763 \nL 437.890625 216.957763 \nz\n\" style=\"fill:#1f77b4;\"/>\n   </g>\n   <g id=\"patch_19\">\n    <path clip-path=\"url(#p41ba248ed9)\" d=\"M 462.690625 224.64 \nL 475.090625 224.64 \nL 475.090625 217.06425 \nL 462.690625 217.06425 \nz\n\" style=\"fill:#1f77b4;\"/>\n   </g>\n   <g id=\"patch_20\">\n    <path clip-path=\"url(#p41ba248ed9)\" d=\"M 487.490625 224.64 \nL 499.890625 224.64 \nL 499.890625 218.068265 \nL 487.490625 218.068265 \nz\n\" style=\"fill:#1f77b4;\"/>\n   </g>\n   <g id=\"patch_21\">\n    <path clip-path=\"url(#p41ba248ed9)\" d=\"M 512.290625 224.64 \nL 524.690625 224.64 \nL 524.690625 218.691971 \nL 512.290625 218.691971 \nz\n\" style=\"fill:#1f77b4;\"/>\n   </g>\n   <g id=\"patch_22\">\n    <path clip-path=\"url(#p41ba248ed9)\" d=\"M 537.090625 224.64 \nL 549.490625 224.64 \nL 549.490625 219.726411 \nL 537.090625 219.726411 \nz\n\" style=\"fill:#1f77b4;\"/>\n   </g>\n   <g id=\"patch_23\">\n    <path clip-path=\"url(#p41ba248ed9)\" d=\"M 561.890625 224.64 \nL 574.290625 224.64 \nL 574.290625 219.78726 \nL 561.890625 219.78726 \nz\n\" style=\"fill:#1f77b4;\"/>\n   </g>\n   <g id=\"patch_24\">\n    <path clip-path=\"url(#p41ba248ed9)\" d=\"M 586.690625 224.64 \nL 599.090625 224.64 \nL 599.090625 220.426179 \nL 586.690625 220.426179 \nz\n\" style=\"fill:#1f77b4;\"/>\n   </g>\n   <g id=\"patch_25\">\n    <path clip-path=\"url(#p41ba248ed9)\" d=\"M 611.490625 224.64 \nL 623.890625 224.64 \nL 623.890625 220.608727 \nL 611.490625 220.608727 \nz\n\" style=\"fill:#1f77b4;\"/>\n   </g>\n   <g id=\"patch_26\">\n    <path clip-path=\"url(#p41ba248ed9)\" d=\"M 636.290625 224.64 \nL 648.690625 224.64 \nL 648.690625 220.943399 \nL 636.290625 220.943399 \nz\n\" style=\"fill:#1f77b4;\"/>\n   </g>\n   <g id=\"patch_27\">\n    <path clip-path=\"url(#p41ba248ed9)\" d=\"M 661.090625 224.64 \nL 673.490625 224.64 \nL 673.490625 221.688804 \nL 661.090625 221.688804 \nz\n\" style=\"fill:#1f77b4;\"/>\n   </g>\n   <g id=\"patch_28\">\n    <path clip-path=\"url(#p41ba248ed9)\" d=\"M 685.890625 224.64 \nL 698.290625 224.64 \nL 698.290625 221.886565 \nL 685.890625 221.886565 \nz\n\" style=\"fill:#1f77b4;\"/>\n   </g>\n   <g id=\"patch_29\">\n    <path clip-path=\"url(#p41ba248ed9)\" d=\"M 710.690625 224.64 \nL 723.090625 224.64 \nL 723.090625 222.63197 \nL 710.690625 222.63197 \nz\n\" style=\"fill:#1f77b4;\"/>\n   </g>\n   <g id=\"matplotlib.axis_1\">\n    <g id=\"xtick_1\">\n     <g id=\"line2d_1\">\n      <defs>\n       <path d=\"M 0 0 \nL 0 3.5 \n\" id=\"m93512cdd14\" style=\"stroke:#000000;stroke-width:0.8;\"/>\n      </defs>\n      <g>\n       <use style=\"stroke:#000000;stroke-width:0.8;\" x=\"72.090625\" xlink:href=\"#m93512cdd14\" y=\"224.64\"/>\n      </g>\n     </g>\n     <g id=\"text_1\">\n      <!-- drama -->\n      <g transform=\"translate(66.366251 263.547156)rotate(-60)scale(0.1 -0.1)\">\n       <defs>\n        <path d=\"M 45.40625 46.390625 \nL 45.40625 75.984375 \nL 54.390625 75.984375 \nL 54.390625 0 \nL 45.40625 0 \nL 45.40625 8.203125 \nQ 42.578125 3.328125 38.25 0.953125 \nQ 33.9375 -1.421875 27.875 -1.421875 \nQ 17.96875 -1.421875 11.734375 6.484375 \nQ 5.515625 14.40625 5.515625 27.296875 \nQ 5.515625 40.1875 11.734375 48.09375 \nQ 17.96875 56 27.875 56 \nQ 33.9375 56 38.25 53.625 \nQ 42.578125 51.265625 45.40625 46.390625 \nz\nM 14.796875 27.296875 \nQ 14.796875 17.390625 18.875 11.75 \nQ 22.953125 6.109375 30.078125 6.109375 \nQ 37.203125 6.109375 41.296875 11.75 \nQ 45.40625 17.390625 45.40625 27.296875 \nQ 45.40625 37.203125 41.296875 42.84375 \nQ 37.203125 48.484375 30.078125 48.484375 \nQ 22.953125 48.484375 18.875 42.84375 \nQ 14.796875 37.203125 14.796875 27.296875 \nz\n\" id=\"DejaVuSans-100\"/>\n        <path d=\"M 41.109375 46.296875 \nQ 39.59375 47.171875 37.8125 47.578125 \nQ 36.03125 48 33.890625 48 \nQ 26.265625 48 22.1875 43.046875 \nQ 18.109375 38.09375 18.109375 28.8125 \nL 18.109375 0 \nL 9.078125 0 \nL 9.078125 54.6875 \nL 18.109375 54.6875 \nL 18.109375 46.1875 \nQ 20.953125 51.171875 25.484375 53.578125 \nQ 30.03125 56 36.53125 56 \nQ 37.453125 56 38.578125 55.875 \nQ 39.703125 55.765625 41.0625 55.515625 \nz\n\" id=\"DejaVuSans-114\"/>\n        <path d=\"M 34.28125 27.484375 \nQ 23.390625 27.484375 19.1875 25 \nQ 14.984375 22.515625 14.984375 16.5 \nQ 14.984375 11.71875 18.140625 8.90625 \nQ 21.296875 6.109375 26.703125 6.109375 \nQ 34.1875 6.109375 38.703125 11.40625 \nQ 43.21875 16.703125 43.21875 25.484375 \nL 43.21875 27.484375 \nz\nM 52.203125 31.203125 \nL 52.203125 0 \nL 43.21875 0 \nL 43.21875 8.296875 \nQ 40.140625 3.328125 35.546875 0.953125 \nQ 30.953125 -1.421875 24.3125 -1.421875 \nQ 15.921875 -1.421875 10.953125 3.296875 \nQ 6 8.015625 6 15.921875 \nQ 6 25.140625 12.171875 29.828125 \nQ 18.359375 34.515625 30.609375 34.515625 \nL 43.21875 34.515625 \nL 43.21875 35.40625 \nQ 43.21875 41.609375 39.140625 45 \nQ 35.0625 48.390625 27.6875 48.390625 \nQ 23 48.390625 18.546875 47.265625 \nQ 14.109375 46.140625 10.015625 43.890625 \nL 10.015625 52.203125 \nQ 14.9375 54.109375 19.578125 55.046875 \nQ 24.21875 56 28.609375 56 \nQ 40.484375 56 46.34375 49.84375 \nQ 52.203125 43.703125 52.203125 31.203125 \nz\n\" id=\"DejaVuSans-97\"/>\n        <path d=\"M 52 44.1875 \nQ 55.375 50.25 60.0625 53.125 \nQ 64.75 56 71.09375 56 \nQ 79.640625 56 84.28125 50.015625 \nQ 88.921875 44.046875 88.921875 33.015625 \nL 88.921875 0 \nL 79.890625 0 \nL 79.890625 32.71875 \nQ 79.890625 40.578125 77.09375 44.375 \nQ 74.3125 48.1875 68.609375 48.1875 \nQ 61.625 48.1875 57.5625 43.546875 \nQ 53.515625 38.921875 53.515625 30.90625 \nL 53.515625 0 \nL 44.484375 0 \nL 44.484375 32.71875 \nQ 44.484375 40.625 41.703125 44.40625 \nQ 38.921875 48.1875 33.109375 48.1875 \nQ 26.21875 48.1875 22.15625 43.53125 \nQ 18.109375 38.875 18.109375 30.90625 \nL 18.109375 0 \nL 9.078125 0 \nL 9.078125 54.6875 \nL 18.109375 54.6875 \nL 18.109375 46.1875 \nQ 21.1875 51.21875 25.484375 53.609375 \nQ 29.78125 56 35.6875 56 \nQ 41.65625 56 45.828125 52.96875 \nQ 50 49.953125 52 44.1875 \nz\n\" id=\"DejaVuSans-109\"/>\n       </defs>\n       <use xlink:href=\"#DejaVuSans-100\"/>\n       <use x=\"63.476562\" xlink:href=\"#DejaVuSans-114\"/>\n       <use x=\"104.589844\" xlink:href=\"#DejaVuSans-97\"/>\n       <use x=\"165.869141\" xlink:href=\"#DejaVuSans-109\"/>\n       <use x=\"263.28125\" xlink:href=\"#DejaVuSans-97\"/>\n      </g>\n     </g>\n    </g>\n    <g id=\"xtick_2\">\n     <g id=\"line2d_2\">\n      <g>\n       <use style=\"stroke:#000000;stroke-width:0.8;\" x=\"96.890625\" xlink:href=\"#m93512cdd14\" y=\"224.64\"/>\n      </g>\n     </g>\n     <g id=\"text_2\">\n      <!-- documentary -->\n      <g transform=\"translate(82.627189 293.127336)rotate(-60)scale(0.1 -0.1)\">\n       <defs>\n        <path d=\"M 30.609375 48.390625 \nQ 23.390625 48.390625 19.1875 42.75 \nQ 14.984375 37.109375 14.984375 27.296875 \nQ 14.984375 17.484375 19.15625 11.84375 \nQ 23.34375 6.203125 30.609375 6.203125 \nQ 37.796875 6.203125 41.984375 11.859375 \nQ 46.1875 17.53125 46.1875 27.296875 \nQ 46.1875 37.015625 41.984375 42.703125 \nQ 37.796875 48.390625 30.609375 48.390625 \nz\nM 30.609375 56 \nQ 42.328125 56 49.015625 48.375 \nQ 55.71875 40.765625 55.71875 27.296875 \nQ 55.71875 13.875 49.015625 6.21875 \nQ 42.328125 -1.421875 30.609375 -1.421875 \nQ 18.84375 -1.421875 12.171875 6.21875 \nQ 5.515625 13.875 5.515625 27.296875 \nQ 5.515625 40.765625 12.171875 48.375 \nQ 18.84375 56 30.609375 56 \nz\n\" id=\"DejaVuSans-111\"/>\n        <path d=\"M 48.78125 52.59375 \nL 48.78125 44.1875 \nQ 44.96875 46.296875 41.140625 47.34375 \nQ 37.3125 48.390625 33.40625 48.390625 \nQ 24.65625 48.390625 19.8125 42.84375 \nQ 14.984375 37.3125 14.984375 27.296875 \nQ 14.984375 17.28125 19.8125 11.734375 \nQ 24.65625 6.203125 33.40625 6.203125 \nQ 37.3125 6.203125 41.140625 7.25 \nQ 44.96875 8.296875 48.78125 10.40625 \nL 48.78125 2.09375 \nQ 45.015625 0.34375 40.984375 -0.53125 \nQ 36.96875 -1.421875 32.421875 -1.421875 \nQ 20.0625 -1.421875 12.78125 6.34375 \nQ 5.515625 14.109375 5.515625 27.296875 \nQ 5.515625 40.671875 12.859375 48.328125 \nQ 20.21875 56 33.015625 56 \nQ 37.15625 56 41.109375 55.140625 \nQ 45.0625 54.296875 48.78125 52.59375 \nz\n\" id=\"DejaVuSans-99\"/>\n        <path d=\"M 8.5 21.578125 \nL 8.5 54.6875 \nL 17.484375 54.6875 \nL 17.484375 21.921875 \nQ 17.484375 14.15625 20.5 10.265625 \nQ 23.53125 6.390625 29.59375 6.390625 \nQ 36.859375 6.390625 41.078125 11.03125 \nQ 45.3125 15.671875 45.3125 23.6875 \nL 45.3125 54.6875 \nL 54.296875 54.6875 \nL 54.296875 0 \nL 45.3125 0 \nL 45.3125 8.40625 \nQ 42.046875 3.421875 37.71875 1 \nQ 33.40625 -1.421875 27.6875 -1.421875 \nQ 18.265625 -1.421875 13.375 4.4375 \nQ 8.5 10.296875 8.5 21.578125 \nz\nM 31.109375 56 \nz\n\" id=\"DejaVuSans-117\"/>\n        <path d=\"M 56.203125 29.59375 \nL 56.203125 25.203125 \nL 14.890625 25.203125 \nQ 15.484375 15.921875 20.484375 11.0625 \nQ 25.484375 6.203125 34.421875 6.203125 \nQ 39.59375 6.203125 44.453125 7.46875 \nQ 49.3125 8.734375 54.109375 11.28125 \nL 54.109375 2.78125 \nQ 49.265625 0.734375 44.1875 -0.34375 \nQ 39.109375 -1.421875 33.890625 -1.421875 \nQ 20.796875 -1.421875 13.15625 6.1875 \nQ 5.515625 13.8125 5.515625 26.8125 \nQ 5.515625 40.234375 12.765625 48.109375 \nQ 20.015625 56 32.328125 56 \nQ 43.359375 56 49.78125 48.890625 \nQ 56.203125 41.796875 56.203125 29.59375 \nz\nM 47.21875 32.234375 \nQ 47.125 39.59375 43.09375 43.984375 \nQ 39.0625 48.390625 32.421875 48.390625 \nQ 24.90625 48.390625 20.390625 44.140625 \nQ 15.875 39.890625 15.1875 32.171875 \nz\n\" id=\"DejaVuSans-101\"/>\n        <path d=\"M 54.890625 33.015625 \nL 54.890625 0 \nL 45.90625 0 \nL 45.90625 32.71875 \nQ 45.90625 40.484375 42.875 44.328125 \nQ 39.84375 48.1875 33.796875 48.1875 \nQ 26.515625 48.1875 22.3125 43.546875 \nQ 18.109375 38.921875 18.109375 30.90625 \nL 18.109375 0 \nL 9.078125 0 \nL 9.078125 54.6875 \nL 18.109375 54.6875 \nL 18.109375 46.1875 \nQ 21.34375 51.125 25.703125 53.5625 \nQ 30.078125 56 35.796875 56 \nQ 45.21875 56 50.046875 50.171875 \nQ 54.890625 44.34375 54.890625 33.015625 \nz\n\" id=\"DejaVuSans-110\"/>\n        <path d=\"M 18.3125 70.21875 \nL 18.3125 54.6875 \nL 36.8125 54.6875 \nL 36.8125 47.703125 \nL 18.3125 47.703125 \nL 18.3125 18.015625 \nQ 18.3125 11.328125 20.140625 9.421875 \nQ 21.96875 7.515625 27.59375 7.515625 \nL 36.8125 7.515625 \nL 36.8125 0 \nL 27.59375 0 \nQ 17.1875 0 13.234375 3.875 \nQ 9.28125 7.765625 9.28125 18.015625 \nL 9.28125 47.703125 \nL 2.6875 47.703125 \nL 2.6875 54.6875 \nL 9.28125 54.6875 \nL 9.28125 70.21875 \nz\n\" id=\"DejaVuSans-116\"/>\n        <path d=\"M 32.171875 -5.078125 \nQ 28.375 -14.84375 24.75 -17.8125 \nQ 21.140625 -20.796875 15.09375 -20.796875 \nL 7.90625 -20.796875 \nL 7.90625 -13.28125 \nL 13.1875 -13.28125 \nQ 16.890625 -13.28125 18.9375 -11.515625 \nQ 21 -9.765625 23.484375 -3.21875 \nL 25.09375 0.875 \nL 2.984375 54.6875 \nL 12.5 54.6875 \nL 29.59375 11.921875 \nL 46.6875 54.6875 \nL 56.203125 54.6875 \nz\n\" id=\"DejaVuSans-121\"/>\n       </defs>\n       <use xlink:href=\"#DejaVuSans-100\"/>\n       <use x=\"63.476562\" xlink:href=\"#DejaVuSans-111\"/>\n       <use x=\"124.658203\" xlink:href=\"#DejaVuSans-99\"/>\n       <use x=\"179.638672\" xlink:href=\"#DejaVuSans-117\"/>\n       <use x=\"243.017578\" xlink:href=\"#DejaVuSans-109\"/>\n       <use x=\"340.429688\" xlink:href=\"#DejaVuSans-101\"/>\n       <use x=\"401.953125\" xlink:href=\"#DejaVuSans-110\"/>\n       <use x=\"465.332031\" xlink:href=\"#DejaVuSans-116\"/>\n       <use x=\"504.541016\" xlink:href=\"#DejaVuSans-97\"/>\n       <use x=\"565.820312\" xlink:href=\"#DejaVuSans-114\"/>\n       <use x=\"606.933594\" xlink:href=\"#DejaVuSans-121\"/>\n      </g>\n     </g>\n    </g>\n    <g id=\"xtick_3\">\n     <g id=\"line2d_3\">\n      <g>\n       <use style=\"stroke:#000000;stroke-width:0.8;\" x=\"121.690625\" xlink:href=\"#m93512cdd14\" y=\"224.64\"/>\n      </g>\n     </g>\n     <g id=\"text_3\">\n      <!-- comedy -->\n      <g transform=\"translate(114.135783 269.888086)rotate(-60)scale(0.1 -0.1)\">\n       <use xlink:href=\"#DejaVuSans-99\"/>\n       <use x=\"54.980469\" xlink:href=\"#DejaVuSans-111\"/>\n       <use x=\"116.162109\" xlink:href=\"#DejaVuSans-109\"/>\n       <use x=\"213.574219\" xlink:href=\"#DejaVuSans-101\"/>\n       <use x=\"275.097656\" xlink:href=\"#DejaVuSans-100\"/>\n       <use x=\"338.574219\" xlink:href=\"#DejaVuSans-121\"/>\n      </g>\n     </g>\n    </g>\n    <g id=\"xtick_4\">\n     <g id=\"line2d_4\">\n      <g>\n       <use style=\"stroke:#000000;stroke-width:0.8;\" x=\"146.490625\" xlink:href=\"#m93512cdd14\" y=\"224.64\"/>\n      </g>\n     </g>\n     <g id=\"text_4\">\n      <!-- short -->\n      <g transform=\"translate(142.456095 257.693365)rotate(-60)scale(0.1 -0.1)\">\n       <defs>\n        <path d=\"M 44.28125 53.078125 \nL 44.28125 44.578125 \nQ 40.484375 46.53125 36.375 47.5 \nQ 32.28125 48.484375 27.875 48.484375 \nQ 21.1875 48.484375 17.84375 46.4375 \nQ 14.5 44.390625 14.5 40.28125 \nQ 14.5 37.15625 16.890625 35.375 \nQ 19.28125 33.59375 26.515625 31.984375 \nL 29.59375 31.296875 \nQ 39.15625 29.25 43.1875 25.515625 \nQ 47.21875 21.78125 47.21875 15.09375 \nQ 47.21875 7.46875 41.1875 3.015625 \nQ 35.15625 -1.421875 24.609375 -1.421875 \nQ 20.21875 -1.421875 15.453125 -0.5625 \nQ 10.6875 0.296875 5.421875 2 \nL 5.421875 11.28125 \nQ 10.40625 8.6875 15.234375 7.390625 \nQ 20.0625 6.109375 24.8125 6.109375 \nQ 31.15625 6.109375 34.5625 8.28125 \nQ 37.984375 10.453125 37.984375 14.40625 \nQ 37.984375 18.0625 35.515625 20.015625 \nQ 33.0625 21.96875 24.703125 23.78125 \nL 21.578125 24.515625 \nQ 13.234375 26.265625 9.515625 29.90625 \nQ 5.8125 33.546875 5.8125 39.890625 \nQ 5.8125 47.609375 11.28125 51.796875 \nQ 16.75 56 26.8125 56 \nQ 31.78125 56 36.171875 55.265625 \nQ 40.578125 54.546875 44.28125 53.078125 \nz\n\" id=\"DejaVuSans-115\"/>\n        <path d=\"M 54.890625 33.015625 \nL 54.890625 0 \nL 45.90625 0 \nL 45.90625 32.71875 \nQ 45.90625 40.484375 42.875 44.328125 \nQ 39.84375 48.1875 33.796875 48.1875 \nQ 26.515625 48.1875 22.3125 43.546875 \nQ 18.109375 38.921875 18.109375 30.90625 \nL 18.109375 0 \nL 9.078125 0 \nL 9.078125 75.984375 \nL 18.109375 75.984375 \nL 18.109375 46.1875 \nQ 21.34375 51.125 25.703125 53.5625 \nQ 30.078125 56 35.796875 56 \nQ 45.21875 56 50.046875 50.171875 \nQ 54.890625 44.34375 54.890625 33.015625 \nz\n\" id=\"DejaVuSans-104\"/>\n       </defs>\n       <use xlink:href=\"#DejaVuSans-115\"/>\n       <use x=\"52.099609\" xlink:href=\"#DejaVuSans-104\"/>\n       <use x=\"115.478516\" xlink:href=\"#DejaVuSans-111\"/>\n       <use x=\"176.660156\" xlink:href=\"#DejaVuSans-114\"/>\n       <use x=\"217.773438\" xlink:href=\"#DejaVuSans-116\"/>\n      </g>\n     </g>\n    </g>\n    <g id=\"xtick_5\">\n     <g id=\"line2d_5\">\n      <g>\n       <use style=\"stroke:#000000;stroke-width:0.8;\" x=\"171.290625\" xlink:href=\"#m93512cdd14\" y=\"224.64\"/>\n      </g>\n     </g>\n     <g id=\"text_5\">\n      <!-- horror -->\n      <g transform=\"translate(166.053361 261.859759)rotate(-60)scale(0.1 -0.1)\">\n       <use xlink:href=\"#DejaVuSans-104\"/>\n       <use x=\"63.378906\" xlink:href=\"#DejaVuSans-111\"/>\n       <use x=\"124.560547\" xlink:href=\"#DejaVuSans-114\"/>\n       <use x=\"163.923828\" xlink:href=\"#DejaVuSans-114\"/>\n       <use x=\"202.787109\" xlink:href=\"#DejaVuSans-111\"/>\n       <use x=\"263.96875\" xlink:href=\"#DejaVuSans-114\"/>\n      </g>\n     </g>\n    </g>\n    <g id=\"xtick_6\">\n     <g id=\"line2d_6\">\n      <g>\n       <use style=\"stroke:#000000;stroke-width:0.8;\" x=\"196.090625\" xlink:href=\"#m93512cdd14\" y=\"224.64\"/>\n      </g>\n     </g>\n     <g id=\"text_6\">\n      <!-- thriller -->\n      <g transform=\"translate(190.238517 263.989641)rotate(-60)scale(0.1 -0.1)\">\n       <defs>\n        <path d=\"M 9.421875 54.6875 \nL 18.40625 54.6875 \nL 18.40625 0 \nL 9.421875 0 \nz\nM 9.421875 75.984375 \nL 18.40625 75.984375 \nL 18.40625 64.59375 \nL 9.421875 64.59375 \nz\n\" id=\"DejaVuSans-105\"/>\n        <path d=\"M 9.421875 75.984375 \nL 18.40625 75.984375 \nL 18.40625 0 \nL 9.421875 0 \nz\n\" id=\"DejaVuSans-108\"/>\n       </defs>\n       <use xlink:href=\"#DejaVuSans-116\"/>\n       <use x=\"39.208984\" xlink:href=\"#DejaVuSans-104\"/>\n       <use x=\"102.587891\" xlink:href=\"#DejaVuSans-114\"/>\n       <use x=\"143.701172\" xlink:href=\"#DejaVuSans-105\"/>\n       <use x=\"171.484375\" xlink:href=\"#DejaVuSans-108\"/>\n       <use x=\"199.267578\" xlink:href=\"#DejaVuSans-108\"/>\n       <use x=\"227.050781\" xlink:href=\"#DejaVuSans-101\"/>\n       <use x=\"288.574219\" xlink:href=\"#DejaVuSans-114\"/>\n      </g>\n     </g>\n    </g>\n    <g id=\"xtick_7\">\n     <g id=\"line2d_7\">\n      <g>\n       <use style=\"stroke:#000000;stroke-width:0.8;\" x=\"220.890625\" xlink:href=\"#m93512cdd14\" y=\"224.64\"/>\n      </g>\n     </g>\n     <g id=\"text_7\">\n      <!-- action -->\n      <g transform=\"translate(215.585001 262.096563)rotate(-60)scale(0.1 -0.1)\">\n       <use xlink:href=\"#DejaVuSans-97\"/>\n       <use x=\"61.279297\" xlink:href=\"#DejaVuSans-99\"/>\n       <use x=\"116.259766\" xlink:href=\"#DejaVuSans-116\"/>\n       <use x=\"155.46875\" xlink:href=\"#DejaVuSans-105\"/>\n       <use x=\"183.251953\" xlink:href=\"#DejaVuSans-111\"/>\n       <use x=\"244.433594\" xlink:href=\"#DejaVuSans-110\"/>\n      </g>\n     </g>\n    </g>\n    <g id=\"xtick_8\">\n     <g id=\"line2d_8\">\n      <g>\n       <use style=\"stroke:#000000;stroke-width:0.8;\" x=\"245.690625\" xlink:href=\"#m93512cdd14\" y=\"224.64\"/>\n      </g>\n     </g>\n     <g id=\"text_8\">\n      <!-- western -->\n      <g transform=\"translate(238.108439 269.982807)rotate(-60)scale(0.1 -0.1)\">\n       <defs>\n        <path d=\"M 4.203125 54.6875 \nL 13.1875 54.6875 \nL 24.421875 12.015625 \nL 35.59375 54.6875 \nL 46.1875 54.6875 \nL 57.421875 12.015625 \nL 68.609375 54.6875 \nL 77.59375 54.6875 \nL 63.28125 0 \nL 52.6875 0 \nL 40.921875 44.828125 \nL 29.109375 0 \nL 18.5 0 \nz\n\" id=\"DejaVuSans-119\"/>\n       </defs>\n       <use xlink:href=\"#DejaVuSans-119\"/>\n       <use x=\"81.787109\" xlink:href=\"#DejaVuSans-101\"/>\n       <use x=\"143.310547\" xlink:href=\"#DejaVuSans-115\"/>\n       <use x=\"195.410156\" xlink:href=\"#DejaVuSans-116\"/>\n       <use x=\"234.619141\" xlink:href=\"#DejaVuSans-101\"/>\n       <use x=\"296.142578\" xlink:href=\"#DejaVuSans-114\"/>\n       <use x=\"335.505859\" xlink:href=\"#DejaVuSans-110\"/>\n      </g>\n     </g>\n    </g>\n    <g id=\"xtick_9\">\n     <g id=\"line2d_9\">\n      <g>\n       <use style=\"stroke:#000000;stroke-width:0.8;\" x=\"270.490625\" xlink:href=\"#m93512cdd14\" y=\"224.64\"/>\n      </g>\n     </g>\n     <g id=\"text_9\">\n      <!-- reality-tv -->\n      <g transform=\"translate(261.67172 274.266926)rotate(-60)scale(0.1 -0.1)\">\n       <defs>\n        <path d=\"M 4.890625 31.390625 \nL 31.203125 31.390625 \nL 31.203125 23.390625 \nL 4.890625 23.390625 \nz\n\" id=\"DejaVuSans-45\"/>\n        <path d=\"M 2.984375 54.6875 \nL 12.5 54.6875 \nL 29.59375 8.796875 \nL 46.6875 54.6875 \nL 56.203125 54.6875 \nL 35.6875 0 \nL 23.484375 0 \nz\n\" id=\"DejaVuSans-118\"/>\n       </defs>\n       <use xlink:href=\"#DejaVuSans-114\"/>\n       <use x=\"38.863281\" xlink:href=\"#DejaVuSans-101\"/>\n       <use x=\"100.386719\" xlink:href=\"#DejaVuSans-97\"/>\n       <use x=\"161.666016\" xlink:href=\"#DejaVuSans-108\"/>\n       <use x=\"189.449219\" xlink:href=\"#DejaVuSans-105\"/>\n       <use x=\"217.232422\" xlink:href=\"#DejaVuSans-116\"/>\n       <use x=\"256.441406\" xlink:href=\"#DejaVuSans-121\"/>\n       <use x=\"313.871094\" xlink:href=\"#DejaVuSans-45\"/>\n       <use x=\"349.955078\" xlink:href=\"#DejaVuSans-116\"/>\n       <use x=\"389.164062\" xlink:href=\"#DejaVuSans-118\"/>\n      </g>\n     </g>\n    </g>\n    <g id=\"xtick_10\">\n     <g id=\"line2d_10\">\n      <g>\n       <use style=\"stroke:#000000;stroke-width:0.8;\" x=\"295.290625\" xlink:href=\"#m93512cdd14\" y=\"224.64\"/>\n      </g>\n     </g>\n     <g id=\"text_10\">\n      <!-- family -->\n      <g transform=\"translate(289.964298 262.168281)rotate(-60)scale(0.1 -0.1)\">\n       <defs>\n        <path d=\"M 37.109375 75.984375 \nL 37.109375 68.5 \nL 28.515625 68.5 \nQ 23.6875 68.5 21.796875 66.546875 \nQ 19.921875 64.59375 19.921875 59.515625 \nL 19.921875 54.6875 \nL 34.71875 54.6875 \nL 34.71875 47.703125 \nL 19.921875 47.703125 \nL 19.921875 0 \nL 10.890625 0 \nL 10.890625 47.703125 \nL 2.296875 47.703125 \nL 2.296875 54.6875 \nL 10.890625 54.6875 \nL 10.890625 58.5 \nQ 10.890625 67.625 15.140625 71.796875 \nQ 19.390625 75.984375 28.609375 75.984375 \nz\n\" id=\"DejaVuSans-102\"/>\n       </defs>\n       <use xlink:href=\"#DejaVuSans-102\"/>\n       <use x=\"35.205078\" xlink:href=\"#DejaVuSans-97\"/>\n       <use x=\"96.484375\" xlink:href=\"#DejaVuSans-109\"/>\n       <use x=\"193.896484\" xlink:href=\"#DejaVuSans-105\"/>\n       <use x=\"221.679688\" xlink:href=\"#DejaVuSans-108\"/>\n       <use x=\"249.462891\" xlink:href=\"#DejaVuSans-121\"/>\n      </g>\n     </g>\n    </g>\n    <g id=\"xtick_11\">\n     <g id=\"line2d_11\">\n      <g>\n       <use style=\"stroke:#000000;stroke-width:0.8;\" x=\"320.090625\" xlink:href=\"#m93512cdd14\" y=\"224.64\"/>\n      </g>\n     </g>\n     <g id=\"text_11\">\n      <!-- adventure -->\n      <g transform=\"translate(309.684611 279.764835)rotate(-60)scale(0.1 -0.1)\">\n       <use xlink:href=\"#DejaVuSans-97\"/>\n       <use x=\"61.279297\" xlink:href=\"#DejaVuSans-100\"/>\n       <use x=\"124.755859\" xlink:href=\"#DejaVuSans-118\"/>\n       <use x=\"183.935547\" xlink:href=\"#DejaVuSans-101\"/>\n       <use x=\"245.458984\" xlink:href=\"#DejaVuSans-110\"/>\n       <use x=\"308.837891\" xlink:href=\"#DejaVuSans-116\"/>\n       <use x=\"348.046875\" xlink:href=\"#DejaVuSans-117\"/>\n       <use x=\"411.425781\" xlink:href=\"#DejaVuSans-114\"/>\n       <use x=\"450.289062\" xlink:href=\"#DejaVuSans-101\"/>\n      </g>\n     </g>\n    </g>\n    <g id=\"xtick_12\">\n     <g id=\"line2d_12\">\n      <g>\n       <use style=\"stroke:#000000;stroke-width:0.8;\" x=\"344.890625\" xlink:href=\"#m93512cdd14\" y=\"224.64\"/>\n      </g>\n     </g>\n     <g id=\"text_12\">\n      <!-- music -->\n      <g transform=\"translate(339.889298 261.042448)rotate(-60)scale(0.1 -0.1)\">\n       <use xlink:href=\"#DejaVuSans-109\"/>\n       <use x=\"97.412109\" xlink:href=\"#DejaVuSans-117\"/>\n       <use x=\"160.791016\" xlink:href=\"#DejaVuSans-115\"/>\n       <use x=\"212.890625\" xlink:href=\"#DejaVuSans-105\"/>\n       <use x=\"240.673828\" xlink:href=\"#DejaVuSans-99\"/>\n      </g>\n     </g>\n    </g>\n    <g id=\"xtick_13\">\n     <g id=\"line2d_13\">\n      <g>\n       <use style=\"stroke:#000000;stroke-width:0.8;\" x=\"369.690625\" xlink:href=\"#m93512cdd14\" y=\"224.64\"/>\n      </g>\n     </g>\n     <g id=\"text_13\">\n      <!-- romance -->\n      <g transform=\"translate(361.114689 273.425258)rotate(-60)scale(0.1 -0.1)\">\n       <use xlink:href=\"#DejaVuSans-114\"/>\n       <use x=\"38.863281\" xlink:href=\"#DejaVuSans-111\"/>\n       <use x=\"100.044922\" xlink:href=\"#DejaVuSans-109\"/>\n       <use x=\"197.457031\" xlink:href=\"#DejaVuSans-97\"/>\n       <use x=\"258.736328\" xlink:href=\"#DejaVuSans-110\"/>\n       <use x=\"322.115234\" xlink:href=\"#DejaVuSans-99\"/>\n       <use x=\"377.095703\" xlink:href=\"#DejaVuSans-101\"/>\n      </g>\n     </g>\n    </g>\n    <g id=\"xtick_14\">\n     <g id=\"line2d_14\">\n      <g>\n       <use style=\"stroke:#000000;stroke-width:0.8;\" x=\"394.490625\" xlink:href=\"#m93512cdd14\" y=\"224.64\"/>\n      </g>\n     </g>\n     <g id=\"text_14\">\n      <!-- sci-fi -->\n      <g transform=\"translate(391.032267 255.697447)rotate(-60)scale(0.1 -0.1)\">\n       <use xlink:href=\"#DejaVuSans-115\"/>\n       <use x=\"52.099609\" xlink:href=\"#DejaVuSans-99\"/>\n       <use x=\"107.080078\" xlink:href=\"#DejaVuSans-105\"/>\n       <use x=\"134.863281\" xlink:href=\"#DejaVuSans-45\"/>\n       <use x=\"170.947266\" xlink:href=\"#DejaVuSans-102\"/>\n       <use x=\"206.152344\" xlink:href=\"#DejaVuSans-105\"/>\n      </g>\n     </g>\n    </g>\n    <g id=\"xtick_15\">\n     <g id=\"line2d_15\">\n      <g>\n       <use style=\"stroke:#000000;stroke-width:0.8;\" x=\"419.290625\" xlink:href=\"#m93512cdd14\" y=\"224.64\"/>\n      </g>\n     </g>\n     <g id=\"text_15\">\n      <!-- adult -->\n      <g transform=\"translate(415.302189 257.533692)rotate(-60)scale(0.1 -0.1)\">\n       <use xlink:href=\"#DejaVuSans-97\"/>\n       <use x=\"61.279297\" xlink:href=\"#DejaVuSans-100\"/>\n       <use x=\"124.755859\" xlink:href=\"#DejaVuSans-117\"/>\n       <use x=\"188.134766\" xlink:href=\"#DejaVuSans-108\"/>\n       <use x=\"215.917969\" xlink:href=\"#DejaVuSans-116\"/>\n      </g>\n     </g>\n    </g>\n    <g id=\"xtick_16\">\n     <g id=\"line2d_16\">\n      <g>\n       <use style=\"stroke:#000000;stroke-width:0.8;\" x=\"444.090625\" xlink:href=\"#m93512cdd14\" y=\"224.64\"/>\n      </g>\n     </g>\n     <g id=\"text_16\">\n      <!-- crime -->\n      <g transform=\"translate(439.410001 259.9315)rotate(-60)scale(0.1 -0.1)\">\n       <use xlink:href=\"#DejaVuSans-99\"/>\n       <use x=\"54.980469\" xlink:href=\"#DejaVuSans-114\"/>\n       <use x=\"96.09375\" xlink:href=\"#DejaVuSans-105\"/>\n       <use x=\"123.876953\" xlink:href=\"#DejaVuSans-109\"/>\n       <use x=\"221.289062\" xlink:href=\"#DejaVuSans-101\"/>\n      </g>\n     </g>\n    </g>\n    <g id=\"xtick_17\">\n     <g id=\"line2d_17\">\n      <g>\n       <use style=\"stroke:#000000;stroke-width:0.8;\" x=\"468.890625\" xlink:href=\"#m93512cdd14\" y=\"224.64\"/>\n      </g>\n     </g>\n     <g id=\"text_17\">\n      <!-- animation -->\n      <g transform=\"translate(458.713517 278.97188)rotate(-60)scale(0.1 -0.1)\">\n       <use xlink:href=\"#DejaVuSans-97\"/>\n       <use x=\"61.279297\" xlink:href=\"#DejaVuSans-110\"/>\n       <use x=\"124.658203\" xlink:href=\"#DejaVuSans-105\"/>\n       <use x=\"152.441406\" xlink:href=\"#DejaVuSans-109\"/>\n       <use x=\"249.853516\" xlink:href=\"#DejaVuSans-97\"/>\n       <use x=\"311.132812\" xlink:href=\"#DejaVuSans-116\"/>\n       <use x=\"350.341797\" xlink:href=\"#DejaVuSans-105\"/>\n       <use x=\"378.125\" xlink:href=\"#DejaVuSans-111\"/>\n       <use x=\"439.306641\" xlink:href=\"#DejaVuSans-110\"/>\n      </g>\n     </g>\n    </g>\n    <g id=\"xtick_18\">\n     <g id=\"line2d_18\">\n      <g>\n       <use style=\"stroke:#000000;stroke-width:0.8;\" x=\"493.690625\" xlink:href=\"#m93512cdd14\" y=\"224.64\"/>\n      </g>\n     </g>\n     <g id=\"text_18\">\n      <!-- sport -->\n      <g transform=\"translate(489.653361 257.702837)rotate(-60)scale(0.1 -0.1)\">\n       <defs>\n        <path d=\"M 18.109375 8.203125 \nL 18.109375 -20.796875 \nL 9.078125 -20.796875 \nL 9.078125 54.6875 \nL 18.109375 54.6875 \nL 18.109375 46.390625 \nQ 20.953125 51.265625 25.265625 53.625 \nQ 29.59375 56 35.59375 56 \nQ 45.5625 56 51.78125 48.09375 \nQ 58.015625 40.1875 58.015625 27.296875 \nQ 58.015625 14.40625 51.78125 6.484375 \nQ 45.5625 -1.421875 35.59375 -1.421875 \nQ 29.59375 -1.421875 25.265625 0.953125 \nQ 20.953125 3.328125 18.109375 8.203125 \nz\nM 48.6875 27.296875 \nQ 48.6875 37.203125 44.609375 42.84375 \nQ 40.53125 48.484375 33.40625 48.484375 \nQ 26.265625 48.484375 22.1875 42.84375 \nQ 18.109375 37.203125 18.109375 27.296875 \nQ 18.109375 17.390625 22.1875 11.75 \nQ 26.265625 6.109375 33.40625 6.109375 \nQ 40.53125 6.109375 44.609375 11.75 \nQ 48.6875 17.390625 48.6875 27.296875 \nz\n\" id=\"DejaVuSans-112\"/>\n       </defs>\n       <use xlink:href=\"#DejaVuSans-115\"/>\n       <use x=\"52.099609\" xlink:href=\"#DejaVuSans-112\"/>\n       <use x=\"115.576172\" xlink:href=\"#DejaVuSans-111\"/>\n       <use x=\"176.757812\" xlink:href=\"#DejaVuSans-114\"/>\n       <use x=\"217.871094\" xlink:href=\"#DejaVuSans-116\"/>\n      </g>\n     </g>\n    </g>\n    <g id=\"xtick_19\">\n     <g id=\"line2d_19\">\n      <g>\n       <use style=\"stroke:#000000;stroke-width:0.8;\" x=\"518.490625\" xlink:href=\"#m93512cdd14\" y=\"224.64\"/>\n      </g>\n     </g>\n     <g id=\"text_19\">\n      <!-- talk-show -->\n      <g transform=\"translate(508.863126 277.067977)rotate(-60)scale(0.1 -0.1)\">\n       <defs>\n        <path d=\"M 9.078125 75.984375 \nL 18.109375 75.984375 \nL 18.109375 31.109375 \nL 44.921875 54.6875 \nL 56.390625 54.6875 \nL 27.390625 29.109375 \nL 57.625 0 \nL 45.90625 0 \nL 18.109375 26.703125 \nL 18.109375 0 \nL 9.078125 0 \nz\n\" id=\"DejaVuSans-107\"/>\n       </defs>\n       <use xlink:href=\"#DejaVuSans-116\"/>\n       <use x=\"39.208984\" xlink:href=\"#DejaVuSans-97\"/>\n       <use x=\"100.488281\" xlink:href=\"#DejaVuSans-108\"/>\n       <use x=\"128.271484\" xlink:href=\"#DejaVuSans-107\"/>\n       <use x=\"186.181641\" xlink:href=\"#DejaVuSans-45\"/>\n       <use x=\"222.265625\" xlink:href=\"#DejaVuSans-115\"/>\n       <use x=\"274.365234\" xlink:href=\"#DejaVuSans-104\"/>\n       <use x=\"337.744141\" xlink:href=\"#DejaVuSans-111\"/>\n       <use x=\"398.925781\" xlink:href=\"#DejaVuSans-119\"/>\n      </g>\n     </g>\n    </g>\n    <g id=\"xtick_20\">\n     <g id=\"line2d_20\">\n      <g>\n       <use style=\"stroke:#000000;stroke-width:0.8;\" x=\"543.290625\" xlink:href=\"#m93512cdd14\" y=\"224.64\"/>\n      </g>\n     </g>\n     <g id=\"text_20\">\n      <!-- fantasy -->\n      <g transform=\"translate(536.389689 267.622888)rotate(-60)scale(0.1 -0.1)\">\n       <use xlink:href=\"#DejaVuSans-102\"/>\n       <use x=\"35.205078\" xlink:href=\"#DejaVuSans-97\"/>\n       <use x=\"96.484375\" xlink:href=\"#DejaVuSans-110\"/>\n       <use x=\"159.863281\" xlink:href=\"#DejaVuSans-116\"/>\n       <use x=\"199.072266\" xlink:href=\"#DejaVuSans-97\"/>\n       <use x=\"260.351562\" xlink:href=\"#DejaVuSans-115\"/>\n       <use x=\"312.451172\" xlink:href=\"#DejaVuSans-121\"/>\n      </g>\n     </g>\n    </g>\n    <g id=\"xtick_21\">\n     <g id=\"line2d_21\">\n      <g>\n       <use style=\"stroke:#000000;stroke-width:0.8;\" x=\"568.090625\" xlink:href=\"#m93512cdd14\" y=\"224.64\"/>\n      </g>\n     </g>\n     <g id=\"text_21\">\n      <!-- mystery -->\n      <g transform=\"translate(560.237345 270.921903)rotate(-60)scale(0.1 -0.1)\">\n       <use xlink:href=\"#DejaVuSans-109\"/>\n       <use x=\"97.412109\" xlink:href=\"#DejaVuSans-121\"/>\n       <use x=\"156.591797\" xlink:href=\"#DejaVuSans-115\"/>\n       <use x=\"208.691406\" xlink:href=\"#DejaVuSans-116\"/>\n       <use x=\"247.900391\" xlink:href=\"#DejaVuSans-101\"/>\n       <use x=\"309.423828\" xlink:href=\"#DejaVuSans-114\"/>\n       <use x=\"350.537109\" xlink:href=\"#DejaVuSans-121\"/>\n      </g>\n     </g>\n    </g>\n    <g id=\"xtick_22\">\n     <g id=\"line2d_22\">\n      <g>\n       <use style=\"stroke:#000000;stroke-width:0.8;\" x=\"592.890625\" xlink:href=\"#m93512cdd14\" y=\"224.64\"/>\n      </g>\n     </g>\n     <g id=\"text_22\">\n      <!-- musical -->\n      <g transform=\"translate(585.662736 268.755487)rotate(-60)scale(0.1 -0.1)\">\n       <use xlink:href=\"#DejaVuSans-109\"/>\n       <use x=\"97.412109\" xlink:href=\"#DejaVuSans-117\"/>\n       <use x=\"160.791016\" xlink:href=\"#DejaVuSans-115\"/>\n       <use x=\"212.890625\" xlink:href=\"#DejaVuSans-105\"/>\n       <use x=\"240.673828\" xlink:href=\"#DejaVuSans-99\"/>\n       <use x=\"295.654297\" xlink:href=\"#DejaVuSans-97\"/>\n       <use x=\"356.933594\" xlink:href=\"#DejaVuSans-108\"/>\n      </g>\n     </g>\n    </g>\n    <g id=\"xtick_23\">\n     <g id=\"line2d_23\">\n      <g>\n       <use style=\"stroke:#000000;stroke-width:0.8;\" x=\"617.690625\" xlink:href=\"#m93512cdd14\" y=\"224.64\"/>\n      </g>\n     </g>\n     <g id=\"text_23\">\n      <!-- biography -->\n      <g transform=\"translate(607.470939 279.119375)rotate(-60)scale(0.1 -0.1)\">\n       <defs>\n        <path d=\"M 48.6875 27.296875 \nQ 48.6875 37.203125 44.609375 42.84375 \nQ 40.53125 48.484375 33.40625 48.484375 \nQ 26.265625 48.484375 22.1875 42.84375 \nQ 18.109375 37.203125 18.109375 27.296875 \nQ 18.109375 17.390625 22.1875 11.75 \nQ 26.265625 6.109375 33.40625 6.109375 \nQ 40.53125 6.109375 44.609375 11.75 \nQ 48.6875 17.390625 48.6875 27.296875 \nz\nM 18.109375 46.390625 \nQ 20.953125 51.265625 25.265625 53.625 \nQ 29.59375 56 35.59375 56 \nQ 45.5625 56 51.78125 48.09375 \nQ 58.015625 40.1875 58.015625 27.296875 \nQ 58.015625 14.40625 51.78125 6.484375 \nQ 45.5625 -1.421875 35.59375 -1.421875 \nQ 29.59375 -1.421875 25.265625 0.953125 \nQ 20.953125 3.328125 18.109375 8.203125 \nL 18.109375 0 \nL 9.078125 0 \nL 9.078125 75.984375 \nL 18.109375 75.984375 \nz\n\" id=\"DejaVuSans-98\"/>\n        <path d=\"M 45.40625 27.984375 \nQ 45.40625 37.75 41.375 43.109375 \nQ 37.359375 48.484375 30.078125 48.484375 \nQ 22.859375 48.484375 18.828125 43.109375 \nQ 14.796875 37.75 14.796875 27.984375 \nQ 14.796875 18.265625 18.828125 12.890625 \nQ 22.859375 7.515625 30.078125 7.515625 \nQ 37.359375 7.515625 41.375 12.890625 \nQ 45.40625 18.265625 45.40625 27.984375 \nz\nM 54.390625 6.78125 \nQ 54.390625 -7.171875 48.1875 -13.984375 \nQ 42 -20.796875 29.203125 -20.796875 \nQ 24.46875 -20.796875 20.265625 -20.09375 \nQ 16.0625 -19.390625 12.109375 -17.921875 \nL 12.109375 -9.1875 \nQ 16.0625 -11.328125 19.921875 -12.34375 \nQ 23.78125 -13.375 27.78125 -13.375 \nQ 36.625 -13.375 41.015625 -8.765625 \nQ 45.40625 -4.15625 45.40625 5.171875 \nL 45.40625 9.625 \nQ 42.625 4.78125 38.28125 2.390625 \nQ 33.9375 0 27.875 0 \nQ 17.828125 0 11.671875 7.65625 \nQ 5.515625 15.328125 5.515625 27.984375 \nQ 5.515625 40.671875 11.671875 48.328125 \nQ 17.828125 56 27.875 56 \nQ 33.9375 56 38.28125 53.609375 \nQ 42.625 51.21875 45.40625 46.390625 \nL 45.40625 54.6875 \nL 54.390625 54.6875 \nz\n\" id=\"DejaVuSans-103\"/>\n       </defs>\n       <use xlink:href=\"#DejaVuSans-98\"/>\n       <use x=\"63.476562\" xlink:href=\"#DejaVuSans-105\"/>\n       <use x=\"91.259766\" xlink:href=\"#DejaVuSans-111\"/>\n       <use x=\"152.441406\" xlink:href=\"#DejaVuSans-103\"/>\n       <use x=\"215.917969\" xlink:href=\"#DejaVuSans-114\"/>\n       <use x=\"257.03125\" xlink:href=\"#DejaVuSans-97\"/>\n       <use x=\"318.310547\" xlink:href=\"#DejaVuSans-112\"/>\n       <use x=\"381.787109\" xlink:href=\"#DejaVuSans-104\"/>\n       <use x=\"445.166016\" xlink:href=\"#DejaVuSans-121\"/>\n      </g>\n     </g>\n    </g>\n    <g id=\"xtick_24\">\n     <g id=\"line2d_24\">\n      <g>\n       <use style=\"stroke:#000000;stroke-width:0.8;\" x=\"642.490625\" xlink:href=\"#m93512cdd14\" y=\"224.64\"/>\n      </g>\n     </g>\n     <g id=\"text_24\">\n      <!-- history -->\n      <g transform=\"translate(636.281876 265.22508)rotate(-60)scale(0.1 -0.1)\">\n       <use xlink:href=\"#DejaVuSans-104\"/>\n       <use x=\"63.378906\" xlink:href=\"#DejaVuSans-105\"/>\n       <use x=\"91.162109\" xlink:href=\"#DejaVuSans-115\"/>\n       <use x=\"143.261719\" xlink:href=\"#DejaVuSans-116\"/>\n       <use x=\"182.470703\" xlink:href=\"#DejaVuSans-111\"/>\n       <use x=\"243.652344\" xlink:href=\"#DejaVuSans-114\"/>\n       <use x=\"284.765625\" xlink:href=\"#DejaVuSans-121\"/>\n      </g>\n     </g>\n    </g>\n    <g id=\"xtick_25\">\n     <g id=\"line2d_25\">\n      <g>\n       <use style=\"stroke:#000000;stroke-width:0.8;\" x=\"667.290625\" xlink:href=\"#m93512cdd14\" y=\"224.64\"/>\n      </g>\n     </g>\n     <g id=\"text_25\">\n      <!-- game-show -->\n      <g transform=\"translate(655.224845 285.514431)rotate(-60)scale(0.1 -0.1)\">\n       <use xlink:href=\"#DejaVuSans-103\"/>\n       <use x=\"63.476562\" xlink:href=\"#DejaVuSans-97\"/>\n       <use x=\"124.755859\" xlink:href=\"#DejaVuSans-109\"/>\n       <use x=\"222.167969\" xlink:href=\"#DejaVuSans-101\"/>\n       <use x=\"283.691406\" xlink:href=\"#DejaVuSans-45\"/>\n       <use x=\"319.775391\" xlink:href=\"#DejaVuSans-115\"/>\n       <use x=\"371.875\" xlink:href=\"#DejaVuSans-104\"/>\n       <use x=\"435.253906\" xlink:href=\"#DejaVuSans-111\"/>\n       <use x=\"496.435547\" xlink:href=\"#DejaVuSans-119\"/>\n      </g>\n     </g>\n    </g>\n    <g id=\"xtick_26\">\n     <g id=\"line2d_26\">\n      <g>\n       <use style=\"stroke:#000000;stroke-width:0.8;\" x=\"692.090625\" xlink:href=\"#m93512cdd14\" y=\"224.64\"/>\n      </g>\n     </g>\n     <g id=\"text_26\">\n      <!-- news -->\n      <g transform=\"translate(688.010783 257.850332)rotate(-60)scale(0.1 -0.1)\">\n       <use xlink:href=\"#DejaVuSans-110\"/>\n       <use x=\"63.378906\" xlink:href=\"#DejaVuSans-101\"/>\n       <use x=\"124.902344\" xlink:href=\"#DejaVuSans-119\"/>\n       <use x=\"206.689453\" xlink:href=\"#DejaVuSans-115\"/>\n      </g>\n     </g>\n    </g>\n    <g id=\"xtick_27\">\n     <g id=\"line2d_27\">\n      <g>\n       <use style=\"stroke:#000000;stroke-width:0.8;\" x=\"716.890625\" xlink:href=\"#m93512cdd14\" y=\"224.64\"/>\n      </g>\n     </g>\n     <g id=\"text_27\">\n      <!-- war -->\n      <g transform=\"translate(714.676017 251.388971)rotate(-60)scale(0.1 -0.1)\">\n       <use xlink:href=\"#DejaVuSans-119\"/>\n       <use x=\"81.787109\" xlink:href=\"#DejaVuSans-97\"/>\n       <use x=\"143.066406\" xlink:href=\"#DejaVuSans-114\"/>\n      </g>\n     </g>\n    </g>\n    <g id=\"text_28\">\n     <!-- Genres -->\n     <g transform=\"translate(376.746875 305.765617)scale(0.1 -0.1)\">\n      <defs>\n       <path d=\"M 59.515625 10.40625 \nL 59.515625 29.984375 \nL 43.40625 29.984375 \nL 43.40625 38.09375 \nL 69.28125 38.09375 \nL 69.28125 6.78125 \nQ 63.578125 2.734375 56.6875 0.65625 \nQ 49.8125 -1.421875 42 -1.421875 \nQ 24.90625 -1.421875 15.25 8.5625 \nQ 5.609375 18.5625 5.609375 36.375 \nQ 5.609375 54.25 15.25 64.234375 \nQ 24.90625 74.21875 42 74.21875 \nQ 49.125 74.21875 55.546875 72.453125 \nQ 61.96875 70.703125 67.390625 67.28125 \nL 67.390625 56.78125 \nQ 61.921875 61.421875 55.765625 63.765625 \nQ 49.609375 66.109375 42.828125 66.109375 \nQ 29.4375 66.109375 22.71875 58.640625 \nQ 16.015625 51.171875 16.015625 36.375 \nQ 16.015625 21.625 22.71875 14.15625 \nQ 29.4375 6.6875 42.828125 6.6875 \nQ 48.046875 6.6875 52.140625 7.59375 \nQ 56.25 8.5 59.515625 10.40625 \nz\n\" id=\"DejaVuSans-71\"/>\n      </defs>\n      <use xlink:href=\"#DejaVuSans-71\"/>\n      <use x=\"77.490234\" xlink:href=\"#DejaVuSans-101\"/>\n      <use x=\"139.013672\" xlink:href=\"#DejaVuSans-110\"/>\n      <use x=\"202.392578\" xlink:href=\"#DejaVuSans-114\"/>\n      <use x=\"241.255859\" xlink:href=\"#DejaVuSans-101\"/>\n      <use x=\"302.779297\" xlink:href=\"#DejaVuSans-115\"/>\n     </g>\n    </g>\n   </g>\n   <g id=\"matplotlib.axis_2\">\n    <g id=\"ytick_1\">\n     <g id=\"line2d_28\">\n      <defs>\n       <path d=\"M 0 0 \nL -3.5 0 \n\" id=\"m58bd8a1471\" style=\"stroke:#000000;stroke-width:0.8;\"/>\n      </defs>\n      <g>\n       <use style=\"stroke:#000000;stroke-width:0.8;\" x=\"59.690625\" xlink:href=\"#m58bd8a1471\" y=\"224.64\"/>\n      </g>\n     </g>\n     <g id=\"text_29\">\n      <!-- 0 -->\n      <g transform=\"translate(46.328125 228.439219)scale(0.1 -0.1)\">\n       <defs>\n        <path d=\"M 31.78125 66.40625 \nQ 24.171875 66.40625 20.328125 58.90625 \nQ 16.5 51.421875 16.5 36.375 \nQ 16.5 21.390625 20.328125 13.890625 \nQ 24.171875 6.390625 31.78125 6.390625 \nQ 39.453125 6.390625 43.28125 13.890625 \nQ 47.125 21.390625 47.125 36.375 \nQ 47.125 51.421875 43.28125 58.90625 \nQ 39.453125 66.40625 31.78125 66.40625 \nz\nM 31.78125 74.21875 \nQ 44.046875 74.21875 50.515625 64.515625 \nQ 56.984375 54.828125 56.984375 36.375 \nQ 56.984375 17.96875 50.515625 8.265625 \nQ 44.046875 -1.421875 31.78125 -1.421875 \nQ 19.53125 -1.421875 13.0625 8.265625 \nQ 6.59375 17.96875 6.59375 36.375 \nQ 6.59375 54.828125 13.0625 64.515625 \nQ 19.53125 74.21875 31.78125 74.21875 \nz\n\" id=\"DejaVuSans-48\"/>\n       </defs>\n       <use xlink:href=\"#DejaVuSans-48\"/>\n      </g>\n     </g>\n    </g>\n    <g id=\"ytick_2\">\n     <g id=\"line2d_29\">\n      <g>\n       <use style=\"stroke:#000000;stroke-width:0.8;\" x=\"59.690625\" xlink:href=\"#m58bd8a1471\" y=\"194.215301\"/>\n      </g>\n     </g>\n     <g id=\"text_30\">\n      <!-- 2000 -->\n      <g transform=\"translate(27.240625 198.01452)scale(0.1 -0.1)\">\n       <defs>\n        <path d=\"M 19.1875 8.296875 \nL 53.609375 8.296875 \nL 53.609375 0 \nL 7.328125 0 \nL 7.328125 8.296875 \nQ 12.9375 14.109375 22.625 23.890625 \nQ 32.328125 33.6875 34.8125 36.53125 \nQ 39.546875 41.84375 41.421875 45.53125 \nQ 43.3125 49.21875 43.3125 52.78125 \nQ 43.3125 58.59375 39.234375 62.25 \nQ 35.15625 65.921875 28.609375 65.921875 \nQ 23.96875 65.921875 18.8125 64.3125 \nQ 13.671875 62.703125 7.8125 59.421875 \nL 7.8125 69.390625 \nQ 13.765625 71.78125 18.9375 73 \nQ 24.125 74.21875 28.421875 74.21875 \nQ 39.75 74.21875 46.484375 68.546875 \nQ 53.21875 62.890625 53.21875 53.421875 \nQ 53.21875 48.921875 51.53125 44.890625 \nQ 49.859375 40.875 45.40625 35.40625 \nQ 44.1875 33.984375 37.640625 27.21875 \nQ 31.109375 20.453125 19.1875 8.296875 \nz\n\" id=\"DejaVuSans-50\"/>\n       </defs>\n       <use xlink:href=\"#DejaVuSans-50\"/>\n       <use x=\"63.623047\" xlink:href=\"#DejaVuSans-48\"/>\n       <use x=\"127.246094\" xlink:href=\"#DejaVuSans-48\"/>\n       <use x=\"190.869141\" xlink:href=\"#DejaVuSans-48\"/>\n      </g>\n     </g>\n    </g>\n    <g id=\"ytick_3\">\n     <g id=\"line2d_30\">\n      <g>\n       <use style=\"stroke:#000000;stroke-width:0.8;\" x=\"59.690625\" xlink:href=\"#m58bd8a1471\" y=\"163.790602\"/>\n      </g>\n     </g>\n     <g id=\"text_31\">\n      <!-- 4000 -->\n      <g transform=\"translate(27.240625 167.589821)scale(0.1 -0.1)\">\n       <defs>\n        <path d=\"M 37.796875 64.3125 \nL 12.890625 25.390625 \nL 37.796875 25.390625 \nz\nM 35.203125 72.90625 \nL 47.609375 72.90625 \nL 47.609375 25.390625 \nL 58.015625 25.390625 \nL 58.015625 17.1875 \nL 47.609375 17.1875 \nL 47.609375 0 \nL 37.796875 0 \nL 37.796875 17.1875 \nL 4.890625 17.1875 \nL 4.890625 26.703125 \nz\n\" id=\"DejaVuSans-52\"/>\n       </defs>\n       <use xlink:href=\"#DejaVuSans-52\"/>\n       <use x=\"63.623047\" xlink:href=\"#DejaVuSans-48\"/>\n       <use x=\"127.246094\" xlink:href=\"#DejaVuSans-48\"/>\n       <use x=\"190.869141\" xlink:href=\"#DejaVuSans-48\"/>\n      </g>\n     </g>\n    </g>\n    <g id=\"ytick_4\">\n     <g id=\"line2d_31\">\n      <g>\n       <use style=\"stroke:#000000;stroke-width:0.8;\" x=\"59.690625\" xlink:href=\"#m58bd8a1471\" y=\"133.365903\"/>\n      </g>\n     </g>\n     <g id=\"text_32\">\n      <!-- 6000 -->\n      <g transform=\"translate(27.240625 137.165122)scale(0.1 -0.1)\">\n       <defs>\n        <path d=\"M 33.015625 40.375 \nQ 26.375 40.375 22.484375 35.828125 \nQ 18.609375 31.296875 18.609375 23.390625 \nQ 18.609375 15.53125 22.484375 10.953125 \nQ 26.375 6.390625 33.015625 6.390625 \nQ 39.65625 6.390625 43.53125 10.953125 \nQ 47.40625 15.53125 47.40625 23.390625 \nQ 47.40625 31.296875 43.53125 35.828125 \nQ 39.65625 40.375 33.015625 40.375 \nz\nM 52.59375 71.296875 \nL 52.59375 62.3125 \nQ 48.875 64.0625 45.09375 64.984375 \nQ 41.3125 65.921875 37.59375 65.921875 \nQ 27.828125 65.921875 22.671875 59.328125 \nQ 17.53125 52.734375 16.796875 39.40625 \nQ 19.671875 43.65625 24.015625 45.921875 \nQ 28.375 48.1875 33.59375 48.1875 \nQ 44.578125 48.1875 50.953125 41.515625 \nQ 57.328125 34.859375 57.328125 23.390625 \nQ 57.328125 12.15625 50.6875 5.359375 \nQ 44.046875 -1.421875 33.015625 -1.421875 \nQ 20.359375 -1.421875 13.671875 8.265625 \nQ 6.984375 17.96875 6.984375 36.375 \nQ 6.984375 53.65625 15.1875 63.9375 \nQ 23.390625 74.21875 37.203125 74.21875 \nQ 40.921875 74.21875 44.703125 73.484375 \nQ 48.484375 72.75 52.59375 71.296875 \nz\n\" id=\"DejaVuSans-54\"/>\n       </defs>\n       <use xlink:href=\"#DejaVuSans-54\"/>\n       <use x=\"63.623047\" xlink:href=\"#DejaVuSans-48\"/>\n       <use x=\"127.246094\" xlink:href=\"#DejaVuSans-48\"/>\n       <use x=\"190.869141\" xlink:href=\"#DejaVuSans-48\"/>\n      </g>\n     </g>\n    </g>\n    <g id=\"ytick_5\">\n     <g id=\"line2d_32\">\n      <g>\n       <use style=\"stroke:#000000;stroke-width:0.8;\" x=\"59.690625\" xlink:href=\"#m58bd8a1471\" y=\"102.941204\"/>\n      </g>\n     </g>\n     <g id=\"text_33\">\n      <!-- 8000 -->\n      <g transform=\"translate(27.240625 106.740422)scale(0.1 -0.1)\">\n       <defs>\n        <path d=\"M 31.78125 34.625 \nQ 24.75 34.625 20.71875 30.859375 \nQ 16.703125 27.09375 16.703125 20.515625 \nQ 16.703125 13.921875 20.71875 10.15625 \nQ 24.75 6.390625 31.78125 6.390625 \nQ 38.8125 6.390625 42.859375 10.171875 \nQ 46.921875 13.96875 46.921875 20.515625 \nQ 46.921875 27.09375 42.890625 30.859375 \nQ 38.875 34.625 31.78125 34.625 \nz\nM 21.921875 38.8125 \nQ 15.578125 40.375 12.03125 44.71875 \nQ 8.5 49.078125 8.5 55.328125 \nQ 8.5 64.0625 14.71875 69.140625 \nQ 20.953125 74.21875 31.78125 74.21875 \nQ 42.671875 74.21875 48.875 69.140625 \nQ 55.078125 64.0625 55.078125 55.328125 \nQ 55.078125 49.078125 51.53125 44.71875 \nQ 48 40.375 41.703125 38.8125 \nQ 48.828125 37.15625 52.796875 32.3125 \nQ 56.78125 27.484375 56.78125 20.515625 \nQ 56.78125 9.90625 50.3125 4.234375 \nQ 43.84375 -1.421875 31.78125 -1.421875 \nQ 19.734375 -1.421875 13.25 4.234375 \nQ 6.78125 9.90625 6.78125 20.515625 \nQ 6.78125 27.484375 10.78125 32.3125 \nQ 14.796875 37.15625 21.921875 38.8125 \nz\nM 18.3125 54.390625 \nQ 18.3125 48.734375 21.84375 45.5625 \nQ 25.390625 42.390625 31.78125 42.390625 \nQ 38.140625 42.390625 41.71875 45.5625 \nQ 45.3125 48.734375 45.3125 54.390625 \nQ 45.3125 60.0625 41.71875 63.234375 \nQ 38.140625 66.40625 31.78125 66.40625 \nQ 25.390625 66.40625 21.84375 63.234375 \nQ 18.3125 60.0625 18.3125 54.390625 \nz\n\" id=\"DejaVuSans-56\"/>\n       </defs>\n       <use xlink:href=\"#DejaVuSans-56\"/>\n       <use x=\"63.623047\" xlink:href=\"#DejaVuSans-48\"/>\n       <use x=\"127.246094\" xlink:href=\"#DejaVuSans-48\"/>\n       <use x=\"190.869141\" xlink:href=\"#DejaVuSans-48\"/>\n      </g>\n     </g>\n    </g>\n    <g id=\"ytick_6\">\n     <g id=\"line2d_33\">\n      <g>\n       <use style=\"stroke:#000000;stroke-width:0.8;\" x=\"59.690625\" xlink:href=\"#m58bd8a1471\" y=\"72.516505\"/>\n      </g>\n     </g>\n     <g id=\"text_34\">\n      <!-- 10000 -->\n      <g transform=\"translate(20.878125 76.315723)scale(0.1 -0.1)\">\n       <defs>\n        <path d=\"M 12.40625 8.296875 \nL 28.515625 8.296875 \nL 28.515625 63.921875 \nL 10.984375 60.40625 \nL 10.984375 69.390625 \nL 28.421875 72.90625 \nL 38.28125 72.90625 \nL 38.28125 8.296875 \nL 54.390625 8.296875 \nL 54.390625 0 \nL 12.40625 0 \nz\n\" id=\"DejaVuSans-49\"/>\n       </defs>\n       <use xlink:href=\"#DejaVuSans-49\"/>\n       <use x=\"63.623047\" xlink:href=\"#DejaVuSans-48\"/>\n       <use x=\"127.246094\" xlink:href=\"#DejaVuSans-48\"/>\n       <use x=\"190.869141\" xlink:href=\"#DejaVuSans-48\"/>\n       <use x=\"254.492188\" xlink:href=\"#DejaVuSans-48\"/>\n      </g>\n     </g>\n    </g>\n    <g id=\"ytick_7\">\n     <g id=\"line2d_34\">\n      <g>\n       <use style=\"stroke:#000000;stroke-width:0.8;\" x=\"59.690625\" xlink:href=\"#m58bd8a1471\" y=\"42.091806\"/>\n      </g>\n     </g>\n     <g id=\"text_35\">\n      <!-- 12000 -->\n      <g transform=\"translate(20.878125 45.891024)scale(0.1 -0.1)\">\n       <use xlink:href=\"#DejaVuSans-49\"/>\n       <use x=\"63.623047\" xlink:href=\"#DejaVuSans-50\"/>\n       <use x=\"127.246094\" xlink:href=\"#DejaVuSans-48\"/>\n       <use x=\"190.869141\" xlink:href=\"#DejaVuSans-48\"/>\n       <use x=\"254.492188\" xlink:href=\"#DejaVuSans-48\"/>\n      </g>\n     </g>\n    </g>\n    <g id=\"ytick_8\">\n     <g id=\"line2d_35\">\n      <g>\n       <use style=\"stroke:#000000;stroke-width:0.8;\" x=\"59.690625\" xlink:href=\"#m58bd8a1471\" y=\"11.667106\"/>\n      </g>\n     </g>\n     <g id=\"text_36\">\n      <!-- 14000 -->\n      <g transform=\"translate(20.878125 15.466325)scale(0.1 -0.1)\">\n       <use xlink:href=\"#DejaVuSans-49\"/>\n       <use x=\"63.623047\" xlink:href=\"#DejaVuSans-52\"/>\n       <use x=\"127.246094\" xlink:href=\"#DejaVuSans-48\"/>\n       <use x=\"190.869141\" xlink:href=\"#DejaVuSans-48\"/>\n       <use x=\"254.492188\" xlink:href=\"#DejaVuSans-48\"/>\n      </g>\n     </g>\n    </g>\n    <g id=\"text_37\">\n     <!-- Counts -->\n     <g transform=\"translate(14.798438 133.373125)rotate(-90)scale(0.1 -0.1)\">\n      <defs>\n       <path d=\"M 64.40625 67.28125 \nL 64.40625 56.890625 \nQ 59.421875 61.53125 53.78125 63.8125 \nQ 48.140625 66.109375 41.796875 66.109375 \nQ 29.296875 66.109375 22.65625 58.46875 \nQ 16.015625 50.828125 16.015625 36.375 \nQ 16.015625 21.96875 22.65625 14.328125 \nQ 29.296875 6.6875 41.796875 6.6875 \nQ 48.140625 6.6875 53.78125 8.984375 \nQ 59.421875 11.28125 64.40625 15.921875 \nL 64.40625 5.609375 \nQ 59.234375 2.09375 53.4375 0.328125 \nQ 47.65625 -1.421875 41.21875 -1.421875 \nQ 24.65625 -1.421875 15.125 8.703125 \nQ 5.609375 18.84375 5.609375 36.375 \nQ 5.609375 53.953125 15.125 64.078125 \nQ 24.65625 74.21875 41.21875 74.21875 \nQ 47.75 74.21875 53.53125 72.484375 \nQ 59.328125 70.75 64.40625 67.28125 \nz\n\" id=\"DejaVuSans-67\"/>\n      </defs>\n      <use xlink:href=\"#DejaVuSans-67\"/>\n      <use x=\"69.824219\" xlink:href=\"#DejaVuSans-111\"/>\n      <use x=\"131.005859\" xlink:href=\"#DejaVuSans-117\"/>\n      <use x=\"194.384766\" xlink:href=\"#DejaVuSans-110\"/>\n      <use x=\"257.763672\" xlink:href=\"#DejaVuSans-116\"/>\n      <use x=\"296.972656\" xlink:href=\"#DejaVuSans-115\"/>\n     </g>\n    </g>\n   </g>\n   <g id=\"patch_30\">\n    <path d=\"M 59.690625 224.64 \nL 59.690625 7.2 \n\" style=\"fill:none;stroke:#000000;stroke-linecap:square;stroke-linejoin:miter;stroke-width:0.8;\"/>\n   </g>\n   <g id=\"patch_31\">\n    <path d=\"M 729.290625 224.64 \nL 729.290625 7.2 \n\" style=\"fill:none;stroke:#000000;stroke-linecap:square;stroke-linejoin:miter;stroke-width:0.8;\"/>\n   </g>\n   <g id=\"patch_32\">\n    <path d=\"M 59.690625 224.64 \nL 729.290625 224.64 \n\" style=\"fill:none;stroke:#000000;stroke-linecap:square;stroke-linejoin:miter;stroke-width:0.8;\"/>\n   </g>\n   <g id=\"patch_33\">\n    <path d=\"M 59.690625 7.2 \nL 729.290625 7.2 \n\" style=\"fill:none;stroke:#000000;stroke-linecap:square;stroke-linejoin:miter;stroke-width:0.8;\"/>\n   </g>\n  </g>\n </g>\n <defs>\n  <clipPath id=\"p41ba248ed9\">\n   <rect height=\"217.44\" width=\"669.6\" x=\"59.690625\" y=\"7.2\"/>\n  </clipPath>\n </defs>\n</svg>\n"
     },
     "metadata": {
      "needs_background": "light"
     }
    }
   ],
   "source": [
    "train.genre.value_counts().plot(kind='bar',figsize=(12,4),fontsize=10)\n",
    "plt.xticks(rotation=60)\n",
    "plt.xlabel(\"Genres\",fontsize=10)\n",
    "plt.ylabel(\"Counts\",fontsize=10)"
   ]
  },
  {
   "cell_type": "markdown",
   "metadata": {},
   "source": [
    "### TEST"
   ]
  },
  {
   "cell_type": "code",
   "execution_count": 9,
   "metadata": {},
   "outputs": [
    {
     "output_type": "execute_result",
     "data": {
      "text/plain": [
       "                            name  \\\n",
       "0          Edgar's Lunch (1998)    \n",
       "1      La guerra de papá (1977)    \n",
       "2   Off the Beaten Track (2010)    \n",
       "3        Meu Amigo Hindu (2015)    \n",
       "4             Er nu zhai (1955)    \n",
       "\n",
       "                                                text  \n",
       "0   L.R. Brane loves his life - his car, his apar...  \n",
       "1   Spain, March 1964: Quico is a very naughty ch...  \n",
       "2   One year in the life of Albin and his family ...  \n",
       "3   His father has died, he hasn't spoken with hi...  \n",
       "4   Before he was known internationally as a mart...  "
      ],
      "text/html": "<div>\n<style scoped>\n    .dataframe tbody tr th:only-of-type {\n        vertical-align: middle;\n    }\n\n    .dataframe tbody tr th {\n        vertical-align: top;\n    }\n\n    .dataframe thead th {\n        text-align: right;\n    }\n</style>\n<table border=\"1\" class=\"dataframe\">\n  <thead>\n    <tr style=\"text-align: right;\">\n      <th></th>\n      <th>name</th>\n      <th>text</th>\n    </tr>\n  </thead>\n  <tbody>\n    <tr>\n      <th>0</th>\n      <td>Edgar's Lunch (1998)</td>\n      <td>L.R. Brane loves his life - his car, his apar...</td>\n    </tr>\n    <tr>\n      <th>1</th>\n      <td>La guerra de papá (1977)</td>\n      <td>Spain, March 1964: Quico is a very naughty ch...</td>\n    </tr>\n    <tr>\n      <th>2</th>\n      <td>Off the Beaten Track (2010)</td>\n      <td>One year in the life of Albin and his family ...</td>\n    </tr>\n    <tr>\n      <th>3</th>\n      <td>Meu Amigo Hindu (2015)</td>\n      <td>His father has died, he hasn't spoken with hi...</td>\n    </tr>\n    <tr>\n      <th>4</th>\n      <td>Er nu zhai (1955)</td>\n      <td>Before he was known internationally as a mart...</td>\n    </tr>\n  </tbody>\n</table>\n</div>"
     },
     "metadata": {},
     "execution_count": 9
    }
   ],
   "source": [
    "test = pd.read_csv(DATA_PATH+'test.csv',)\n",
    "test.head()"
   ]
  },
  {
   "cell_type": "markdown",
   "metadata": {},
   "source": [
    "# Data preprocessing"
   ]
  },
  {
   "cell_type": "code",
   "execution_count": 10,
   "metadata": {},
   "outputs": [
    {
     "output_type": "execute_result",
     "data": {
      "text/plain": [
       "                                                text  action  adult  \\\n",
       "0   Listening in to a conversation between his do...       0      0   \n",
       "1   A brother and sister with a past incestuous r...       0      0   \n",
       "2   As the bus empties the students for their fie...       0      1   \n",
       "\n",
       "   adventure  animation  biography  comedy  crime  documentary  drama  ...  \\\n",
       "0          0          0          0       0      0            0      1  ...   \n",
       "1          0          0          0       0      0            0      0  ...   \n",
       "2          0          0          0       0      0            0      0  ...   \n",
       "\n",
       "   news  reality-tv  romance  sci-fi  short  sport  talk-show  thriller  war  \\\n",
       "0     0           0        0       0      0      0          0         0    0   \n",
       "1     0           0        0       0      0      0          0         1    0   \n",
       "2     0           0        0       0      0      0          0         0    0   \n",
       "\n",
       "   western  \n",
       "0        0  \n",
       "1        0  \n",
       "2        0  \n",
       "\n",
       "[3 rows x 28 columns]"
      ],
      "text/html": "<div>\n<style scoped>\n    .dataframe tbody tr th:only-of-type {\n        vertical-align: middle;\n    }\n\n    .dataframe tbody tr th {\n        vertical-align: top;\n    }\n\n    .dataframe thead th {\n        text-align: right;\n    }\n</style>\n<table border=\"1\" class=\"dataframe\">\n  <thead>\n    <tr style=\"text-align: right;\">\n      <th></th>\n      <th>text</th>\n      <th>action</th>\n      <th>adult</th>\n      <th>adventure</th>\n      <th>animation</th>\n      <th>biography</th>\n      <th>comedy</th>\n      <th>crime</th>\n      <th>documentary</th>\n      <th>drama</th>\n      <th>...</th>\n      <th>news</th>\n      <th>reality-tv</th>\n      <th>romance</th>\n      <th>sci-fi</th>\n      <th>short</th>\n      <th>sport</th>\n      <th>talk-show</th>\n      <th>thriller</th>\n      <th>war</th>\n      <th>western</th>\n    </tr>\n  </thead>\n  <tbody>\n    <tr>\n      <th>0</th>\n      <td>Listening in to a conversation between his do...</td>\n      <td>0</td>\n      <td>0</td>\n      <td>0</td>\n      <td>0</td>\n      <td>0</td>\n      <td>0</td>\n      <td>0</td>\n      <td>0</td>\n      <td>1</td>\n      <td>...</td>\n      <td>0</td>\n      <td>0</td>\n      <td>0</td>\n      <td>0</td>\n      <td>0</td>\n      <td>0</td>\n      <td>0</td>\n      <td>0</td>\n      <td>0</td>\n      <td>0</td>\n    </tr>\n    <tr>\n      <th>1</th>\n      <td>A brother and sister with a past incestuous r...</td>\n      <td>0</td>\n      <td>0</td>\n      <td>0</td>\n      <td>0</td>\n      <td>0</td>\n      <td>0</td>\n      <td>0</td>\n      <td>0</td>\n      <td>0</td>\n      <td>...</td>\n      <td>0</td>\n      <td>0</td>\n      <td>0</td>\n      <td>0</td>\n      <td>0</td>\n      <td>0</td>\n      <td>0</td>\n      <td>1</td>\n      <td>0</td>\n      <td>0</td>\n    </tr>\n    <tr>\n      <th>2</th>\n      <td>As the bus empties the students for their fie...</td>\n      <td>0</td>\n      <td>1</td>\n      <td>0</td>\n      <td>0</td>\n      <td>0</td>\n      <td>0</td>\n      <td>0</td>\n      <td>0</td>\n      <td>0</td>\n      <td>...</td>\n      <td>0</td>\n      <td>0</td>\n      <td>0</td>\n      <td>0</td>\n      <td>0</td>\n      <td>0</td>\n      <td>0</td>\n      <td>0</td>\n      <td>0</td>\n      <td>0</td>\n    </tr>\n  </tbody>\n</table>\n<p>3 rows × 28 columns</p>\n</div>"
     },
     "metadata": {},
     "execution_count": 10
    }
   ],
   "source": [
    "# Подготовим таргеты\n",
    "classes =  list(set(train.genre))\n",
    "#Y = pd.get_dummies(train.genre)\n",
    "#classes =  Y.columns\n",
    "train = train[['text', 'genre']]\n",
    "train = pd.get_dummies(train, prefix='', prefix_sep='', columns=['genre',])\n",
    "train.to_csv('train_df.csv', index=False)\n",
    "train.head(3)"
   ]
  },
  {
   "cell_type": "markdown",
   "metadata": {},
   "source": [
    "# MODEL ktrain power\n",
    "Далее Основываясь на примерах:\n",
    "* [https://github.com/amaiya/ktrain/blob/master/tutorial-04-text-classification.ipynb](https://github.com/amaiya/ktrain/blob/master/tutorial-04-text-classification.ipynb)\n",
    "* [https://github.com/amaiya/ktrain/blob/master/examples/text/IMDb-BERT.ipynb](https://github.com/amaiya/ktrain/blob/master/examples/text/IMDb-BERT.ipynb)\n",
    "* [https://github.com/amaiya/ktrain/blob/master/examples/text/toxic_comments-bigru.ipynb](https://github.com/amaiya/ktrain/blob/master/examples/text/toxic_comments-bigru.ipynb)\n",
    "* и исходниках\n",
    "\n",
    "строим свое решение"
   ]
  },
  {
   "cell_type": "code",
   "execution_count": 11,
   "metadata": {},
   "outputs": [
    {
     "output_type": "stream",
     "name": "stdout",
     "text": [
      "fasttext: a fastText-like model [http://arxiv.org/pdf/1607.01759.pdf]\nlogreg: logistic regression using a trainable Embedding layer\nnbsvm: NBSVM model [http://www.aclweb.org/anthology/P12-2018]\nbigru: Bidirectional GRU with pretrained fasttext word vectors [https://fasttext.cc/docs/en/crawl-vectors.html]\nstandard_gru: simple 2-layer GRU with randomly initialized embeddings\nbert: Bidirectional Encoder Representations from Transformers (BERT) [https://arxiv.org/abs/1810.04805]\ndistilbert: distilled, smaller, and faster BERT from Hugging Face [https://arxiv.org/abs/1910.01108]\n"
     ]
    }
   ],
   "source": [
    "text.print_text_classifiers()"
   ]
  },
  {
   "cell_type": "markdown",
   "metadata": {},
   "source": [
    "В ktrain доступно множество готовых решений под классификацию текста.  \n",
    "Берем BERT тк сейчас эта одна из лучших языковых моделей: [https://habr.com/ru/post/436878/](https://habr.com/ru/post/436878/)\n",
    "![](http://www.aitimes.kr/news/photo/201901/13117_13465_1541.jpg)"
   ]
  },
  {
   "cell_type": "code",
   "execution_count": 12,
   "metadata": {},
   "outputs": [
    {
     "output_type": "stream",
     "name": "stdout",
     "text": [
      "preprocessing train...\nlanguage: en\n"
     ]
    },
    {
     "output_type": "display_data",
     "data": {
      "text/plain": "<IPython.core.display.HTML object>",
      "text/html": "\n    <div>\n        <style>\n            /* Turns off some styling */\n            progress {\n                /* gets rid of default border in Firefox and Opera. */\n                border: none;\n                /* Needs to be in here for Safari polyfill so background images work as expected. */\n                background-size: auto;\n            }\n            .progress-bar-interrupted, .progress-bar-interrupted::-webkit-progress-bar {\n                background: #F44336;\n            }\n        </style>\n      <progress value='0' class='' max='1' style='width:300px; height:20px; vertical-align: middle;'></progress>\n      \n    </div>\n    \n"
     },
     "metadata": {}
    },
    {
     "output_type": "stream",
     "name": "stdout",
     "text": [
      "Is Multi-Label? False\npreprocessing test...\nlanguage: en\n"
     ]
    },
    {
     "output_type": "display_data",
     "data": {
      "text/plain": "<IPython.core.display.HTML object>",
      "text/html": "\n    <div>\n        <style>\n            /* Turns off some styling */\n            progress {\n                /* gets rid of default border in Firefox and Opera. */\n                border: none;\n                /* Needs to be in here for Safari polyfill so background images work as expected. */\n                background-size: auto;\n            }\n            .progress-bar-interrupted, .progress-bar-interrupted::-webkit-progress-bar {\n                background: #F44336;\n            }\n        </style>\n      <progress value='0' class='' max='1' style='width:300px; height:20px; vertical-align: middle;'></progress>\n      \n    </div>\n    \n"
     },
     "metadata": {}
    }
   ],
   "source": [
    "(x_train, y_train), (x_test, y_test), preproc = text.texts_from_df(train_df=train, \n",
    "                                                                   text_column='text',\n",
    "                                                                   label_columns=classes,\n",
    "                                                                   val_pct=VAL_SPLIT, \n",
    "                                                                   max_features=MAX_WORDS, \n",
    "                                                                   maxlen=MAXLEN,\n",
    "                                                                   preprocess_mode='bert',\n",
    "                                                                   ngram_range=1)"
   ]
  },
  {
   "cell_type": "code",
   "execution_count": 13,
   "metadata": {},
   "outputs": [
    {
     "output_type": "stream",
     "name": "stdout",
     "text": [
      "Is Multi-Label? False\n",
      "maxlen is 100\n",
      "done.\n"
     ]
    }
   ],
   "source": [
    "model = text.text_classifier('bert', (x_train, y_train), preproc=preproc, )"
   ]
  },
  {
   "cell_type": "code",
   "execution_count": 14,
   "metadata": {},
   "outputs": [],
   "source": [
    "learner = ktrain.get_learner(model, train_data=(x_train, y_train), val_data=(x_test, y_test))"
   ]
  },
  {
   "cell_type": "code",
   "execution_count": 15,
   "metadata": {},
   "outputs": [
    {
     "output_type": "stream",
     "name": "stdout",
     "text": [
      "\n",
      "\n",
      "begin training using triangular learning rate policy with max lr of 1e-05...\n",
      "Epoch 1/3\n",
      "1525/1525 [==============================] - 429s 275ms/step - loss: 2.2913 - accuracy: 0.3868 - val_loss: 1.2637 - val_accuracy: 0.6155\n",
      "Epoch 2/3\n",
      "1525/1525 [==============================] - 392s 257ms/step - loss: 1.1912 - accuracy: 0.6475 - val_loss: 1.1669 - val_accuracy: 0.6396\n",
      "Epoch 3/3\n",
      "1525/1525 [==============================] - 393s 258ms/step - loss: 1.0373 - accuracy: 0.6880 - val_loss: 1.1434 - val_accuracy: 0.6475\n"
     ]
    },
    {
     "output_type": "execute_result",
     "data": {
      "text/plain": [
       "<tensorflow.python.keras.callbacks.History at 0x7ff19c5ea460>"
      ]
     },
     "metadata": {},
     "execution_count": 15
    }
   ],
   "source": [
    "learner.autofit(1e-5, EPOCH)"
   ]
  },
  {
   "cell_type": "code",
   "execution_count": 16,
   "metadata": {},
   "outputs": [],
   "source": [
    "learner.save_model('model_1')"
   ]
  },
  {
   "cell_type": "markdown",
   "metadata": {},
   "source": [
    "# Submission"
   ]
  },
  {
   "cell_type": "code",
   "execution_count": 17,
   "metadata": {},
   "outputs": [],
   "source": [
    "predictor = ktrain.get_predictor(learner.model, preproc)\n",
    "predictor.save('predictor_1')"
   ]
  },
  {
   "cell_type": "code",
   "execution_count": 18,
   "metadata": {},
   "outputs": [
    {
     "output_type": "display_data",
     "data": {
      "text/plain": "<IPython.core.display.HTML object>",
      "text/html": "\n    <div>\n        <style>\n            /* Turns off some styling */\n            progress {\n                /* gets rid of default border in Firefox and Opera. */\n                border: none;\n                /* Needs to be in here for Safari polyfill so background images work as expected. */\n                background-size: auto;\n            }\n            .progress-bar-interrupted, .progress-bar-interrupted::-webkit-progress-bar {\n                background: #F44336;\n            }\n        </style>\n      <progress value='0' class='' max='1' style='width:300px; height:20px; vertical-align: middle;'></progress>\n      \n    </div>\n    \n"
     },
     "metadata": {}
    }
   ],
   "source": [
    "predict = predictor.predict(test.text.values)"
   ]
  },
  {
   "cell_type": "code",
   "execution_count": 20,
   "metadata": {},
   "outputs": [
    {
     "output_type": "execute_result",
     "data": {
      "text/plain": [
       "   id        genre\n",
       "0   1        short\n",
       "1   2       comedy\n",
       "2   3  documentary\n",
       "3   4        drama\n",
       "4   5        drama"
      ],
      "text/html": "<div>\n<style scoped>\n    .dataframe tbody tr th:only-of-type {\n        vertical-align: middle;\n    }\n\n    .dataframe tbody tr th {\n        vertical-align: top;\n    }\n\n    .dataframe thead th {\n        text-align: right;\n    }\n</style>\n<table border=\"1\" class=\"dataframe\">\n  <thead>\n    <tr style=\"text-align: right;\">\n      <th></th>\n      <th>id</th>\n      <th>genre</th>\n    </tr>\n  </thead>\n  <tbody>\n    <tr>\n      <th>0</th>\n      <td>1</td>\n      <td>short</td>\n    </tr>\n    <tr>\n      <th>1</th>\n      <td>2</td>\n      <td>comedy</td>\n    </tr>\n    <tr>\n      <th>2</th>\n      <td>3</td>\n      <td>documentary</td>\n    </tr>\n    <tr>\n      <th>3</th>\n      <td>4</td>\n      <td>drama</td>\n    </tr>\n    <tr>\n      <th>4</th>\n      <td>5</td>\n      <td>drama</td>\n    </tr>\n  </tbody>\n</table>\n</div>"
     },
     "metadata": {},
     "execution_count": 20
    }
   ],
   "source": [
    "submission = pd.DataFrame({'id':range(1, len(predict)+1),'genre':predict},columns=['id', 'genre'])\n",
    "submission.to_csv('submission.csv', index=False)\n",
    "submission.head()"
   ]
  },
  {
   "cell_type": "code",
   "execution_count": 21,
   "metadata": {},
   "outputs": [
    {
     "output_type": "display_data",
     "data": {
      "text/plain": "<IPython.core.display.HTML object>",
      "text/html": "\n    <div>\n        <style>\n            /* Turns off some styling */\n            progress {\n                /* gets rid of default border in Firefox and Opera. */\n                border: none;\n                /* Needs to be in here for Safari polyfill so background images work as expected. */\n                background-size: auto;\n            }\n            .progress-bar-interrupted, .progress-bar-interrupted::-webkit-progress-bar {\n                background: #F44336;\n            }\n        </style>\n      <progress value='0' class='' max='1' style='width:300px; height:20px; vertical-align: middle;'></progress>\n      \n    </div>\n    \n"
     },
     "metadata": {}
    },
    {
     "output_type": "execute_result",
     "data": {
      "text/plain": [
       "   biography   fantasy  adventure    family      news    horror   western  \\\n",
       "0   0.000727  0.004009   0.002265  0.004336  0.000158  0.028085  0.000317   \n",
       "1   0.001325  0.002362   0.001852  0.213282  0.000661  0.001777  0.000742   \n",
       "2   0.003070  0.000036   0.000148  0.000201  0.000308  0.000027  0.000062   \n",
       "3   0.000923  0.000360   0.000640  0.005897  0.000145  0.001900  0.000096   \n",
       "4   0.029648  0.003135   0.007134  0.018112  0.001952  0.001245  0.001044   \n",
       "\n",
       "   game-show  thriller  talk-show  ...  documentary     crime   musical  \\\n",
       "0   0.000406  0.027077   0.000249  ...     0.002299  0.001028  0.000544   \n",
       "1   0.000964  0.001986   0.000593  ...     0.001813  0.000857  0.004017   \n",
       "2   0.000022  0.000053   0.000115  ...     0.981824  0.000146  0.000365   \n",
       "3   0.000032  0.011580   0.000175  ...     0.004900  0.001830  0.000563   \n",
       "4   0.000170  0.008614   0.001071  ...     0.272561  0.006450  0.002474   \n",
       "\n",
       "      adult       war   mystery     sport   history    action  animation  \n",
       "0  0.001872  0.000372  0.004335  0.000606  0.000200  0.001665   0.004754  \n",
       "1  0.001620  0.001193  0.001062  0.000439  0.000512  0.000954   0.036460  \n",
       "2  0.000019  0.000321  0.000042  0.000135  0.001041  0.000058   0.000059  \n",
       "3  0.000094  0.000519  0.000941  0.000145  0.000407  0.003005   0.000258  \n",
       "4  0.000554  0.017843  0.003100  0.007542  0.024938  0.101403   0.006131  \n",
       "\n",
       "[5 rows x 27 columns]"
      ],
      "text/html": "<div>\n<style scoped>\n    .dataframe tbody tr th:only-of-type {\n        vertical-align: middle;\n    }\n\n    .dataframe tbody tr th {\n        vertical-align: top;\n    }\n\n    .dataframe thead th {\n        text-align: right;\n    }\n</style>\n<table border=\"1\" class=\"dataframe\">\n  <thead>\n    <tr style=\"text-align: right;\">\n      <th></th>\n      <th>biography</th>\n      <th>fantasy</th>\n      <th>adventure</th>\n      <th>family</th>\n      <th>news</th>\n      <th>horror</th>\n      <th>western</th>\n      <th>game-show</th>\n      <th>thriller</th>\n      <th>talk-show</th>\n      <th>...</th>\n      <th>documentary</th>\n      <th>crime</th>\n      <th>musical</th>\n      <th>adult</th>\n      <th>war</th>\n      <th>mystery</th>\n      <th>sport</th>\n      <th>history</th>\n      <th>action</th>\n      <th>animation</th>\n    </tr>\n  </thead>\n  <tbody>\n    <tr>\n      <th>0</th>\n      <td>0.000727</td>\n      <td>0.004009</td>\n      <td>0.002265</td>\n      <td>0.004336</td>\n      <td>0.000158</td>\n      <td>0.028085</td>\n      <td>0.000317</td>\n      <td>0.000406</td>\n      <td>0.027077</td>\n      <td>0.000249</td>\n      <td>...</td>\n      <td>0.002299</td>\n      <td>0.001028</td>\n      <td>0.000544</td>\n      <td>0.001872</td>\n      <td>0.000372</td>\n      <td>0.004335</td>\n      <td>0.000606</td>\n      <td>0.000200</td>\n      <td>0.001665</td>\n      <td>0.004754</td>\n    </tr>\n    <tr>\n      <th>1</th>\n      <td>0.001325</td>\n      <td>0.002362</td>\n      <td>0.001852</td>\n      <td>0.213282</td>\n      <td>0.000661</td>\n      <td>0.001777</td>\n      <td>0.000742</td>\n      <td>0.000964</td>\n      <td>0.001986</td>\n      <td>0.000593</td>\n      <td>...</td>\n      <td>0.001813</td>\n      <td>0.000857</td>\n      <td>0.004017</td>\n      <td>0.001620</td>\n      <td>0.001193</td>\n      <td>0.001062</td>\n      <td>0.000439</td>\n      <td>0.000512</td>\n      <td>0.000954</td>\n      <td>0.036460</td>\n    </tr>\n    <tr>\n      <th>2</th>\n      <td>0.003070</td>\n      <td>0.000036</td>\n      <td>0.000148</td>\n      <td>0.000201</td>\n      <td>0.000308</td>\n      <td>0.000027</td>\n      <td>0.000062</td>\n      <td>0.000022</td>\n      <td>0.000053</td>\n      <td>0.000115</td>\n      <td>...</td>\n      <td>0.981824</td>\n      <td>0.000146</td>\n      <td>0.000365</td>\n      <td>0.000019</td>\n      <td>0.000321</td>\n      <td>0.000042</td>\n      <td>0.000135</td>\n      <td>0.001041</td>\n      <td>0.000058</td>\n      <td>0.000059</td>\n    </tr>\n    <tr>\n      <th>3</th>\n      <td>0.000923</td>\n      <td>0.000360</td>\n      <td>0.000640</td>\n      <td>0.005897</td>\n      <td>0.000145</td>\n      <td>0.001900</td>\n      <td>0.000096</td>\n      <td>0.000032</td>\n      <td>0.011580</td>\n      <td>0.000175</td>\n      <td>...</td>\n      <td>0.004900</td>\n      <td>0.001830</td>\n      <td>0.000563</td>\n      <td>0.000094</td>\n      <td>0.000519</td>\n      <td>0.000941</td>\n      <td>0.000145</td>\n      <td>0.000407</td>\n      <td>0.003005</td>\n      <td>0.000258</td>\n    </tr>\n    <tr>\n      <th>4</th>\n      <td>0.029648</td>\n      <td>0.003135</td>\n      <td>0.007134</td>\n      <td>0.018112</td>\n      <td>0.001952</td>\n      <td>0.001245</td>\n      <td>0.001044</td>\n      <td>0.000170</td>\n      <td>0.008614</td>\n      <td>0.001071</td>\n      <td>...</td>\n      <td>0.272561</td>\n      <td>0.006450</td>\n      <td>0.002474</td>\n      <td>0.000554</td>\n      <td>0.017843</td>\n      <td>0.003100</td>\n      <td>0.007542</td>\n      <td>0.024938</td>\n      <td>0.101403</td>\n      <td>0.006131</td>\n    </tr>\n  </tbody>\n</table>\n<p>5 rows × 27 columns</p>\n</div>"
     },
     "metadata": {},
     "execution_count": 21
    }
   ],
   "source": [
    "# на соревнованиях всегда сохраняйте predict_proba, чтоб потом можно было построить ансамбль решений\n",
    "predict_proba = predictor.predict_proba(test.text.values)\n",
    "predict_proba = pd.DataFrame(predict_proba, columns=classes)\n",
    "predict_proba.to_csv('predict_proba.csv', index=False)\n",
    "predict_proba.head()"
   ]
  },
  {
   "cell_type": "markdown",
   "metadata": {},
   "source": [
    "# Итого:\n",
    "### Вот так С минимальным кодом имеем лучшее решение! \n",
    "\n",
    "\n",
    "![](https://memchik.ru/images/mems/5c3d8f1ee1915.jpg)"
   ]
  },
  {
   "cell_type": "markdown",
   "metadata": {},
   "source": [
    "# Что можно сделать, чтоб улучшить результат:\n",
    "* Подобрать другие переменные\n",
    "* Подобрать политику обучения (в либе множество вариантов уже [готовы](https://github.com/amaiya/ktrain/blob/4c9462539fef682572db89d3a2fbaaf2549d2978/tutorial-02-tuning-learning-rates.ipynb))\n",
    "* Добавить в обучение название фильма\n",
    "* Попробовать другие модели"
   ]
  }
 ],
 "metadata": {
  "kernelspec": {
   "display_name": "Python 3",
   "language": "python",
   "name": "python3"
  },
  "language_info": {
   "codemirror_mode": {
    "name": "ipython",
    "version": 3
   },
   "file_extension": ".py",
   "mimetype": "text/x-python",
   "name": "python",
   "nbconvert_exporter": "python",
   "pygments_lexer": "ipython3",
   "version": "3.8.5-final"
  }
 },
 "nbformat": 4,
 "nbformat_minor": 1
}