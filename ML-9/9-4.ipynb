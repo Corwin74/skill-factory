{
 "cells": [
  {
   "cell_type": "code",
   "execution_count": 1,
   "metadata": {},
   "outputs": [],
   "source": [
    "import pandas as pd\n",
    "import apyori\n",
    "df = pd.read_csv('data_fin.csv', sep=';')"
   ]
  },
  {
   "cell_type": "code",
   "execution_count": 3,
   "metadata": {},
   "outputs": [
    {
     "name": "stdout",
     "output_type": "stream",
     "text": [
      "<class 'pandas.core.frame.DataFrame'>\n",
      "RangeIndex: 100480507 entries, 0 to 100480506\n",
      "Data columns (total 3 columns):\n",
      " #   Column    Dtype  \n",
      "---  ------    -----  \n",
      " 0   Cust_Id   int64  \n",
      " 1   Rating    float64\n",
      " 2   Movie_Id  int64  \n",
      "dtypes: float64(1), int64(2)\n",
      "memory usage: 2.2 GB\n"
     ]
    }
   ],
   "source": [
    "df.info()"
   ]
  },
  {
   "cell_type": "code",
   "execution_count": 4,
   "metadata": {},
   "outputs": [],
   "source": [
    "good = df[df['Rating']==5].groupby('Cust_Id')['Movie_Id'].apply(lambda r: ' '.join([str(A) for A in r]))"
   ]
  },
  {
   "cell_type": "code",
   "execution_count": 5,
   "metadata": {},
   "outputs": [
    {
     "data": {
      "text/plain": [
       "Cust_Id\n",
       "1223226    175 313 494 658 788 798 985 1032 1163 1202 152...\n",
       "2476125    1905 2452 3917 5582 9254 9628 10778 10820 1152...\n",
       "817584     2782 7745 11283 12470 14313 14538 15062 15124 ...\n",
       "549702     28 571 705 1180 1220 1324 1406 1495 1599 1625 ...\n",
       "999638     113 175 191 223 457 789 872 1032 1102 1220 130...\n",
       "Name: Movie_Id, dtype: object"
      ]
     },
     "execution_count": 5,
     "metadata": {},
     "output_type": "execute_result"
    }
   ],
   "source": [
    "good.sample(5)"
   ]
  },
  {
   "cell_type": "code",
   "execution_count": 17,
   "metadata": {},
   "outputs": [],
   "source": [
    "association_rules = apyori.apriori(good.apply(lambda r: r.split(' ')), \n",
    "                                   min_support=0.04, \n",
    "                                   min_confidence=0.1, min_lift=2, \n",
    "                                   min_length=2)"
   ]
  },
  {
   "cell_type": "code",
   "execution_count": 18,
   "metadata": {},
   "outputs": [],
   "source": [
    "asr_df = pd.DataFrame(columns = ['from', 'to', 'confidence', 'support', 'lift'])\n",
    "for item in association_rules:\n",
    "    pair = item[0] \n",
    "    items = [x for x in pair]\n",
    "    asr_df.loc[len(asr_df), :] =  ' '.join(list(item[2][0][0])), \\\n",
    "                                  ' '.join(list(item[2][0][1])),\\\n",
    "                                  item[2][0][2], item[1], item[2][0][3]"
   ]
  },
  {
   "cell_type": "code",
   "execution_count": 19,
   "metadata": {},
   "outputs": [
    {
     "name": "stdout",
     "output_type": "stream",
     "text": [
      "<class 'pandas.core.frame.DataFrame'>\n",
      "Int64Index: 2023 entries, 0 to 2022\n",
      "Data columns (total 5 columns):\n",
      " #   Column      Non-Null Count  Dtype \n",
      "---  ------      --------------  ----- \n",
      " 0   from        2023 non-null   object\n",
      " 1   to          2023 non-null   object\n",
      " 2   confidence  2023 non-null   object\n",
      " 3   support     2023 non-null   object\n",
      " 4   lift        2023 non-null   object\n",
      "dtypes: object(5)\n",
      "memory usage: 174.8+ KB\n"
     ]
    }
   ],
   "source": [
    "asr_df.info()"
   ]
  },
  {
   "cell_type": "code",
   "execution_count": 9,
   "metadata": {},
   "outputs": [
    {
     "data": {
      "text/html": [
       "<div>\n",
       "<style scoped>\n",
       "    .dataframe tbody tr th:only-of-type {\n",
       "        vertical-align: middle;\n",
       "    }\n",
       "\n",
       "    .dataframe tbody tr th {\n",
       "        vertical-align: top;\n",
       "    }\n",
       "\n",
       "    .dataframe thead th {\n",
       "        text-align: right;\n",
       "    }\n",
       "</style>\n",
       "<table border=\"1\" class=\"dataframe\">\n",
       "  <thead>\n",
       "    <tr style=\"text-align: right;\">\n",
       "      <th></th>\n",
       "      <th>from</th>\n",
       "      <th>to</th>\n",
       "      <th>confidence</th>\n",
       "      <th>support</th>\n",
       "      <th>lift</th>\n",
       "    </tr>\n",
       "  </thead>\n",
       "  <tbody>\n",
       "    <tr>\n",
       "      <th>3</th>\n",
       "      <td>11521</td>\n",
       "      <td>2452</td>\n",
       "      <td>0.806733</td>\n",
       "      <td>0.16798</td>\n",
       "      <td>3.95134</td>\n",
       "    </tr>\n",
       "    <tr>\n",
       "      <th>5</th>\n",
       "      <td>11521</td>\n",
       "      <td>7230</td>\n",
       "      <td>0.501797</td>\n",
       "      <td>0.104485</td>\n",
       "      <td>4.03989</td>\n",
       "    </tr>\n",
       "    <tr>\n",
       "      <th>15</th>\n",
       "      <td>7057</td>\n",
       "      <td>7230</td>\n",
       "      <td>0.886679</td>\n",
       "      <td>0.110883</td>\n",
       "      <td>7.13852</td>\n",
       "    </tr>\n",
       "    <tr>\n",
       "      <th>10</th>\n",
       "      <td>14961</td>\n",
       "      <td>2452</td>\n",
       "      <td>0.822189</td>\n",
       "      <td>0.102509</td>\n",
       "      <td>4.02705</td>\n",
       "    </tr>\n",
       "    <tr>\n",
       "      <th>14</th>\n",
       "      <td>2452</td>\n",
       "      <td>7230</td>\n",
       "      <td>0.512218</td>\n",
       "      <td>0.104578</td>\n",
       "      <td>4.12379</td>\n",
       "    </tr>\n",
       "  </tbody>\n",
       "</table>\n",
       "</div>"
      ],
      "text/plain": [
       "     from    to confidence   support     lift\n",
       "3   11521  2452   0.806733   0.16798  3.95134\n",
       "5   11521  7230   0.501797  0.104485  4.03989\n",
       "15   7057  7230   0.886679  0.110883  7.13852\n",
       "10  14961  2452   0.822189  0.102509  4.02705\n",
       "14   2452  7230   0.512218  0.104578  4.12379"
      ]
     },
     "execution_count": 9,
     "metadata": {},
     "output_type": "execute_result"
    }
   ],
   "source": [
    "asr_df.sample(5)"
   ]
  },
  {
   "cell_type": "code",
   "execution_count": 20,
   "metadata": {},
   "outputs": [],
   "source": [
    "titles = pd.read_csv('movie_titles.csv', encoding = \"ISO-8859-1\", \n",
    "                     header = None, \n",
    "                     names = ['Movie_Id', 'Year', 'Name'])"
   ]
  },
  {
   "cell_type": "code",
   "execution_count": 21,
   "metadata": {},
   "outputs": [],
   "source": [
    "def get_rule_title(rule):\n",
    "    print(titles[titles.Movie_Id.isin(rule['from'].split(' '))]['Name'].values)\n",
    "    print('----------->')\n",
    "    print(titles[titles.Movie_Id == int(rule['to'])]['Name'].values)"
   ]
  },
  {
   "cell_type": "code",
   "execution_count": 26,
   "metadata": {},
   "outputs": [
    {
     "name": "stdout",
     "output_type": "stream",
     "text": [
      "['The Patriot']\n",
      "----------->\n",
      "['The Green Mile']\n"
     ]
    }
   ],
   "source": [
    "get_rule_title(asr_df.iloc[315])"
   ]
  },
  {
   "cell_type": "code",
   "execution_count": 23,
   "metadata": {},
   "outputs": [
    {
     "data": {
      "text/plain": [
       "'1865 3456 3962 5515 6029 6428 8159 8327 8782 8784 11165 11242 11701 12084 12232 14482'"
      ]
     },
     "execution_count": 23,
     "metadata": {},
     "output_type": "execute_result"
    }
   ],
   "source": [
    "good[130]"
   ]
  },
  {
   "cell_type": "code",
   "execution_count": 28,
   "metadata": {},
   "outputs": [
    {
     "data": {
      "text/plain": [
       "3937                         Shrek 2\n",
       "6735                          Robots\n",
       "10909    The Women of Brewster Place\n",
       "16277        Something the Lord Made\n",
       "Name: Name, dtype: object"
      ]
     },
     "execution_count": 28,
     "metadata": {},
     "output_type": "execute_result"
    }
   ],
   "source": [
    "j = 21\n",
    "titles[titles.Movie_Id.isin(good.iloc[j].split(' '))]['Name']"
   ]
  },
  {
   "cell_type": "code",
   "execution_count": 29,
   "metadata": {},
   "outputs": [
    {
     "name": "stdout",
     "output_type": "stream",
     "text": [
      "{'The Lord of the Rings: The Fellowship of the Ring: Extended Edition', 'Star Wars: Episode V: The Empire Strikes Back', 'Lord of the Rings: The Two Towers: Extended Edition', 'Finding Nemo (Widescreen)', 'The Sixth Sense'}\n"
     ]
    }
   ],
   "source": [
    "def print_rule_title(rule):\n",
    "    return (titles[titles.Movie_Id == int(rule['to'])]['Name'].values)\n",
    "    \n",
    "\n",
    "result = []\n",
    "for A in asr_df.index:\n",
    "    if len(set(good.iloc[j].split(' ')) & set(asr_df['from'].loc[A].split(' '))) == len(asr_df['from'].loc[A].split(' ')):\n",
    "        result.append(print_rule_title(asr_df.loc[A])[0])\n",
    "print(set(result))"
   ]
  }
 ],
 "metadata": {
  "kernelspec": {
   "display_name": "Python 3",
   "language": "python",
   "name": "python3"
  },
  "language_info": {
   "codemirror_mode": {
    "name": "ipython",
    "version": 3
   },
   "file_extension": ".py",
   "mimetype": "text/x-python",
   "name": "python",
   "nbconvert_exporter": "python",
   "pygments_lexer": "ipython3",
   "version": "3.7.7"
  }
 },
 "nbformat": 4,
 "nbformat_minor": 4
}
