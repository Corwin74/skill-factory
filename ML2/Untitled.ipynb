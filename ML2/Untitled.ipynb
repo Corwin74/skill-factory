{
 "cells": [
  {
   "cell_type": "code",
   "execution_count": 2,
   "metadata": {},
   "outputs": [
    {
     "data": {
      "text/plain": [
       "1.73"
      ]
     },
     "execution_count": 2,
     "metadata": {},
     "output_type": "execute_result"
    }
   ],
   "source": [
    "import pandas as pd\n",
    "import numpy as np\n",
    "data = pd.read_csv('data_flats.csv',sep=\";\")\n",
    "ecology_dict = {\n",
    "    'no data': 0,\n",
    "    'poor': 1,\n",
    "    'satisfactory': 2,\n",
    "    'good': 3,\n",
    "    'excellent': 4,\n",
    "}\n",
    "data.ecology = data.ecology.replace(to_replace=ecology_dict)\n",
    "round(np.mean(data.ecology), 2)"
   ]
  },
  {
   "cell_type": "code",
   "execution_count": 4,
   "metadata": {},
   "outputs": [],
   "source": [
    "import pandas as pd\n",
    "import numpy as np\n",
    "df = pd.read_csv('data_flats.csv',sep=\";\")\n",
    "ecology_to_index = {'excellent': 4, 'good': 3, 'satisfactory': 2, 'poor': 1, 'no data': 0}\n",
    "\n",
    "df.ecology = df.ecology.replace(to_replace=ecology_to_index)"
   ]
  },
  {
   "cell_type": "code",
   "execution_count": 5,
   "metadata": {},
   "outputs": [
    {
     "data": {
      "text/plain": [
       "1.73"
      ]
     },
     "execution_count": 5,
     "metadata": {},
     "output_type": "execute_result"
    }
   ],
   "source": [
    "round(np.mean(df.ecology), 2)"
   ]
  }
 ],
 "metadata": {
  "kernelspec": {
   "display_name": "Python 3",
   "language": "python",
   "name": "python3"
  },
  "language_info": {
   "codemirror_mode": {
    "name": "ipython",
    "version": 3
   },
   "file_extension": ".py",
   "mimetype": "text/x-python",
   "name": "python",
   "nbconvert_exporter": "python",
   "pygments_lexer": "ipython3",
   "version": "3.7.6"
  }
 },
 "nbformat": 4,
 "nbformat_minor": 4
}
