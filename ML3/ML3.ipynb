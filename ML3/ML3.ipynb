{
 "cells": [
  {
   "cell_type": "code",
   "execution_count": 12,
   "metadata": {},
   "outputs": [],
   "source": [
    "import matplotlib.pyplot as plt\n",
    "import numpy as np\n",
    "def update_w_and_b(x, y, w, b, alpha):\n",
    "    dl_dw = 0.0\n",
    "    dl_db= 0.0\n",
    "    N = len(x)\n",
    "    for i in range(N):\n",
    "        dl_dw += -2*x[i]*(y[i] - (w*x[i]+b))\n",
    "        dl_db += -2*(y[i] - (w*x[i]+b))\n",
    "    w = w - (1/float(N))*dl_dw*alpha\n",
    "    b = b - (1/float(N))*dl_db*alpha\n",
    "    return w, b\n",
    "\n",
    "def train(x, y, w, b, alpha, epochs):\n",
    "    for e in range(epochs):\n",
    "        w, b = update_w_and_b(x, y, w, b, alpha)\n",
    "        if e%50 == 0:\n",
    "            print('epoch:', e, \"loss:\", avg_loss(x, y, w, b), 'w =', w, \"b =\", b)\n",
    "    return w, b\n",
    "\n",
    "def avg_loss(x, y, w, b):\n",
    "    N = len(x)\n",
    "    total_error = 0.0\n",
    "    for i in range(N):\n",
    "        total_error += (y[i] - (w*x[i]+b))**2\n",
    "    return total_error / float(N)\n",
    "\n",
    "x = [1, 2]\n",
    "y = [2, 5]"
   ]
  },
  {
   "cell_type": "code",
   "execution_count": 13,
   "metadata": {},
   "outputs": [
    {
     "name": "stdout",
     "output_type": "stream",
     "text": [
      "epoch: 0 loss: 0.13888888888888878 w = 2.3333333333333335 b = 0.16666666666666666\n",
      "epoch: 50 loss: 0.011220666511218754 w = 2.7938120481696616 b = -0.6663808858677864\n",
      "epoch: 100 loss: 0.0009570219160596127 w = 2.939783584627343 b = -0.9025677932463589\n",
      "epoch: 150 loss: 8.162536039216023e-05 w = 2.9824140225064357 b = -0.971545290690022\n",
      "epoch: 200 loss: 6.961908967124261e-06 w = 2.9948640814553604 b = -0.9916899092313225\n",
      "epoch: 250 loss: 5.93788207900525e-07 w = 2.998500074317346 b = -0.9975730692648671\n",
      "epoch: 300 loss: 5.064479261468246e-08 w = 2.9995619523491404 b = -0.999291224012217\n",
      "epoch: 350 loss: 4.319545226500507e-09 w = 2.9998720698320973 b = -0.9997930046401465\n",
      "epoch: 400 loss: 3.6841835063290613e-10 w = 2.9999626384759113 b = -0.999939547784153\n",
      "epoch: 450 loss: 3.142277114204811e-11 w = 2.999989088707495 b = -0.9999823451578653\n"
     ]
    },
    {
     "data": {
      "text/plain": [
       "(2.9999967339804483, -0.9999947154693575)"
      ]
     },
     "execution_count": 13,
     "metadata": {},
     "output_type": "execute_result"
    }
   ],
   "source": [
    "train(x, y, 2, 0, 1/6, 500)"
   ]
  },
  {
   "cell_type": "code",
   "execution_count": 81,
   "metadata": {},
   "outputs": [
    {
     "data": {
      "text/plain": [
       "<matplotlib.legend.Legend at 0x2088b2f1208>"
      ]
     },
     "execution_count": 81,
     "metadata": {},
     "output_type": "execute_result"
    },
    {
     "data": {
      "image/png": "[encoded data removed]",
      "text/plain": [
       "<Figure size 432x288 with 1 Axes>"
      ]
     },
     "metadata": {
      "needs_background": "light"
     },
     "output_type": "display_data"
    }
   ],
   "source": [
    "y1 = [m*w1+b1 for m in xx]\n",
    "plt.plot(xx, y1, label='new model')\n",
    "plt.scatter(x, y, marker=\".\", color='red', label = 'data')\n",
    "plt.plot(xx, xx*2, label='model y=2*x')\n",
    "plt.legend()"
   ]
  }
 ],
 "metadata": {
  "kernelspec": {
   "display_name": "Python 3",
   "language": "python",
   "name": "python3"
  },
  "language_info": {
   "codemirror_mode": {
    "name": "ipython",
    "version": 3
   },
   "file_extension": ".py",
   "mimetype": "text/x-python",
   "name": "python",
   "nbconvert_exporter": "python",
   "pygments_lexer": "ipython3",
   "version": "3.7.6"
  }
 },
 "nbformat": 4,
 "nbformat_minor": 4
}
