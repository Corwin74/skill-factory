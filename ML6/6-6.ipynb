{
 "cells": [
  {
   "cell_type": "code",
   "execution_count": 9,
   "metadata": {},
   "outputs": [],
   "source": [
    "import pandas as pd\n",
    "import numpy as np\n",
    "\n",
    "from sklearn.ensemble import (AdaBoostClassifier, GradientBoostingClassifier,\n",
    "                              RandomForestClassifier, ExtraTreesClassifier)\n",
    "from sklearn.linear_model import LogisticRegression\n",
    "from sklearn.tree import DecisionTreeClassifier\n",
    "from sklearn.base import clone\n",
    "from sklearn.neighbors import KNeighborsClassifier\n",
    "\n",
    "from sklearn.model_selection import train_test_split, KFold, StratifiedKFold\n",
    "from sklearn.metrics import f1_score\n",
    "from sklearn.datasets import load_digits\n",
    "\n",
    "from tqdm import tqdm\n",
    "\n",
    "from sklearn.model_selection import RandomizedSearchCV\n",
    "from scipy.stats.distributions import randint"
   ]
  },
  {
   "cell_type": "code",
   "execution_count": 10,
   "metadata": {},
   "outputs": [],
   "source": [
    "dataset = load_digits()\n",
    "X, y = dataset['data'], dataset['target']\n",
    "\n",
    "X_train, X_test, y_train, y_test = train_test_split(X, y, random_state=42, test_size=0.2)"
   ]
  },
  {
   "cell_type": "code",
   "execution_count": null,
   "metadata": {},
   "outputs": [],
   "source": [
    "def compute_meta_feature(clf, X_train, X_test, y_train, cv):\n",
    "    \n",
    "    n_classes = len(np.unique(y_train))\n",
    "    X_meta_train = np.zeros((len(y_train), n_classes), dtype=np.float32)\n",
    "\n",
    "    splits = cv.split(X_train)\n",
    "    for train_fold_index, predict_fold_index in splits:\n",
    "        X_fold_train, X_fold_predict = X_train[train_fold_index], X_train[predict_fold_index]\n",
    "        y_fold_train = y_train[train_fold_index]\n",
    "        \n",
    "        folded_clf = clone(clf)\n",
    "        folded_clf.fit(X_fold_train, y_fold_train)\n",
    "        \n",
    "        X_meta_train[predict_fold_index] = folded_clf.predict_proba(X_fold_predict)\n",
    "    \n",
    "    meta_clf = clone(clf)\n",
    "    meta_clf.fit(X_train, y_train)\n",
    "    \n",
    "    X_meta_test = meta_clf.predict_proba(X_test)\n",
    "    \n",
    "    return X_meta_train, X_meta_test"
   ]
  },
  {
   "cell_type": "code",
   "execution_count": null,
   "metadata": {},
   "outputs": [],
   "source": [
    "def compute_meta_feature_s(clf, X_train, X_test, y_train, cv):\n",
    "    \n",
    "    n_classes = len(np.unique(y_train))\n",
    "    X_meta_train = np.zeros((len(y_train), n_classes), dtype=np.float32)\n",
    "\n",
    "    splits = cv.split(X_train, y_train)\n",
    "    for train_fold_index, predict_fold_index in splits:\n",
    "        X_fold_train, X_fold_predict = X_train[train_fold_index], X_train[predict_fold_index]\n",
    "        y_fold_train = y_train[train_fold_index]\n",
    "        \n",
    "        folded_clf = clone(clf)\n",
    "        folded_clf.fit(X_fold_train, y_fold_train)\n",
    "        \n",
    "        X_meta_train[predict_fold_index] = folded_clf.predict_proba(X_fold_predict)\n",
    "    \n",
    "    meta_clf = clone(clf)\n",
    "    meta_clf.fit(X_train, y_train)\n",
    "    \n",
    "    X_meta_test = meta_clf.predict_proba(X_test)\n",
    "    \n",
    "    return X_meta_train, X_meta_test"
   ]
  },
  {
   "cell_type": "code",
   "execution_count": null,
   "metadata": {},
   "outputs": [],
   "source": [
    "def generate_meta_features(classifiers, X_train, X_test, y_train, cv):\n",
    "   \n",
    "    features = [\n",
    "        compute_meta_feature(clf, X_train, X_test, y_train, cv)\n",
    "        for clf in tqdm(classifiers)\n",
    "    ]\n",
    "    \n",
    "    stacked_features_train = np.hstack([\n",
    "        features_train for features_train, features_test in features\n",
    "    ])\n",
    "\n",
    "    stacked_features_test = np.hstack([\n",
    "        features_test for features_train, features_test in features\n",
    "    ])\n",
    "    \n",
    "    return stacked_features_train, stacked_features_test"
   ]
  },
  {
   "cell_type": "code",
   "execution_count": 5,
   "metadata": {},
   "outputs": [],
   "source": [
    "def generate_meta_features_s(classifiers, X_train, X_test, y_train, cv):\n",
    "   \n",
    "    features = [\n",
    "        compute_meta_feature_s(clf, X_train, X_test, y_train, cv)\n",
    "        for clf in tqdm(classifiers)\n",
    "    ]\n",
    "    \n",
    "    stacked_features_train = np.hstack([\n",
    "        features_train for features_train, features_test in features\n",
    "    ])\n",
    "\n",
    "    stacked_features_test = np.hstack([\n",
    "        features_test for features_train, features_test in features\n",
    "    ])\n",
    "    \n",
    "    return stacked_features_train, stacked_features_test"
   ]
  },
  {
   "cell_type": "code",
   "execution_count": 11,
   "metadata": {},
   "outputs": [],
   "source": [
    "cv = KFold(n_splits=10, shuffle=True, random_state=42)\n",
    "\n",
    "def compute_metric(clf, X_train=X_train, y_train=y_train, X_test=X_test):\n",
    "    clf.fit(X_train, y_train)\n",
    "    y_test_pred = clf.predict(X_test)\n",
    "    return np.round(f1_score(y_test, y_test_pred, average='macro'), 6)"
   ]
  },
  {
   "cell_type": "code",
   "execution_count": 12,
   "metadata": {},
   "outputs": [],
   "source": [
    "clf_list = [LogisticRegression(C=0.001, penalty='l1', solver='saga', \n",
    "                               multi_class='ovr', max_iter=2000, n_jobs=-1),\n",
    "            LogisticRegression(C=0.001, penalty='l2', solver='saga', \n",
    "                               multi_class='multinomial', max_iter=2000, n_jobs=-1),\n",
    "            RandomForestClassifier(n_estimators=300),\n",
    "            GradientBoostingClassifier(n_estimators=200)\n",
    "           ]"
   ]
  },
  {
   "cell_type": "code",
   "execution_count": 13,
   "metadata": {},
   "outputs": [
    {
     "name": "stderr",
     "output_type": "stream",
     "text": [
      "100%|████████████████████████████████████████████████████████████████████████████████████| 4/4 [04:46<00:00, 71.56s/it]\n"
     ]
    }
   ],
   "source": [
    "stack_future_train, stack_future_test = generate_meta_features(clf_list, X_train, X_test, y_train, cv)"
   ]
  },
  {
   "cell_type": "code",
   "execution_count": 1,
   "metadata": {},
   "outputs": [
    {
     "ename": "NameError",
     "evalue": "name 'stack_future_train' is not defined",
     "output_type": "error",
     "traceback": [
      "\u001b[1;31m---------------------------------------------------------------------------\u001b[0m",
      "\u001b[1;31mNameError\u001b[0m                                 Traceback (most recent call last)",
      "\u001b[1;32m<ipython-input-1-a1530039f7f7>\u001b[0m in \u001b[0;36m<module>\u001b[1;34m\u001b[0m\n\u001b[1;32m----> 1\u001b[1;33m \u001b[0mstack_future_train\u001b[0m\u001b[1;33m\u001b[0m\u001b[1;33m\u001b[0m\u001b[0m\n\u001b[0m",
      "\u001b[1;31mNameError\u001b[0m: name 'stack_future_train' is not defined"
     ]
    }
   ],
   "source": [
    "stack_future_train"
   ]
  },
  {
   "cell_type": "code",
   "execution_count": 31,
   "metadata": {},
   "outputs": [
    {
     "data": {
      "text/plain": [
       "0.981313"
      ]
     },
     "execution_count": 31,
     "metadata": {},
     "output_type": "execute_result"
    }
   ],
   "source": [
    "total_features_train = np.hstack([X_train, stack_future_train])\n",
    "total_features_test = np.hstack([X_test, stack_future_test])\n",
    "\n",
    "clf = LogisticRegression(penalty='none', solver='lbfgs')\n",
    "\n",
    "clf.fit(total_features_train, y_train)\n",
    "compute_metric(clf, stack_future_train, y_train, stack_future_test)"
   ]
  },
  {
   "cell_type": "code",
   "execution_count": 32,
   "metadata": {},
   "outputs": [],
   "source": [
    "clf_list_6_6_3 = [\n",
    "            RandomForestClassifier(n_estimators=300),\n",
    "            ExtraTreesClassifier(n_estimators=200)\n",
    "           ]"
   ]
  },
  {
   "cell_type": "code",
   "execution_count": 34,
   "metadata": {},
   "outputs": [
    {
     "name": "stderr",
     "output_type": "stream",
     "text": [
      "\n",
      "  0%|                                                                                            | 0/2 [00:00<?, ?it/s]\u001b[A\n",
      " 50%|██████████████████████████████████████████                                          | 1/2 [00:17<00:17, 17.30s/it]\u001b[A\n",
      "100%|████████████████████████████████████████████████████████████████████████████████████| 2/2 [00:26<00:00, 13.18s/it]\u001b[A\n"
     ]
    }
   ],
   "source": [
    "stack_future_train, stack_future_test = generate_meta_features(clf_list_6_6_3, X_train, X_test, y_train, cv)"
   ]
  },
  {
   "cell_type": "code",
   "execution_count": 35,
   "metadata": {},
   "outputs": [
    {
     "name": "stderr",
     "output_type": "stream",
     "text": [
      "C:\\Users\\Alex\\anaconda3\\lib\\site-packages\\sklearn\\linear_model\\_logistic.py:764: ConvergenceWarning: lbfgs failed to converge (status=1):\n",
      "STOP: TOTAL NO. of ITERATIONS REACHED LIMIT.\n",
      "\n",
      "Increase the number of iterations (max_iter) or scale the data as shown in:\n",
      "    https://scikit-learn.org/stable/modules/preprocessing.html\n",
      "Please also refer to the documentation for alternative solver options:\n",
      "    https://scikit-learn.org/stable/modules/linear_model.html#logistic-regression\n",
      "  extra_warning_msg=_LOGISTIC_SOLVER_CONVERGENCE_MSG)\n"
     ]
    },
    {
     "data": {
      "text/plain": [
       "0.984721"
      ]
     },
     "execution_count": 35,
     "metadata": {},
     "output_type": "execute_result"
    }
   ],
   "source": [
    "total_features_train = np.hstack([X_train, stack_future_train])\n",
    "total_features_test = np.hstack([X_test, stack_future_test])\n",
    "\n",
    "clf = LogisticRegression(penalty='none', solver='lbfgs')\n",
    "\n",
    "clf.fit(total_features_train, y_train)\n",
    "compute_metric(clf, stack_future_train, y_train, stack_future_test)"
   ]
  },
  {
   "cell_type": "code",
   "execution_count": 36,
   "metadata": {},
   "outputs": [],
   "source": [
    "clf_list_6_6_4 = [\n",
    "            KNeighborsClassifier(),\n",
    "            ExtraTreesClassifier(n_estimators=200)\n",
    "           ]"
   ]
  },
  {
   "cell_type": "code",
   "execution_count": 37,
   "metadata": {},
   "outputs": [
    {
     "name": "stderr",
     "output_type": "stream",
     "text": [
      "\n",
      "  0%|                                                                                            | 0/2 [00:00<?, ?it/s]\u001b[A\n",
      " 50%|██████████████████████████████████████████                                          | 1/2 [00:00<00:00,  1.27it/s]\u001b[A\n",
      "100%|████████████████████████████████████████████████████████████████████████████████████| 2/2 [00:10<00:00,  5.03s/it]\u001b[A\n"
     ]
    }
   ],
   "source": [
    "stack_future_train, stack_future_test = generate_meta_features(clf_list_6_6_4, X_train, X_test, y_train, cv)"
   ]
  },
  {
   "cell_type": "code",
   "execution_count": 38,
   "metadata": {},
   "outputs": [
    {
     "data": {
      "text/plain": [
       "0.985503"
      ]
     },
     "execution_count": 38,
     "metadata": {},
     "output_type": "execute_result"
    }
   ],
   "source": [
    "total_features_train = np.hstack([X_train, stack_future_train])\n",
    "total_features_test = np.hstack([X_test, stack_future_test])\n",
    "\n",
    "clf = LogisticRegression(penalty='none', solver='lbfgs')\n",
    "\n",
    "clf.fit(total_features_train, y_train)\n",
    "compute_metric(clf, stack_future_train, y_train, stack_future_test)"
   ]
  },
  {
   "cell_type": "code",
   "execution_count": 39,
   "metadata": {},
   "outputs": [
    {
     "name": "stderr",
     "output_type": "stream",
     "text": [
      "\n",
      "  0%|                                                                                            | 0/4 [00:00<?, ?it/s]\u001b[A\n",
      " 25%|█████████████████████                                                               | 1/4 [00:28<01:26, 28.67s/it]\u001b[A\n",
      " 50%|██████████████████████████████████████████                                          | 2/4 [00:29<00:40, 20.41s/it]\u001b[A\n",
      " 75%|███████████████████████████████████████████████████████████████                     | 3/4 [00:43<00:18, 18.45s/it]\u001b[A\n",
      "100%|████████████████████████████████████████████████████████████████████████████████████| 4/4 [00:47<00:00, 11.91s/it]\u001b[A\n"
     ]
    },
    {
     "data": {
      "text/plain": [
       "0.992043"
      ]
     },
     "execution_count": 39,
     "metadata": {},
     "output_type": "execute_result"
    }
   ],
   "source": [
    "clf_list_6_6_5 = [LogisticRegression(C=0.001, penalty='l1', solver='saga', \n",
    "                               multi_class='ovr', max_iter=2000, n_jobs=-1),\n",
    "            KNeighborsClassifier(),\n",
    "            ExtraTreesClassifier(n_estimators=300),\n",
    "            AdaBoostClassifier()\n",
    "           ]\n",
    "\n",
    "stack_future_train, stack_future_test = generate_meta_features(clf_list_6_6_5, X_train, X_test, y_train, cv)\n",
    "total_features_train = np.hstack([X_train, stack_future_train])\n",
    "total_features_test = np.hstack([X_test, stack_future_test])\n",
    "\n",
    "clf = LogisticRegression(penalty='none', solver='lbfgs')\n",
    "\n",
    "clf.fit(total_features_train, y_train)\n",
    "compute_metric(clf, stack_future_train, y_train, stack_future_test)"
   ]
  },
  {
   "cell_type": "code",
   "execution_count": 14,
   "metadata": {},
   "outputs": [],
   "source": [
    "clf_list_6_6_6 = [\n",
    "            ExtraTreesClassifier(n_estimators=300),\n",
    "            RandomForestClassifier(n_estimators=300, max_depth=24),\n",
    "            LogisticRegression()\n",
    "           ]"
   ]
  },
  {
   "cell_type": "code",
   "execution_count": 15,
   "metadata": {},
   "outputs": [],
   "source": [
    "cvv = StratifiedKFold(n_splits=3, random_state=42, shuffle=True)"
   ]
  },
  {
   "cell_type": "code",
   "execution_count": null,
   "metadata": {},
   "outputs": [],
   "source": []
  },
  {
   "cell_type": "code",
   "execution_count": 16,
   "metadata": {},
   "outputs": [
    {
     "name": "stderr",
     "output_type": "stream",
     "text": [
      "100%|████████████████████████████████████████████████████████████████████████████████████| 2/2 [00:10<00:00,  5.14s/it]\n"
     ]
    },
    {
     "data": {
      "text/plain": [
       "0.985118"
      ]
     },
     "execution_count": 16,
     "metadata": {},
     "output_type": "execute_result"
    }
   ],
   "source": [
    "stack_future_train, stack_future_test = generate_meta_features_s(clf_list_6_6_6, X_train, X_test, y_train, cvv)\n",
    "total_features_train = np.hstack([X_train, stack_future_train])\n",
    "total_features_test = np.hstack([X_test, stack_future_test])\n",
    "\n",
    "clf = ExtraTreesClassifier(n_estimators=300)\n",
    "\n",
    "clf.fit(total_features_train, y_train)\n",
    "compute_metric(clf, stack_future_train, y_train, stack_future_test)"
   ]
  },
  {
   "cell_type": "code",
   "execution_count": null,
   "metadata": {},
   "outputs": [],
   "source": []
  }
 ],
 "metadata": {
  "kernelspec": {
   "display_name": "Python 3",
   "language": "python",
   "name": "python3"
  },
  "language_info": {
   "codemirror_mode": {
    "name": "ipython",
    "version": 3
   },
   "file_extension": ".py",
   "mimetype": "text/x-python",
   "name": "python",
   "nbconvert_exporter": "python",
   "pygments_lexer": "ipython3",
   "version": "3.7.7"
  }
 },
 "nbformat": 4,
 "nbformat_minor": 4
}
