{
 "cells": [
  {
   "cell_type": "code",
   "execution_count": 2,
   "metadata": {},
   "outputs": [],
   "source": [
    "import pandas as pd\n",
    "import numpy as np\n",
    "from sklearn.model_selection import train_test_split, KFold\n",
    "from sklearn.linear_model import LogisticRegression, LinearRegression\n",
    "from sklearn.ensemble import RandomForestClassifier, GradientBoostingClassifier\n",
    "from sklearn.base import clone\n",
    "\n",
    "from sklearn.preprocessing import StandardScaler\n",
    "from sklearn.metrics import accuracy_score\n",
    "from tqdm import tqdm\n",
    "from matplotlib import pyplot as plt\n",
    "\n",
    "%matplotlib inline"
   ]
  },
  {
   "cell_type": "code",
   "execution_count": 3,
   "metadata": {},
   "outputs": [],
   "source": [
    "np.random.seed(42)"
   ]
  },
  {
   "cell_type": "code",
   "execution_count": 4,
   "metadata": {},
   "outputs": [],
   "source": [
    "df = pd.read_csv('https://archive.ics.uci.edu/ml/machine-learning-databases/covtype/covtype.data.gz', sep=',', header=None)[:10000]"
   ]
  },
  {
   "cell_type": "code",
   "execution_count": 5,
   "metadata": {},
   "outputs": [],
   "source": [
    "features = list(range(0, 54))\n",
    "target = 54\n",
    "\n",
    "df = df[(df[target] == 1) | (df[target] == 2)]"
   ]
  },
  {
   "cell_type": "code",
   "execution_count": 6,
   "metadata": {},
   "outputs": [],
   "source": [
    "cover_train, cover_test = train_test_split(df, test_size=0.5)\n",
    "cover_X_train, cover_y_train = cover_train[features], cover_train[target]\n",
    "cover_X_test, cover_y_test = cover_test[features], cover_test[target]"
   ]
  },
  {
   "cell_type": "code",
   "execution_count": 7,
   "metadata": {},
   "outputs": [],
   "source": [
    "scaler = StandardScaler()\n",
    "cover_X_train = scaler.fit_transform(cover_X_train)\n",
    "cover_X_test = scaler.transform(cover_X_test)"
   ]
  },
  {
   "cell_type": "code",
   "execution_count": 8,
   "metadata": {},
   "outputs": [],
   "source": [
    "cv = KFold(n_splits=10, shuffle=True)"
   ]
  },
  {
   "cell_type": "code",
   "execution_count": 9,
   "metadata": {},
   "outputs": [],
   "source": [
    "def compute_meta_feature(clf, X_train, X_test, y_train, cv):\n",
    "    \n",
    "    X_meta_train = np.zeros_like(y_train, dtype=np.float32)\n",
    "    for train_fold_index, predict_fold_index in cv.split(X_train):\n",
    "        X_fold_train, X_fold_predict = X_train[train_fold_index], X_train[predict_fold_index]\n",
    "        y_fold_train = y_train[train_fold_index]\n",
    "        \n",
    "        folded_clf = clone(clf)\n",
    "        folded_clf.fit(X_fold_train, y_fold_train)\n",
    "        X_meta_train[predict_fold_index] = folded_clf.predict_proba(X_fold_predict)[:, 1]\n",
    "        print('X_meta_train:', X_meta_train)\n",
    "        \n",
    "    \n",
    "    meta_clf = clone(clf)\n",
    "    meta_clf.fit(X_train, y_train)\n",
    "    \n",
    "    X_meta_test = meta_clf.predict_proba(X_test)[:, 1]\n",
    "    print(X_meta_train[:5], X_meta_test[:5])\n",
    "    return X_meta_train, X_meta_test\n",
    "\n",
    "def generate_meta_features(classifiers, X_train, X_test, y_train, cv):\n",
    "   \n",
    "    features = [\n",
    "        compute_meta_feature(clf, X_train, X_test, y_train, cv)\n",
    "        for clf in tqdm(classifiers)\n",
    "    ]\n",
    "    \n",
    "    stacked_features_train = np.vstack([\n",
    "        features_train for features_train, features_test in features\n",
    "    ]).T\n",
    "\n",
    "    stacked_features_test = np.vstack([\n",
    "        features_test for features_train, features_test in features\n",
    "    ]).T\n",
    "    \n",
    "    return stacked_features_train, stacked_features_test"
   ]
  },
  {
   "cell_type": "code",
   "execution_count": 17,
   "metadata": {},
   "outputs": [],
   "source": [
    "clf = LogisticRegression(C=0.001, penalty='l1', solver='liblinear', max_iter=5000)"
   ]
  },
  {
   "cell_type": "code",
   "execution_count": 18,
   "metadata": {},
   "outputs": [
    {
     "name": "stdout",
     "output_type": "stream",
     "text": [
      "X_meta_train: [0.5 0.  0.  ... 0.  0.  0. ]\n",
      "X_meta_train: [0.5 0.  0.5 ... 0.  0.  0. ]\n",
      "X_meta_train: [0.5 0.  0.5 ... 0.  0.  0. ]\n",
      "X_meta_train: [0.5 0.  0.5 ... 0.  0.  0. ]\n",
      "X_meta_train: [0.5 0.  0.5 ... 0.5 0.  0. ]\n",
      "X_meta_train: [0.5 0.  0.5 ... 0.5 0.  0. ]\n",
      "X_meta_train: [0.5 0.  0.5 ... 0.5 0.  0. ]\n",
      "X_meta_train: [0.5 0.5 0.5 ... 0.5 0.  0. ]\n",
      "X_meta_train: [0.5 0.5 0.5 ... 0.5 0.5 0. ]\n",
      "X_meta_train: [0.5 0.5 0.5 ... 0.5 0.5 0.5]\n",
      "[0.5 0.5 0.5 0.5 0.5] [0.5 0.5 0.5 0.5 0.5]\n"
     ]
    }
   ],
   "source": [
    "X_meta_train, X_meta_test = compute_meta_feature(clf, cover_X_train, cover_X_test, cover_y_train.values, cv)"
   ]
  },
  {
   "cell_type": "code",
   "execution_count": 12,
   "metadata": {},
   "outputs": [
    {
     "data": {
      "text/plain": [
       "array([0.5, 0.5, 0.5, ..., 0.5, 0.5, 0.5], dtype=float32)"
      ]
     },
     "execution_count": 12,
     "metadata": {},
     "output_type": "execute_result"
    }
   ],
   "source": [
    "X_meta_train"
   ]
  },
  {
   "cell_type": "code",
   "execution_count": 13,
   "metadata": {},
   "outputs": [
    {
     "name": "stderr",
     "output_type": "stream",
     "text": [
      " 50%|██████████████████████████████████████████                                          | 2/4 [00:00<00:00, 12.98it/s]"
     ]
    },
    {
     "name": "stdout",
     "output_type": "stream",
     "text": [
      "X_meta_train: [0. 0. 0. ... 0. 0. 0.]\n",
      "X_meta_train: [0. 0. 0. ... 0. 0. 0.]\n",
      "X_meta_train: [0. 0. 0. ... 0. 0. 0.]\n",
      "X_meta_train: [0.  0.  0.  ... 0.  0.  0.5]\n",
      "X_meta_train: [0.5 0.  0.  ... 0.  0.5 0.5]\n",
      "X_meta_train: [0.5 0.5 0.  ... 0.  0.5 0.5]\n",
      "X_meta_train: [0.5 0.5 0.  ... 0.5 0.5 0.5]\n",
      "X_meta_train: [0.5 0.5 0.  ... 0.5 0.5 0.5]\n",
      "X_meta_train: [0.5 0.5 0.5 ... 0.5 0.5 0.5]\n",
      "X_meta_train: [0.5 0.5 0.5 ... 0.5 0.5 0.5]\n",
      "[0.5 0.5 0.5 0.5 0.5] [0.5 0.5 0.5 0.5 0.5]\n",
      "X_meta_train: [0.        0.        0.        ... 0.        0.        0.5216269]\n",
      "X_meta_train: [0.        0.        0.        ... 0.        0.        0.5216269]\n",
      "X_meta_train: [0.        0.        0.        ... 0.        0.        0.5216269]\n",
      "X_meta_train: [0.        0.        0.        ... 0.        0.        0.5216269]\n",
      "X_meta_train: [0.        0.5488882 0.        ... 0.        0.        0.5216269]\n",
      "X_meta_train: [0.        0.5488882 0.4728486 ... 0.        0.        0.5216269]\n",
      "X_meta_train: [0.        0.5488882 0.4728486 ... 0.        0.        0.5216269]\n",
      "X_meta_train: [0.         0.5488882  0.4728486  ... 0.         0.52669626 0.5216269 ]\n",
      "X_meta_train: [0.32362762 0.5488882  0.4728486  ... 0.         0.52669626 0.5216269 ]\n",
      "X_meta_train: [0.32362762 0.5488882  0.4728486  ... 0.5879132  0.52669626 0.5216269 ]\n",
      "[0.32362762 0.5488882  0.4728486  0.47243947 0.44054532] [0.51751172 0.50230185 0.4909656  0.37991832 0.61746454]\n",
      "X_meta_train: [0.        0.        0.5466667 ... 0.        0.        0.       ]\n",
      "X_meta_train: [0.        0.        0.5466667 ... 0.        0.        0.       ]\n",
      "X_meta_train: [0.        0.        0.5466667 ... 0.7966667 0.        0.       ]\n",
      "X_meta_train: [0.        0.        0.5466667 ... 0.7966667 0.        0.       ]\n",
      "X_meta_train: [0.        0.        0.5466667 ... 0.7966667 0.        0.       ]\n",
      "X_meta_train: [0.        0.        0.5466667 ... 0.7966667 0.        0.       ]\n",
      "X_meta_train: [0.         0.64       0.5466667  ... 0.7966667  0.85333335 0.        ]\n",
      "X_meta_train: [0.         0.64       0.5466667  ... 0.7966667  0.85333335 0.        ]\n",
      "X_meta_train: [0.13666667 0.64       0.5466667  ... 0.7966667  0.85333335 0.58      ]\n",
      "X_meta_train: [0.13666667 0.64       0.5466667  ... 0.7966667  0.85333335 0.58      ]\n"
     ]
    },
    {
     "name": "stderr",
     "output_type": "stream",
     "text": [
      "\r",
      " 75%|███████████████████████████████████████████████████████████████                     | 3/4 [00:11<00:03,  3.59s/it]"
     ]
    },
    {
     "name": "stdout",
     "output_type": "stream",
     "text": [
      "[0.13666667 0.64       0.5466667  0.6333333  0.38      ] [0.82       0.54       0.63       0.22       0.86333333]\n",
      "X_meta_train: [0. 0. 0. ... 0. 0. 0.]\n",
      "X_meta_train: [0.         0.         0.20363393 ... 0.         0.         0.        ]\n",
      "X_meta_train: [0.         0.9525465  0.20363393 ... 0.         0.         0.        ]\n",
      "X_meta_train: [0.         0.9525465  0.20363393 ... 0.         0.         0.        ]\n",
      "X_meta_train: [0.         0.9525465  0.20363393 ... 0.         0.         0.        ]\n",
      "X_meta_train: [0.         0.9525465  0.20363393 ... 0.         0.         0.        ]\n",
      "X_meta_train: [0.         0.9525465  0.20363393 ... 0.         0.         0.8242411 ]\n",
      "X_meta_train: [0.         0.9525465  0.20363393 ... 0.9224839  0.         0.8242411 ]\n",
      "X_meta_train: [0.         0.9525465  0.20363393 ... 0.9224839  0.         0.8242411 ]\n",
      "X_meta_train: [0.02400554 0.9525465  0.20363393 ... 0.9224839  0.9438909  0.8242411 ]\n"
     ]
    },
    {
     "name": "stderr",
     "output_type": "stream",
     "text": [
      "100%|████████████████████████████████████████████████████████████████████████████████████| 4/4 [00:34<00:00,  8.56s/it]"
     ]
    },
    {
     "name": "stdout",
     "output_type": "stream",
     "text": [
      "[0.02400554 0.9525465  0.20363393 0.69519085 0.13667735] [0.88288857 0.75701792 0.7306082  0.05236346 0.99070359]\n"
     ]
    },
    {
     "name": "stderr",
     "output_type": "stream",
     "text": [
      "\n"
     ]
    }
   ],
   "source": [
    "stacked_features_train, stacked_features_test = generate_meta_features([\n",
    "    LogisticRegression(C=0.001, penalty='l1', solver='liblinear', max_iter=5000),\n",
    "    LogisticRegression(C=0.001, penalty='l2', solver='liblinear', max_iter=5000),  \n",
    "    RandomForestClassifier(n_estimators=300, n_jobs=-1),\n",
    "    GradientBoostingClassifier(n_estimators=300)], cover_X_train, cover_X_test, cover_y_train.values, cv)"
   ]
  },
  {
   "cell_type": "code",
   "execution_count": 18,
   "metadata": {},
   "outputs": [
    {
     "data": {
      "text/plain": [
       "(1418, 4)"
      ]
     },
     "execution_count": 18,
     "metadata": {},
     "output_type": "execute_result"
    }
   ],
   "source": [
    "stacked_features_train.shape"
   ]
  },
  {
   "cell_type": "code",
   "execution_count": 19,
   "metadata": {},
   "outputs": [
    {
     "data": {
      "text/plain": [
       "array([0.13666667, 0.64      , 0.5466667 , ..., 0.7966667 , 0.85333335,\n",
       "       0.58      ], dtype=float32)"
      ]
     },
     "execution_count": 19,
     "metadata": {},
     "output_type": "execute_result"
    }
   ],
   "source": [
    "stacked_features_train[:,2]"
   ]
  }
 ],
 "metadata": {
  "kernelspec": {
   "display_name": "Python 3",
   "language": "python",
   "name": "python3"
  },
  "language_info": {
   "codemirror_mode": {
    "name": "ipython",
    "version": 3
   },
   "file_extension": ".py",
   "mimetype": "text/x-python",
   "name": "python",
   "nbconvert_exporter": "python",
   "pygments_lexer": "ipython3",
   "version": "3.7.7"
  }
 },
 "nbformat": 4,
 "nbformat_minor": 4
}
