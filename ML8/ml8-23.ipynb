{
 "metadata": {
  "language_info": {
   "codemirror_mode": {
    "name": "ipython",
    "version": 3
   },
   "file_extension": ".py",
   "mimetype": "text/x-python",
   "name": "python",
   "nbconvert_exporter": "python",
   "pygments_lexer": "ipython3",
   "version": "3.8.5-final"
  },
  "orig_nbformat": 2,
  "kernelspec": {
   "name": "python3",
   "display_name": "Python 3",
   "language": "python"
  }
 },
 "nbformat": 4,
 "nbformat_minor": 2,
 "cells": [
  {
   "cell_type": "code",
   "execution_count": 2,
   "metadata": {},
   "outputs": [],
   "source": [
    "import pandas as pd\n",
    "import matplotlib.pyplot as plt\n",
    "import numpy as np\n",
    "import random\n",
    "\n",
    "from sklearn.ensemble import RandomForestClassifier\n",
    "from sklearn.model_selection import train_test_split\n",
    "\n",
    "from sklearn.metrics import confusion_matrix\n",
    "from sklearn.metrics import roc_curve, auc\n",
    "from math import isnan"
   ]
  },
  {
   "cell_type": "code",
   "execution_count": 3,
   "metadata": {},
   "outputs": [
    {
     "output_type": "stream",
     "name": "stdout",
     "text": [
      "len(data) = 10792\n"
     ]
    },
    {
     "output_type": "execute_result",
     "data": {
      "text/plain": [
       "                  unixtime    open    high     low   close  vol  \\\n",
       "39280  1518220800000000000  1316.7  1317.1  1316.7  1317.0  259   \n",
       "39281  1518220860000000000  1317.0  1317.0  1316.6  1316.7  103   \n",
       "39282  1518220920000000000  1316.8  1317.1  1316.7  1317.1  139   \n",
       "39283  1518220980000000000  1317.0  1317.6  1317.0  1317.5  198   \n",
       "39284  1518221040000000000  1317.6  1318.3  1317.6  1318.1  218   \n",
       "\n",
       "                       ts  \n",
       "39280 2018-02-10 00:00:00  \n",
       "39281 2018-02-10 00:01:00  \n",
       "39282 2018-02-10 00:02:00  \n",
       "39283 2018-02-10 00:03:00  \n",
       "39284 2018-02-10 00:04:00  "
      ],
      "text/html": "<div>\n<style scoped>\n    .dataframe tbody tr th:only-of-type {\n        vertical-align: middle;\n    }\n\n    .dataframe tbody tr th {\n        vertical-align: top;\n    }\n\n    .dataframe thead th {\n        text-align: right;\n    }\n</style>\n<table border=\"1\" class=\"dataframe\">\n  <thead>\n    <tr style=\"text-align: right;\">\n      <th></th>\n      <th>unixtime</th>\n      <th>open</th>\n      <th>high</th>\n      <th>low</th>\n      <th>close</th>\n      <th>vol</th>\n      <th>ts</th>\n    </tr>\n  </thead>\n  <tbody>\n    <tr>\n      <th>39280</th>\n      <td>1518220800000000000</td>\n      <td>1316.7</td>\n      <td>1317.1</td>\n      <td>1316.7</td>\n      <td>1317.0</td>\n      <td>259</td>\n      <td>2018-02-10 00:00:00</td>\n    </tr>\n    <tr>\n      <th>39281</th>\n      <td>1518220860000000000</td>\n      <td>1317.0</td>\n      <td>1317.0</td>\n      <td>1316.6</td>\n      <td>1316.7</td>\n      <td>103</td>\n      <td>2018-02-10 00:01:00</td>\n    </tr>\n    <tr>\n      <th>39282</th>\n      <td>1518220920000000000</td>\n      <td>1316.8</td>\n      <td>1317.1</td>\n      <td>1316.7</td>\n      <td>1317.1</td>\n      <td>139</td>\n      <td>2018-02-10 00:02:00</td>\n    </tr>\n    <tr>\n      <th>39283</th>\n      <td>1518220980000000000</td>\n      <td>1317.0</td>\n      <td>1317.6</td>\n      <td>1317.0</td>\n      <td>1317.5</td>\n      <td>198</td>\n      <td>2018-02-10 00:03:00</td>\n    </tr>\n    <tr>\n      <th>39284</th>\n      <td>1518221040000000000</td>\n      <td>1317.6</td>\n      <td>1318.3</td>\n      <td>1317.6</td>\n      <td>1318.1</td>\n      <td>218</td>\n      <td>2018-02-10 00:04:00</td>\n    </tr>\n  </tbody>\n</table>\n</div>"
     },
     "metadata": {},
     "execution_count": 3
    }
   ],
   "source": [
    "data = pd.read_csv('gold_clean.csv')\n",
    "data = data.rename(columns = {'ts': 'unixtime'})\n",
    "data['ts'] = pd.to_datetime(data.unixtime)\n",
    "data = data[(data.ts >= '2018-02-10') & (data.ts <= '2018-02-22')]\n",
    "\n",
    "print(f'len(data) = {len(data)}')\n",
    "data.head()"
   ]
  },
  {
   "cell_type": "code",
   "execution_count": 5,
   "metadata": {},
   "outputs": [
    {
     "output_type": "execute_result",
     "data": {
      "text/plain": [
       "[                  unixtime    open    high     low   close  vol  \\\n",
       " 39280  1518220800000000000  1316.7  1317.1  1316.7  1317.0  259   \n",
       " 39281  1518220860000000000  1317.0  1317.0  1316.6  1316.7  103   \n",
       " 39282  1518220920000000000  1316.8  1317.1  1316.7  1317.1  139   \n",
       " 39283  1518220980000000000  1317.0  1317.6  1317.0  1317.5  198   \n",
       " 39284  1518221040000000000  1317.6  1318.3  1317.6  1318.1  218   \n",
       " ...                    ...     ...     ...     ...     ...  ...   \n",
       " 45750  1518800160000000000  1358.3  1358.9  1358.2  1358.7  344   \n",
       " 45751  1518800220000000000  1358.7  1358.7  1358.2  1358.2  244   \n",
       " 45752  1518800280000000000  1358.2  1358.4  1358.2  1358.2  100   \n",
       " 45753  1518800340000000000  1358.2  1358.4  1358.0  1358.2  293   \n",
       " 45754  1518800400000000000  1358.3  1358.3  1357.8  1358.0  143   \n",
       " \n",
       "                        ts  \n",
       " 39280 2018-02-10 00:00:00  \n",
       " 39281 2018-02-10 00:01:00  \n",
       " 39282 2018-02-10 00:02:00  \n",
       " 39283 2018-02-10 00:03:00  \n",
       " 39284 2018-02-10 00:04:00  \n",
       " ...                   ...  \n",
       " 45750 2018-02-16 16:56:00  \n",
       " 45751 2018-02-16 16:57:00  \n",
       " 45752 2018-02-16 16:58:00  \n",
       " 45753 2018-02-16 16:59:00  \n",
       " 45754 2018-02-16 17:00:00  \n",
       " \n",
       " [6475 rows x 7 columns],\n",
       "                   unixtime    open    high     low   close  vol  \\\n",
       " 45755  1518800460000000000  1358.0  1358.0  1356.6  1356.6  934   \n",
       " 45756  1518800520000000000  1356.7  1357.2  1356.3  1356.4  665   \n",
       " 45757  1518800580000000000  1356.4  1356.6  1355.8  1356.5  678   \n",
       " 45758  1518800640000000000  1356.5  1357.0  1356.5  1356.9  253   \n",
       " 45759  1518800700000000000  1356.9  1356.9  1356.4  1356.7  304   \n",
       " ...                    ...     ...     ...     ...     ...  ...   \n",
       " 50067  1519257360000000000  1325.8  1326.3  1325.8  1325.9  258   \n",
       " 50068  1519257420000000000  1325.9  1326.2  1325.9  1326.0   55   \n",
       " 50069  1519257480000000000  1325.9  1326.0  1325.6  1325.9  120   \n",
       " 50070  1519257540000000000  1325.8  1326.4  1325.7  1326.2  129   \n",
       " 50071  1519257600000000000  1326.2  1326.7  1326.2  1326.7  225   \n",
       " \n",
       "                        ts  \n",
       " 45755 2018-02-16 17:01:00  \n",
       " 45756 2018-02-16 17:02:00  \n",
       " 45757 2018-02-16 17:03:00  \n",
       " 45758 2018-02-16 17:04:00  \n",
       " 45759 2018-02-16 17:05:00  \n",
       " ...                   ...  \n",
       " 50067 2018-02-21 23:56:00  \n",
       " 50068 2018-02-21 23:57:00  \n",
       " 50069 2018-02-21 23:58:00  \n",
       " 50070 2018-02-21 23:59:00  \n",
       " 50071 2018-02-22 00:00:00  \n",
       " \n",
       " [4317 rows x 7 columns]]"
      ]
     },
     "metadata": {},
     "execution_count": 5
    }
   ],
   "source": [
    "np.split(data, [int(0.6 * len(data))])"
   ]
  },
  {
   "cell_type": "code",
   "execution_count": 9,
   "metadata": {},
   "outputs": [],
   "source": [
    "d1, d2, d3, d4, d5, d6, d7, d8, d9, d10 = np.array_split(data, 10)"
   ]
  },
  {
   "cell_type": "code",
   "execution_count": 10,
   "metadata": {},
   "outputs": [
    {
     "output_type": "execute_result",
     "data": {
      "text/plain": [
       "                  unixtime    open    high     low   close  vol  \\\n",
       "41440  1518530520000000000  1331.9  1332.0  1331.8  1331.9   75   \n",
       "41441  1518530580000000000  1331.8  1331.9  1331.4  1331.4  102   \n",
       "41442  1518530640000000000  1331.5  1331.7  1331.4  1331.5  101   \n",
       "41443  1518530700000000000  1331.5  1331.6  1331.5  1331.6   27   \n",
       "41444  1518530760000000000  1331.6  1331.6  1331.5  1331.6   14   \n",
       "...                    ...     ...     ...     ...     ...  ...   \n",
       "42514  1518598620000000000  1337.7  1337.7  1337.3  1337.3   43   \n",
       "42515  1518598680000000000  1337.3  1337.5  1337.2  1337.4   49   \n",
       "42516  1518598740000000000  1337.4  1337.4  1337.3  1337.4   19   \n",
       "42517  1518598800000000000  1337.3  1337.3  1337.1  1337.2   63   \n",
       "42518  1518598860000000000  1337.2  1337.4  1337.1  1337.4  104   \n",
       "\n",
       "                       ts  \n",
       "41440 2018-02-13 14:02:00  \n",
       "41441 2018-02-13 14:03:00  \n",
       "41442 2018-02-13 14:04:00  \n",
       "41443 2018-02-13 14:05:00  \n",
       "41444 2018-02-13 14:06:00  \n",
       "...                   ...  \n",
       "42514 2018-02-14 08:57:00  \n",
       "42515 2018-02-14 08:58:00  \n",
       "42516 2018-02-14 08:59:00  \n",
       "42517 2018-02-14 09:00:00  \n",
       "42518 2018-02-14 09:01:00  \n",
       "\n",
       "[1079 rows x 7 columns]"
      ],
      "text/html": "<div>\n<style scoped>\n    .dataframe tbody tr th:only-of-type {\n        vertical-align: middle;\n    }\n\n    .dataframe tbody tr th {\n        vertical-align: top;\n    }\n\n    .dataframe thead th {\n        text-align: right;\n    }\n</style>\n<table border=\"1\" class=\"dataframe\">\n  <thead>\n    <tr style=\"text-align: right;\">\n      <th></th>\n      <th>unixtime</th>\n      <th>open</th>\n      <th>high</th>\n      <th>low</th>\n      <th>close</th>\n      <th>vol</th>\n      <th>ts</th>\n    </tr>\n  </thead>\n  <tbody>\n    <tr>\n      <th>41440</th>\n      <td>1518530520000000000</td>\n      <td>1331.9</td>\n      <td>1332.0</td>\n      <td>1331.8</td>\n      <td>1331.9</td>\n      <td>75</td>\n      <td>2018-02-13 14:02:00</td>\n    </tr>\n    <tr>\n      <th>41441</th>\n      <td>1518530580000000000</td>\n      <td>1331.8</td>\n      <td>1331.9</td>\n      <td>1331.4</td>\n      <td>1331.4</td>\n      <td>102</td>\n      <td>2018-02-13 14:03:00</td>\n    </tr>\n    <tr>\n      <th>41442</th>\n      <td>1518530640000000000</td>\n      <td>1331.5</td>\n      <td>1331.7</td>\n      <td>1331.4</td>\n      <td>1331.5</td>\n      <td>101</td>\n      <td>2018-02-13 14:04:00</td>\n    </tr>\n    <tr>\n      <th>41443</th>\n      <td>1518530700000000000</td>\n      <td>1331.5</td>\n      <td>1331.6</td>\n      <td>1331.5</td>\n      <td>1331.6</td>\n      <td>27</td>\n      <td>2018-02-13 14:05:00</td>\n    </tr>\n    <tr>\n      <th>41444</th>\n      <td>1518530760000000000</td>\n      <td>1331.6</td>\n      <td>1331.6</td>\n      <td>1331.5</td>\n      <td>1331.6</td>\n      <td>14</td>\n      <td>2018-02-13 14:06:00</td>\n    </tr>\n    <tr>\n      <th>...</th>\n      <td>...</td>\n      <td>...</td>\n      <td>...</td>\n      <td>...</td>\n      <td>...</td>\n      <td>...</td>\n      <td>...</td>\n    </tr>\n    <tr>\n      <th>42514</th>\n      <td>1518598620000000000</td>\n      <td>1337.7</td>\n      <td>1337.7</td>\n      <td>1337.3</td>\n      <td>1337.3</td>\n      <td>43</td>\n      <td>2018-02-14 08:57:00</td>\n    </tr>\n    <tr>\n      <th>42515</th>\n      <td>1518598680000000000</td>\n      <td>1337.3</td>\n      <td>1337.5</td>\n      <td>1337.2</td>\n      <td>1337.4</td>\n      <td>49</td>\n      <td>2018-02-14 08:58:00</td>\n    </tr>\n    <tr>\n      <th>42516</th>\n      <td>1518598740000000000</td>\n      <td>1337.4</td>\n      <td>1337.4</td>\n      <td>1337.3</td>\n      <td>1337.4</td>\n      <td>19</td>\n      <td>2018-02-14 08:59:00</td>\n    </tr>\n    <tr>\n      <th>42517</th>\n      <td>1518598800000000000</td>\n      <td>1337.3</td>\n      <td>1337.3</td>\n      <td>1337.1</td>\n      <td>1337.2</td>\n      <td>63</td>\n      <td>2018-02-14 09:00:00</td>\n    </tr>\n    <tr>\n      <th>42518</th>\n      <td>1518598860000000000</td>\n      <td>1337.2</td>\n      <td>1337.4</td>\n      <td>1337.1</td>\n      <td>1337.4</td>\n      <td>104</td>\n      <td>2018-02-14 09:01:00</td>\n    </tr>\n  </tbody>\n</table>\n<p>1079 rows × 7 columns</p>\n</div>"
     },
     "metadata": {},
     "execution_count": 10
    }
   ],
   "source": [
    "d3"
   ]
  },
  {
   "cell_type": "code",
   "execution_count": 11,
   "metadata": {},
   "outputs": [
    {
     "output_type": "execute_result",
     "data": {
      "text/plain": [
       "                  unixtime    open    high     low   close  vol  \\\n",
       "42519  1518598920000000000  1337.3  1337.3  1336.9  1337.0   70   \n",
       "42520  1518598980000000000  1337.0  1337.1  1337.0  1337.0   23   \n",
       "42521  1518599040000000000  1337.0  1337.1  1337.0  1337.1   30   \n",
       "42522  1518599100000000000  1337.1  1337.2  1336.9  1336.9   29   \n",
       "42523  1518599160000000000  1336.9  1337.0  1336.8  1337.0   57   \n",
       "...                    ...     ...     ...     ...     ...  ...   \n",
       "43593  1518666960000000000  1353.6  1353.8  1353.4  1353.6  239   \n",
       "43594  1518667020000000000  1353.6  1353.8  1353.5  1353.8   54   \n",
       "43595  1518667080000000000  1353.7  1353.8  1353.6  1353.8   44   \n",
       "43596  1518667140000000000  1353.8  1354.3  1353.8  1354.2   81   \n",
       "43597  1518667200000000000  1354.1  1354.2  1354.0  1354.1   91   \n",
       "\n",
       "                       ts  \n",
       "42519 2018-02-14 09:02:00  \n",
       "42520 2018-02-14 09:03:00  \n",
       "42521 2018-02-14 09:04:00  \n",
       "42522 2018-02-14 09:05:00  \n",
       "42523 2018-02-14 09:06:00  \n",
       "...                   ...  \n",
       "43593 2018-02-15 03:56:00  \n",
       "43594 2018-02-15 03:57:00  \n",
       "43595 2018-02-15 03:58:00  \n",
       "43596 2018-02-15 03:59:00  \n",
       "43597 2018-02-15 04:00:00  \n",
       "\n",
       "[1079 rows x 7 columns]"
      ],
      "text/html": "<div>\n<style scoped>\n    .dataframe tbody tr th:only-of-type {\n        vertical-align: middle;\n    }\n\n    .dataframe tbody tr th {\n        vertical-align: top;\n    }\n\n    .dataframe thead th {\n        text-align: right;\n    }\n</style>\n<table border=\"1\" class=\"dataframe\">\n  <thead>\n    <tr style=\"text-align: right;\">\n      <th></th>\n      <th>unixtime</th>\n      <th>open</th>\n      <th>high</th>\n      <th>low</th>\n      <th>close</th>\n      <th>vol</th>\n      <th>ts</th>\n    </tr>\n  </thead>\n  <tbody>\n    <tr>\n      <th>42519</th>\n      <td>1518598920000000000</td>\n      <td>1337.3</td>\n      <td>1337.3</td>\n      <td>1336.9</td>\n      <td>1337.0</td>\n      <td>70</td>\n      <td>2018-02-14 09:02:00</td>\n    </tr>\n    <tr>\n      <th>42520</th>\n      <td>1518598980000000000</td>\n      <td>1337.0</td>\n      <td>1337.1</td>\n      <td>1337.0</td>\n      <td>1337.0</td>\n      <td>23</td>\n      <td>2018-02-14 09:03:00</td>\n    </tr>\n    <tr>\n      <th>42521</th>\n      <td>1518599040000000000</td>\n      <td>1337.0</td>\n      <td>1337.1</td>\n      <td>1337.0</td>\n      <td>1337.1</td>\n      <td>30</td>\n      <td>2018-02-14 09:04:00</td>\n    </tr>\n    <tr>\n      <th>42522</th>\n      <td>1518599100000000000</td>\n      <td>1337.1</td>\n      <td>1337.2</td>\n      <td>1336.9</td>\n      <td>1336.9</td>\n      <td>29</td>\n      <td>2018-02-14 09:05:00</td>\n    </tr>\n    <tr>\n      <th>42523</th>\n      <td>1518599160000000000</td>\n      <td>1336.9</td>\n      <td>1337.0</td>\n      <td>1336.8</td>\n      <td>1337.0</td>\n      <td>57</td>\n      <td>2018-02-14 09:06:00</td>\n    </tr>\n    <tr>\n      <th>...</th>\n      <td>...</td>\n      <td>...</td>\n      <td>...</td>\n      <td>...</td>\n      <td>...</td>\n      <td>...</td>\n      <td>...</td>\n    </tr>\n    <tr>\n      <th>43593</th>\n      <td>1518666960000000000</td>\n      <td>1353.6</td>\n      <td>1353.8</td>\n      <td>1353.4</td>\n      <td>1353.6</td>\n      <td>239</td>\n      <td>2018-02-15 03:56:00</td>\n    </tr>\n    <tr>\n      <th>43594</th>\n      <td>1518667020000000000</td>\n      <td>1353.6</td>\n      <td>1353.8</td>\n      <td>1353.5</td>\n      <td>1353.8</td>\n      <td>54</td>\n      <td>2018-02-15 03:57:00</td>\n    </tr>\n    <tr>\n      <th>43595</th>\n      <td>1518667080000000000</td>\n      <td>1353.7</td>\n      <td>1353.8</td>\n      <td>1353.6</td>\n      <td>1353.8</td>\n      <td>44</td>\n      <td>2018-02-15 03:58:00</td>\n    </tr>\n    <tr>\n      <th>43596</th>\n      <td>1518667140000000000</td>\n      <td>1353.8</td>\n      <td>1354.3</td>\n      <td>1353.8</td>\n      <td>1354.2</td>\n      <td>81</td>\n      <td>2018-02-15 03:59:00</td>\n    </tr>\n    <tr>\n      <th>43597</th>\n      <td>1518667200000000000</td>\n      <td>1354.1</td>\n      <td>1354.2</td>\n      <td>1354.0</td>\n      <td>1354.1</td>\n      <td>91</td>\n      <td>2018-02-15 04:00:00</td>\n    </tr>\n  </tbody>\n</table>\n<p>1079 rows × 7 columns</p>\n</div>"
     },
     "metadata": {},
     "execution_count": 11
    }
   ],
   "source": [
    "d4"
   ]
  },
  {
   "cell_type": "code",
   "execution_count": null,
   "metadata": {},
   "outputs": [],
   "source": []
  }
 ]
}