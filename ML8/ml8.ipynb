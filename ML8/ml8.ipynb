{
 "metadata": {
  "language_info": {
   "codemirror_mode": {
    "name": "ipython",
    "version": 3
   },
   "file_extension": ".py",
   "mimetype": "text/x-python",
   "name": "python",
   "nbconvert_exporter": "python",
   "pygments_lexer": "ipython3",
   "version": "3.8.5-final"
  },
  "orig_nbformat": 2,
  "kernelspec": {
   "name": "python3",
   "display_name": "Python 3",
   "language": "python"
  }
 },
 "nbformat": 4,
 "nbformat_minor": 2,
 "cells": [
  {
   "cell_type": "code",
   "execution_count": 39,
   "metadata": {},
   "outputs": [],
   "source": [
    "import pandas as pd\n",
    "import datetime\n"
   ]
  },
  {
   "cell_type": "code",
   "execution_count": 21,
   "metadata": {},
   "outputs": [],
   "source": [
    "df = pd.read_csv(\"srt_data.csv\")"
   ]
  },
  {
   "cell_type": "code",
   "execution_count": 6,
   "metadata": {},
   "outputs": [
    {
     "output_type": "execute_result",
     "data": {
      "text/plain": [
       "count     202.000000\n",
       "mean     2879.472766\n",
       "std       117.665960\n",
       "min      2698.566200\n",
       "25%      2780.899850\n",
       "50%      2879.213500\n",
       "75%      2951.280100\n",
       "max      3219.567000\n",
       "Name: batteryVoltageMilliV, dtype: float64"
      ]
     },
     "metadata": {},
     "execution_count": 6
    }
   ],
   "source": [
    "df[df.serialNo == 'VA2170620672'].batteryVoltageMilliV.describe()"
   ]
  },
  {
   "cell_type": "code",
   "execution_count": 28,
   "metadata": {},
   "outputs": [
    {
     "output_type": "execute_result",
     "data": {
      "text/plain": [
       "           home  batteryVoltageMilliV  insideTemperatureCentiC  \\\n",
       "count      30.0             30.000000                30.000000   \n",
       "mean   234419.0           2983.306470              2075.740267   \n",
       "std         0.0             22.205886               225.149080   \n",
       "min    234419.0           2951.456800              1629.897700   \n",
       "25%    234419.0           2966.067825              1995.607475   \n",
       "50%    234419.0           2980.668100              2035.186300   \n",
       "75%    234419.0           2999.488625              2103.542375   \n",
       "max    234419.0           3027.340800              2719.642800   \n",
       "\n",
       "       humidityMilliPerc  \n",
       "count          30.000000  \n",
       "mean          564.833774  \n",
       "std            80.763168  \n",
       "min           371.454900  \n",
       "25%           524.054275  \n",
       "50%           566.356200  \n",
       "75%           604.556425  \n",
       "max           752.942140  "
      ],
      "text/html": "<div>\n<style scoped>\n    .dataframe tbody tr th:only-of-type {\n        vertical-align: middle;\n    }\n\n    .dataframe tbody tr th {\n        vertical-align: top;\n    }\n\n    .dataframe thead th {\n        text-align: right;\n    }\n</style>\n<table border=\"1\" class=\"dataframe\">\n  <thead>\n    <tr style=\"text-align: right;\">\n      <th></th>\n      <th>home</th>\n      <th>batteryVoltageMilliV</th>\n      <th>insideTemperatureCentiC</th>\n      <th>humidityMilliPerc</th>\n    </tr>\n  </thead>\n  <tbody>\n    <tr>\n      <th>count</th>\n      <td>30.0</td>\n      <td>30.000000</td>\n      <td>30.000000</td>\n      <td>30.000000</td>\n    </tr>\n    <tr>\n      <th>mean</th>\n      <td>234419.0</td>\n      <td>2983.306470</td>\n      <td>2075.740267</td>\n      <td>564.833774</td>\n    </tr>\n    <tr>\n      <th>std</th>\n      <td>0.0</td>\n      <td>22.205886</td>\n      <td>225.149080</td>\n      <td>80.763168</td>\n    </tr>\n    <tr>\n      <th>min</th>\n      <td>234419.0</td>\n      <td>2951.456800</td>\n      <td>1629.897700</td>\n      <td>371.454900</td>\n    </tr>\n    <tr>\n      <th>25%</th>\n      <td>234419.0</td>\n      <td>2966.067825</td>\n      <td>1995.607475</td>\n      <td>524.054275</td>\n    </tr>\n    <tr>\n      <th>50%</th>\n      <td>234419.0</td>\n      <td>2980.668100</td>\n      <td>2035.186300</td>\n      <td>566.356200</td>\n    </tr>\n    <tr>\n      <th>75%</th>\n      <td>234419.0</td>\n      <td>2999.488625</td>\n      <td>2103.542375</td>\n      <td>604.556425</td>\n    </tr>\n    <tr>\n      <th>max</th>\n      <td>234419.0</td>\n      <td>3027.340800</td>\n      <td>2719.642800</td>\n      <td>752.942140</td>\n    </tr>\n  </tbody>\n</table>\n</div>"
     },
     "metadata": {},
     "execution_count": 28
    }
   ],
   "source": [
    "df[(df.serialNo == 'VA2170620672') & (df.ts >= '2018-11-01') & (df.ts <= '2018-11-31')].describe()"
   ]
  },
  {
   "cell_type": "code",
   "execution_count": 31,
   "metadata": {},
   "outputs": [
    {
     "output_type": "execute_result",
     "data": {
      "text/plain": [
       "<AxesSubplot:>"
      ]
     },
     "metadata": {},
     "execution_count": 31
    },
    {
     "output_type": "display_data",
     "data": {
      "text/plain": "<Figure size 432x288 with 1 Axes>",
      "image/svg+xml": "<?xml version=\"1.0\" encoding=\"utf-8\" standalone=\"no\"?>\n<!DOCTYPE svg PUBLIC \"-//W3C//DTD SVG 1.1//EN\"\n  \"http://www.w3.org/Graphics/SVG/1.1/DTD/svg11.dtd\">\n<!-- Created with matplotlib (https://matplotlib.org/) -->\n<svg height=\"248.518125pt\" version=\"1.1\" viewBox=\"0 0 381.65 248.518125\" width=\"381.65pt\" xmlns=\"http://www.w3.org/2000/svg\" xmlns:xlink=\"http://www.w3.org/1999/xlink\">\n <metadata>\n  <rdf:RDF xmlns:cc=\"http://creativecommons.org/ns#\" xmlns:dc=\"http://purl.org/dc/elements/1.1/\" xmlns:rdf=\"http://www.w3.org/1999/02/22-rdf-syntax-ns#\">\n   <cc:Work>\n    <dc:type rdf:resource=\"http://purl.org/dc/dcmitype/StillImage\"/>\n    <dc:date>2021-03-14T18:35:30.225058</dc:date>\n    <dc:format>image/svg+xml</dc:format>\n    <dc:creator>\n     <cc:Agent>\n      <dc:title>Matplotlib v3.3.3, https://matplotlib.org/</dc:title>\n     </cc:Agent>\n    </dc:creator>\n   </cc:Work>\n  </rdf:RDF>\n </metadata>\n <defs>\n  <style type=\"text/css\">*{stroke-linecap:butt;stroke-linejoin:round;}</style>\n </defs>\n <g id=\"figure_1\">\n  <g id=\"patch_1\">\n   <path d=\"M -0 248.518125 \nL 381.65 248.518125 \nL 381.65 0 \nL -0 0 \nz\n\" style=\"fill:none;\"/>\n  </g>\n  <g id=\"axes_1\">\n   <g id=\"patch_2\">\n    <path d=\"M 39.65 224.64 \nL 374.45 224.64 \nL 374.45 7.2 \nL 39.65 7.2 \nz\n\" style=\"fill:#ffffff;\"/>\n   </g>\n   <g id=\"matplotlib.axis_1\">\n    <g id=\"xtick_1\">\n     <g id=\"line2d_1\">\n      <defs>\n       <path d=\"M 0 0 \nL 0 3.5 \n\" id=\"m7630c47c7a\" style=\"stroke:#000000;stroke-width:0.8;\"/>\n      </defs>\n      <g>\n       <use style=\"stroke:#000000;stroke-width:0.8;\" x=\"109.943506\" xlink:href=\"#m7630c47c7a\" y=\"224.64\"/>\n      </g>\n     </g>\n     <g id=\"text_1\">\n      <!-- 250 -->\n      <g transform=\"translate(100.399756 239.238438)scale(0.1 -0.1)\">\n       <defs>\n        <path d=\"M 19.1875 8.296875 \nL 53.609375 8.296875 \nL 53.609375 0 \nL 7.328125 0 \nL 7.328125 8.296875 \nQ 12.9375 14.109375 22.625 23.890625 \nQ 32.328125 33.6875 34.8125 36.53125 \nQ 39.546875 41.84375 41.421875 45.53125 \nQ 43.3125 49.21875 43.3125 52.78125 \nQ 43.3125 58.59375 39.234375 62.25 \nQ 35.15625 65.921875 28.609375 65.921875 \nQ 23.96875 65.921875 18.8125 64.3125 \nQ 13.671875 62.703125 7.8125 59.421875 \nL 7.8125 69.390625 \nQ 13.765625 71.78125 18.9375 73 \nQ 24.125 74.21875 28.421875 74.21875 \nQ 39.75 74.21875 46.484375 68.546875 \nQ 53.21875 62.890625 53.21875 53.421875 \nQ 53.21875 48.921875 51.53125 44.890625 \nQ 49.859375 40.875 45.40625 35.40625 \nQ 44.1875 33.984375 37.640625 27.21875 \nQ 31.109375 20.453125 19.1875 8.296875 \nz\n\" id=\"DejaVuSans-50\"/>\n        <path d=\"M 10.796875 72.90625 \nL 49.515625 72.90625 \nL 49.515625 64.59375 \nL 19.828125 64.59375 \nL 19.828125 46.734375 \nQ 21.96875 47.46875 24.109375 47.828125 \nQ 26.265625 48.1875 28.421875 48.1875 \nQ 40.625 48.1875 47.75 41.5 \nQ 54.890625 34.8125 54.890625 23.390625 \nQ 54.890625 11.625 47.5625 5.09375 \nQ 40.234375 -1.421875 26.90625 -1.421875 \nQ 22.3125 -1.421875 17.546875 -0.640625 \nQ 12.796875 0.140625 7.71875 1.703125 \nL 7.71875 11.625 \nQ 12.109375 9.234375 16.796875 8.0625 \nQ 21.484375 6.890625 26.703125 6.890625 \nQ 35.15625 6.890625 40.078125 11.328125 \nQ 45.015625 15.765625 45.015625 23.390625 \nQ 45.015625 31 40.078125 35.4375 \nQ 35.15625 39.890625 26.703125 39.890625 \nQ 22.75 39.890625 18.8125 39.015625 \nQ 14.890625 38.140625 10.796875 36.28125 \nz\n\" id=\"DejaVuSans-53\"/>\n        <path d=\"M 31.78125 66.40625 \nQ 24.171875 66.40625 20.328125 58.90625 \nQ 16.5 51.421875 16.5 36.375 \nQ 16.5 21.390625 20.328125 13.890625 \nQ 24.171875 6.390625 31.78125 6.390625 \nQ 39.453125 6.390625 43.28125 13.890625 \nQ 47.125 21.390625 47.125 36.375 \nQ 47.125 51.421875 43.28125 58.90625 \nQ 39.453125 66.40625 31.78125 66.40625 \nz\nM 31.78125 74.21875 \nQ 44.046875 74.21875 50.515625 64.515625 \nQ 56.984375 54.828125 56.984375 36.375 \nQ 56.984375 17.96875 50.515625 8.265625 \nQ 44.046875 -1.421875 31.78125 -1.421875 \nQ 19.53125 -1.421875 13.0625 8.265625 \nQ 6.59375 17.96875 6.59375 36.375 \nQ 6.59375 54.828125 13.0625 64.515625 \nQ 19.53125 74.21875 31.78125 74.21875 \nz\n\" id=\"DejaVuSans-48\"/>\n       </defs>\n       <use xlink:href=\"#DejaVuSans-50\"/>\n       <use x=\"63.623047\" xlink:href=\"#DejaVuSans-53\"/>\n       <use x=\"127.246094\" xlink:href=\"#DejaVuSans-48\"/>\n      </g>\n     </g>\n    </g>\n    <g id=\"xtick_2\">\n     <g id=\"line2d_2\">\n      <g>\n       <use style=\"stroke:#000000;stroke-width:0.8;\" x=\"182.411039\" xlink:href=\"#m7630c47c7a\" y=\"224.64\"/>\n      </g>\n     </g>\n     <g id=\"text_2\">\n      <!-- 300 -->\n      <g transform=\"translate(172.867289 239.238438)scale(0.1 -0.1)\">\n       <defs>\n        <path d=\"M 40.578125 39.3125 \nQ 47.65625 37.796875 51.625 33 \nQ 55.609375 28.21875 55.609375 21.1875 \nQ 55.609375 10.40625 48.1875 4.484375 \nQ 40.765625 -1.421875 27.09375 -1.421875 \nQ 22.515625 -1.421875 17.65625 -0.515625 \nQ 12.796875 0.390625 7.625 2.203125 \nL 7.625 11.71875 \nQ 11.71875 9.328125 16.59375 8.109375 \nQ 21.484375 6.890625 26.8125 6.890625 \nQ 36.078125 6.890625 40.9375 10.546875 \nQ 45.796875 14.203125 45.796875 21.1875 \nQ 45.796875 27.640625 41.28125 31.265625 \nQ 36.765625 34.90625 28.71875 34.90625 \nL 20.21875 34.90625 \nL 20.21875 43.015625 \nL 29.109375 43.015625 \nQ 36.375 43.015625 40.234375 45.921875 \nQ 44.09375 48.828125 44.09375 54.296875 \nQ 44.09375 59.90625 40.109375 62.90625 \nQ 36.140625 65.921875 28.71875 65.921875 \nQ 24.65625 65.921875 20.015625 65.03125 \nQ 15.375 64.15625 9.8125 62.3125 \nL 9.8125 71.09375 \nQ 15.4375 72.65625 20.34375 73.4375 \nQ 25.25 74.21875 29.59375 74.21875 \nQ 40.828125 74.21875 47.359375 69.109375 \nQ 53.90625 64.015625 53.90625 55.328125 \nQ 53.90625 49.265625 50.4375 45.09375 \nQ 46.96875 40.921875 40.578125 39.3125 \nz\n\" id=\"DejaVuSans-51\"/>\n       </defs>\n       <use xlink:href=\"#DejaVuSans-51\"/>\n       <use x=\"63.623047\" xlink:href=\"#DejaVuSans-48\"/>\n       <use x=\"127.246094\" xlink:href=\"#DejaVuSans-48\"/>\n      </g>\n     </g>\n    </g>\n    <g id=\"xtick_3\">\n     <g id=\"line2d_3\">\n      <g>\n       <use style=\"stroke:#000000;stroke-width:0.8;\" x=\"254.878571\" xlink:href=\"#m7630c47c7a\" y=\"224.64\"/>\n      </g>\n     </g>\n     <g id=\"text_3\">\n      <!-- 350 -->\n      <g transform=\"translate(245.334821 239.238438)scale(0.1 -0.1)\">\n       <use xlink:href=\"#DejaVuSans-51\"/>\n       <use x=\"63.623047\" xlink:href=\"#DejaVuSans-53\"/>\n       <use x=\"127.246094\" xlink:href=\"#DejaVuSans-48\"/>\n      </g>\n     </g>\n    </g>\n    <g id=\"xtick_4\">\n     <g id=\"line2d_4\">\n      <g>\n       <use style=\"stroke:#000000;stroke-width:0.8;\" x=\"327.346104\" xlink:href=\"#m7630c47c7a\" y=\"224.64\"/>\n      </g>\n     </g>\n     <g id=\"text_4\">\n      <!-- 400 -->\n      <g transform=\"translate(317.802354 239.238438)scale(0.1 -0.1)\">\n       <defs>\n        <path d=\"M 37.796875 64.3125 \nL 12.890625 25.390625 \nL 37.796875 25.390625 \nz\nM 35.203125 72.90625 \nL 47.609375 72.90625 \nL 47.609375 25.390625 \nL 58.015625 25.390625 \nL 58.015625 17.1875 \nL 47.609375 17.1875 \nL 47.609375 0 \nL 37.796875 0 \nL 37.796875 17.1875 \nL 4.890625 17.1875 \nL 4.890625 26.703125 \nz\n\" id=\"DejaVuSans-52\"/>\n       </defs>\n       <use xlink:href=\"#DejaVuSans-52\"/>\n       <use x=\"63.623047\" xlink:href=\"#DejaVuSans-48\"/>\n       <use x=\"127.246094\" xlink:href=\"#DejaVuSans-48\"/>\n      </g>\n     </g>\n    </g>\n   </g>\n   <g id=\"matplotlib.axis_2\">\n    <g id=\"ytick_1\">\n     <g id=\"line2d_5\">\n      <defs>\n       <path d=\"M 0 0 \nL -3.5 0 \n\" id=\"m668ff3be52\" style=\"stroke:#000000;stroke-width:0.8;\"/>\n      </defs>\n      <g>\n       <use style=\"stroke:#000000;stroke-width:0.8;\" x=\"39.65\" xlink:href=\"#m668ff3be52\" y=\"200.22673\"/>\n      </g>\n     </g>\n     <g id=\"text_5\">\n      <!-- 2700 -->\n      <g transform=\"translate(7.2 204.025949)scale(0.1 -0.1)\">\n       <defs>\n        <path d=\"M 8.203125 72.90625 \nL 55.078125 72.90625 \nL 55.078125 68.703125 \nL 28.609375 0 \nL 18.3125 0 \nL 43.21875 64.59375 \nL 8.203125 64.59375 \nz\n\" id=\"DejaVuSans-55\"/>\n       </defs>\n       <use xlink:href=\"#DejaVuSans-50\"/>\n       <use x=\"63.623047\" xlink:href=\"#DejaVuSans-55\"/>\n       <use x=\"127.246094\" xlink:href=\"#DejaVuSans-48\"/>\n       <use x=\"190.869141\" xlink:href=\"#DejaVuSans-48\"/>\n      </g>\n     </g>\n    </g>\n    <g id=\"ytick_2\">\n     <g id=\"line2d_6\">\n      <g>\n       <use style=\"stroke:#000000;stroke-width:0.8;\" x=\"39.65\" xlink:href=\"#m668ff3be52\" y=\"166.084104\"/>\n      </g>\n     </g>\n     <g id=\"text_6\">\n      <!-- 2800 -->\n      <g transform=\"translate(7.2 169.883323)scale(0.1 -0.1)\">\n       <defs>\n        <path d=\"M 31.78125 34.625 \nQ 24.75 34.625 20.71875 30.859375 \nQ 16.703125 27.09375 16.703125 20.515625 \nQ 16.703125 13.921875 20.71875 10.15625 \nQ 24.75 6.390625 31.78125 6.390625 \nQ 38.8125 6.390625 42.859375 10.171875 \nQ 46.921875 13.96875 46.921875 20.515625 \nQ 46.921875 27.09375 42.890625 30.859375 \nQ 38.875 34.625 31.78125 34.625 \nz\nM 21.921875 38.8125 \nQ 15.578125 40.375 12.03125 44.71875 \nQ 8.5 49.078125 8.5 55.328125 \nQ 8.5 64.0625 14.71875 69.140625 \nQ 20.953125 74.21875 31.78125 74.21875 \nQ 42.671875 74.21875 48.875 69.140625 \nQ 55.078125 64.0625 55.078125 55.328125 \nQ 55.078125 49.078125 51.53125 44.71875 \nQ 48 40.375 41.703125 38.8125 \nQ 48.828125 37.15625 52.796875 32.3125 \nQ 56.78125 27.484375 56.78125 20.515625 \nQ 56.78125 9.90625 50.3125 4.234375 \nQ 43.84375 -1.421875 31.78125 -1.421875 \nQ 19.734375 -1.421875 13.25 4.234375 \nQ 6.78125 9.90625 6.78125 20.515625 \nQ 6.78125 27.484375 10.78125 32.3125 \nQ 14.796875 37.15625 21.921875 38.8125 \nz\nM 18.3125 54.390625 \nQ 18.3125 48.734375 21.84375 45.5625 \nQ 25.390625 42.390625 31.78125 42.390625 \nQ 38.140625 42.390625 41.71875 45.5625 \nQ 45.3125 48.734375 45.3125 54.390625 \nQ 45.3125 60.0625 41.71875 63.234375 \nQ 38.140625 66.40625 31.78125 66.40625 \nQ 25.390625 66.40625 21.84375 63.234375 \nQ 18.3125 60.0625 18.3125 54.390625 \nz\n\" id=\"DejaVuSans-56\"/>\n       </defs>\n       <use xlink:href=\"#DejaVuSans-50\"/>\n       <use x=\"63.623047\" xlink:href=\"#DejaVuSans-56\"/>\n       <use x=\"127.246094\" xlink:href=\"#DejaVuSans-48\"/>\n       <use x=\"190.869141\" xlink:href=\"#DejaVuSans-48\"/>\n      </g>\n     </g>\n    </g>\n    <g id=\"ytick_3\">\n     <g id=\"line2d_7\">\n      <g>\n       <use style=\"stroke:#000000;stroke-width:0.8;\" x=\"39.65\" xlink:href=\"#m668ff3be52\" y=\"131.941478\"/>\n      </g>\n     </g>\n     <g id=\"text_7\">\n      <!-- 2900 -->\n      <g transform=\"translate(7.2 135.740697)scale(0.1 -0.1)\">\n       <defs>\n        <path d=\"M 10.984375 1.515625 \nL 10.984375 10.5 \nQ 14.703125 8.734375 18.5 7.8125 \nQ 22.3125 6.890625 25.984375 6.890625 \nQ 35.75 6.890625 40.890625 13.453125 \nQ 46.046875 20.015625 46.78125 33.40625 \nQ 43.953125 29.203125 39.59375 26.953125 \nQ 35.25 24.703125 29.984375 24.703125 \nQ 19.046875 24.703125 12.671875 31.3125 \nQ 6.296875 37.9375 6.296875 49.421875 \nQ 6.296875 60.640625 12.9375 67.421875 \nQ 19.578125 74.21875 30.609375 74.21875 \nQ 43.265625 74.21875 49.921875 64.515625 \nQ 56.59375 54.828125 56.59375 36.375 \nQ 56.59375 19.140625 48.40625 8.859375 \nQ 40.234375 -1.421875 26.421875 -1.421875 \nQ 22.703125 -1.421875 18.890625 -0.6875 \nQ 15.09375 0.046875 10.984375 1.515625 \nz\nM 30.609375 32.421875 \nQ 37.25 32.421875 41.125 36.953125 \nQ 45.015625 41.5 45.015625 49.421875 \nQ 45.015625 57.28125 41.125 61.84375 \nQ 37.25 66.40625 30.609375 66.40625 \nQ 23.96875 66.40625 20.09375 61.84375 \nQ 16.21875 57.28125 16.21875 49.421875 \nQ 16.21875 41.5 20.09375 36.953125 \nQ 23.96875 32.421875 30.609375 32.421875 \nz\n\" id=\"DejaVuSans-57\"/>\n       </defs>\n       <use xlink:href=\"#DejaVuSans-50\"/>\n       <use x=\"63.623047\" xlink:href=\"#DejaVuSans-57\"/>\n       <use x=\"127.246094\" xlink:href=\"#DejaVuSans-48\"/>\n       <use x=\"190.869141\" xlink:href=\"#DejaVuSans-48\"/>\n      </g>\n     </g>\n    </g>\n    <g id=\"ytick_4\">\n     <g id=\"line2d_8\">\n      <g>\n       <use style=\"stroke:#000000;stroke-width:0.8;\" x=\"39.65\" xlink:href=\"#m668ff3be52\" y=\"97.798853\"/>\n      </g>\n     </g>\n     <g id=\"text_8\">\n      <!-- 3000 -->\n      <g transform=\"translate(7.2 101.598071)scale(0.1 -0.1)\">\n       <use xlink:href=\"#DejaVuSans-51\"/>\n       <use x=\"63.623047\" xlink:href=\"#DejaVuSans-48\"/>\n       <use x=\"127.246094\" xlink:href=\"#DejaVuSans-48\"/>\n       <use x=\"190.869141\" xlink:href=\"#DejaVuSans-48\"/>\n      </g>\n     </g>\n    </g>\n    <g id=\"ytick_5\">\n     <g id=\"line2d_9\">\n      <g>\n       <use style=\"stroke:#000000;stroke-width:0.8;\" x=\"39.65\" xlink:href=\"#m668ff3be52\" y=\"63.656227\"/>\n      </g>\n     </g>\n     <g id=\"text_9\">\n      <!-- 3100 -->\n      <g transform=\"translate(7.2 67.455445)scale(0.1 -0.1)\">\n       <defs>\n        <path d=\"M 12.40625 8.296875 \nL 28.515625 8.296875 \nL 28.515625 63.921875 \nL 10.984375 60.40625 \nL 10.984375 69.390625 \nL 28.421875 72.90625 \nL 38.28125 72.90625 \nL 38.28125 8.296875 \nL 54.390625 8.296875 \nL 54.390625 0 \nL 12.40625 0 \nz\n\" id=\"DejaVuSans-49\"/>\n       </defs>\n       <use xlink:href=\"#DejaVuSans-51\"/>\n       <use x=\"63.623047\" xlink:href=\"#DejaVuSans-49\"/>\n       <use x=\"127.246094\" xlink:href=\"#DejaVuSans-48\"/>\n       <use x=\"190.869141\" xlink:href=\"#DejaVuSans-48\"/>\n      </g>\n     </g>\n    </g>\n    <g id=\"ytick_6\">\n     <g id=\"line2d_10\">\n      <g>\n       <use style=\"stroke:#000000;stroke-width:0.8;\" x=\"39.65\" xlink:href=\"#m668ff3be52\" y=\"29.513601\"/>\n      </g>\n     </g>\n     <g id=\"text_10\">\n      <!-- 3200 -->\n      <g transform=\"translate(7.2 33.312819)scale(0.1 -0.1)\">\n       <use xlink:href=\"#DejaVuSans-51\"/>\n       <use x=\"63.623047\" xlink:href=\"#DejaVuSans-50\"/>\n       <use x=\"127.246094\" xlink:href=\"#DejaVuSans-48\"/>\n       <use x=\"190.869141\" xlink:href=\"#DejaVuSans-48\"/>\n      </g>\n     </g>\n    </g>\n   </g>\n   <g id=\"line2d_11\">\n    <path clip-path=\"url(#p40e7b990f5)\" d=\"M 54.868182 134.528465 \nL 56.317532 135.510714 \nL 57.766883 137.056453 \nL 60.665584 137.745725 \nL 62.114935 137.812508 \nL 65.013636 137.745725 \nL 66.462987 138.786392 \nL 67.912338 143.048996 \nL 70.811039 145.232008 \nL 72.26039 146.040164 \nL 73.70974 145.157816 \nL 75.159091 142.555465 \nL 76.608442 140.576729 \nL 78.057792 139.107503 \nL 79.507143 138.595705 \nL 80.956494 139.759184 \nL 82.405844 142.63471 \nL 83.855195 146.029409 \nL 85.304545 153.036978 \nL 86.753896 156.595425 \nL 88.203247 159.545996 \nL 91.101948 163.332789 \nL 92.551299 164.829363 \nL 94.000649 166.104863 \nL 95.45 168.109581 \nL 96.899351 169.681849 \nL 98.348701 171.080365 \nL 99.798052 173.017447 \nL 101.247403 174.414222 \nL 102.696753 178.880248 \nL 104.146104 180.63296 \nL 105.595455 180.750274 \nL 109.943506 185.117594 \nL 111.392857 185.804714 \nL 112.842208 185.886827 \nL 114.291558 187.898169 \nL 115.740909 186.865935 \nL 118.63961 192.606984 \nL 120.088961 193.534332 \nL 121.538312 195.316235 \nL 122.987662 196.913666 \nL 124.437013 197.154645 \nL 125.886364 197.624721 \nL 127.335714 198.273192 \nL 128.785065 195.155936 \nL 130.234416 192.962204 \nL 131.683766 193.858482 \nL 133.133117 193.23473 \nL 134.582468 193.064358 \nL 136.031818 193.1519 \nL 138.930519 193.98102 \nL 140.37987 193.925709 \nL 141.829221 194.42822 \nL 143.278571 194.773982 \nL 144.727922 194.57715 \nL 146.177273 194.601289 \nL 147.626623 196.81554 \nL 149.075974 197.256185 \nL 150.525325 197.328192 \nL 151.974675 201.959195 \nL 153.424026 203.261736 \nL 156.322727 17.083636 \nL 157.772078 20.846256 \nL 159.221429 24.998136 \nL 160.670779 28.317687 \nL 163.569481 35.564596 \nL 165.018831 39.05346 \nL 166.468182 41.235891 \nL 167.917532 41.804946 \nL 169.366883 43.003864 \nL 170.816234 47.269132 \nL 172.265584 50.770561 \nL 173.714935 53.225381 \nL 178.062987 59.263436 \nL 179.512338 60.952745 \nL 180.961688 62.462976 \nL 182.411039 64.205308 \nL 183.86039 64.753366 \nL 185.30974 65.573233 \nL 186.759091 66.961711 \nL 188.208442 67.915041 \nL 194.005844 73.430714 \nL 196.904545 74.972732 \nL 198.353896 76.424135 \nL 199.803247 77.317374 \nL 201.252597 78.738049 \nL 202.701948 80.333943 \nL 204.151299 81.504831 \nL 205.600649 82.051659 \nL 207.05 83.079693 \nL 208.499351 84.292747 \nL 209.948701 85.203023 \nL 211.398052 86.843952 \nL 212.847403 87.780553 \nL 214.296753 88.962878 \nL 215.746104 89.370575 \nL 217.195455 89.500419 \nL 218.644805 89.872983 \nL 220.094156 90.360813 \nL 222.992857 92.14357 \nL 224.442208 94.655819 \nL 225.891558 95.884066 \nL 227.340909 96.625029 \nL 231.688961 99.32595 \nL 233.138312 99.831704 \nL 234.587662 101.130012 \nL 236.037013 107.245912 \nL 237.486364 109.259849 \nL 238.935714 108.642038 \nL 240.385065 108.714079 \nL 241.834416 108.597824 \nL 244.733117 108.825282 \nL 246.182468 113.032746 \nL 247.631818 114.661213 \nL 249.081169 114.532666 \nL 250.530519 113.641031 \nL 251.97987 113.888053 \nL 253.429221 113.049851 \nL 254.878571 111.624294 \nL 256.327922 110.382595 \nL 257.777273 110.166233 \nL 259.226623 110.548836 \nL 260.675974 110.663862 \nL 262.125325 111.128885 \nL 263.574675 115.186907 \nL 265.024026 117.621651 \nL 266.473377 119.638525 \nL 267.922727 121.918672 \nL 269.372078 123.034692 \nL 270.821429 125.021997 \nL 272.270779 126.32785 \nL 273.72013 128.420281 \nL 275.169481 129.604928 \nL 276.618831 131.136498 \nL 279.517532 135.339011 \nL 282.416234 137.768259 \nL 283.865584 138.181829 \nL 285.314935 138.097906 \nL 286.764286 139.594889 \nL 288.213636 144.464208 \nL 289.662987 146.950474 \nL 291.112338 148.85157 \nL 292.561688 150.548629 \nL 295.46039 153.672987 \nL 296.90974 155.720452 \nL 298.359091 157.240276 \nL 299.808442 159.390545 \nL 302.707143 163.028681 \nL 304.156494 163.83909 \nL 305.605844 165.829947 \nL 307.055195 167.112309 \nL 308.504545 169.122696 \nL 309.953896 170.604349 \nL 311.403247 172.594693 \nL 312.852597 173.558813 \nL 314.301948 175.590436 \nL 315.751299 176.698364 \nL 318.65 180.244383 \nL 320.099351 182.554097 \nL 321.548701 184.263038 \nL 322.998052 185.688937 \nL 324.447403 185.886827 \nL 327.346104 185.927798 \nL 328.795455 186.971778 \nL 330.244805 197.33502 \nL 331.694156 197.187012 \nL 333.143506 197.453666 \nL 334.592857 198.870449 \nL 336.042208 199.291632 \nL 337.491558 200.541867 \nL 338.940909 201.350944 \nL 340.39026 202.311718 \nL 341.83961 202.744066 \nL 343.288961 202.924783 \nL 344.738312 203.392264 \nL 349.086364 205.212339 \nL 350.535714 206.528708 \nL 351.985065 208.501059 \nL 353.434416 209.284769 \nL 356.333117 212.7863 \nL 357.782468 214.099186 \nL 359.231818 214.756364 \nL 359.231818 214.756364 \n\" style=\"fill:none;stroke:#1f77b4;stroke-linecap:square;stroke-width:1.5;\"/>\n   </g>\n   <g id=\"patch_3\">\n    <path d=\"M 39.65 224.64 \nL 39.65 7.2 \n\" style=\"fill:none;stroke:#000000;stroke-linecap:square;stroke-linejoin:miter;stroke-width:0.8;\"/>\n   </g>\n   <g id=\"patch_4\">\n    <path d=\"M 374.45 224.64 \nL 374.45 7.2 \n\" style=\"fill:none;stroke:#000000;stroke-linecap:square;stroke-linejoin:miter;stroke-width:0.8;\"/>\n   </g>\n   <g id=\"patch_5\">\n    <path d=\"M 39.65 224.64 \nL 374.45 224.64 \n\" style=\"fill:none;stroke:#000000;stroke-linecap:square;stroke-linejoin:miter;stroke-width:0.8;\"/>\n   </g>\n   <g id=\"patch_6\">\n    <path d=\"M 39.65 7.2 \nL 374.45 7.2 \n\" style=\"fill:none;stroke:#000000;stroke-linecap:square;stroke-linejoin:miter;stroke-width:0.8;\"/>\n   </g>\n  </g>\n </g>\n <defs>\n  <clipPath id=\"p40e7b990f5\">\n   <rect height=\"217.44\" width=\"334.8\" x=\"39.65\" y=\"7.2\"/>\n  </clipPath>\n </defs>\n</svg>\n",
      "image/png": "[encoded data removed]"
     },
     "metadata": {
      "needs_background": "light"
     }
    }
   ],
   "source": [
    "df[df.serialNo == 'VA2048854528'].batteryVoltageMilliV.plot()"
   ]
  },
  {
   "cell_type": "code",
   "execution_count": 34,
   "metadata": {},
   "outputs": [
    {
     "output_type": "execute_result",
     "data": {
      "text/plain": [
       "ts                         92\n",
       "serialNo                   92\n",
       "home                       92\n",
       "batteryVoltageMilliV       92\n",
       "insideTemperatureCentiC    92\n",
       "humidityMilliPerc          92\n",
       "dtype: int64"
      ]
     },
     "metadata": {},
     "execution_count": 34
    }
   ],
   "source": [
    "df[df.insideTemperatureCentiC < 1200].count()"
   ]
  },
  {
   "cell_type": "code",
   "execution_count": 36,
   "metadata": {},
   "outputs": [
    {
     "output_type": "execute_result",
     "data": {
      "text/plain": [
       "count    4822.000000\n",
       "mean     1976.148069\n",
       "std       270.989817\n",
       "min       734.430900\n",
       "25%      1833.926350\n",
       "50%      1974.305100\n",
       "75%      2147.197450\n",
       "max      3207.760700\n",
       "Name: insideTemperatureCentiC, dtype: float64"
      ]
     },
     "metadata": {},
     "execution_count": 36
    }
   ],
   "source": [
    "df.insideTemperatureCentiC.describe()"
   ]
  },
  {
   "cell_type": "code",
   "execution_count": 38,
   "metadata": {},
   "outputs": [
    {
     "output_type": "execute_result",
     "data": {
      "text/plain": [
       "1206"
      ]
     },
     "metadata": {},
     "execution_count": 38
    }
   ],
   "source": [
    "df[df.insideTemperatureCentiC > 2147.197450].insideTemperatureCentiC.count()"
   ]
  }
 ]
}