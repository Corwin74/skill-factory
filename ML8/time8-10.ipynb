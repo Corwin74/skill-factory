{
 "metadata": {
  "language_info": {
   "codemirror_mode": {
    "name": "ipython",
    "version": 3
   },
   "file_extension": ".py",
   "mimetype": "text/x-python",
   "name": "python",
   "nbconvert_exporter": "python",
   "pygments_lexer": "ipython3",
   "version": "3.8.5-final"
  },
  "orig_nbformat": 2,
  "kernelspec": {
   "name": "python3",
   "display_name": "Python 3.8.5 64-bit ('tf-gpu': conda)",
   "metadata": {
    "interpreter": {
     "hash": "b35c370e5ea71c667ebbfc7ad14e30991749a35edbbb1b1412bd8a689de4160c"
    }
   }
  }
 },
 "nbformat": 4,
 "nbformat_minor": 2,
 "cells": [
  {
   "cell_type": "code",
   "execution_count": 1,
   "metadata": {},
   "outputs": [],
   "source": [
    "import numpy as np\n",
    "import pandas as pd\n",
    "import matplotlib.pyplot as plt\n",
    "import plotly.graph_objects as go\n",
    "import time, datetime"
   ]
  },
  {
   "cell_type": "code",
   "execution_count": 2,
   "metadata": {},
   "outputs": [
    {
     "output_type": "stream",
     "name": "stdout",
     "text": [
      "data.shape = (121674, 6)\n"
     ]
    },
    {
     "output_type": "execute_result",
     "data": {
      "text/plain": [
       "      open     high      low    close  vol                  ts\n",
       "0  1.05135  1.05192  1.05134  1.05187   65 2017-01-02 09:00:00\n",
       "1  1.05185  1.05198  1.05153  1.05168   58 2017-01-02 09:01:00\n",
       "2  1.05175  1.05201  1.05149  1.05154   33 2017-01-02 09:02:00\n",
       "3  1.05177  1.05202  1.05177  1.05200   20 2017-01-02 09:03:00\n",
       "4  1.05202  1.05202  1.05198  1.05202    7 2017-01-02 09:04:00"
      ],
      "text/html": "<div>\n<style scoped>\n    .dataframe tbody tr th:only-of-type {\n        vertical-align: middle;\n    }\n\n    .dataframe tbody tr th {\n        vertical-align: top;\n    }\n\n    .dataframe thead th {\n        text-align: right;\n    }\n</style>\n<table border=\"1\" class=\"dataframe\">\n  <thead>\n    <tr style=\"text-align: right;\">\n      <th></th>\n      <th>open</th>\n      <th>high</th>\n      <th>low</th>\n      <th>close</th>\n      <th>vol</th>\n      <th>ts</th>\n    </tr>\n  </thead>\n  <tbody>\n    <tr>\n      <th>0</th>\n      <td>1.05135</td>\n      <td>1.05192</td>\n      <td>1.05134</td>\n      <td>1.05187</td>\n      <td>65</td>\n      <td>2017-01-02 09:00:00</td>\n    </tr>\n    <tr>\n      <th>1</th>\n      <td>1.05185</td>\n      <td>1.05198</td>\n      <td>1.05153</td>\n      <td>1.05168</td>\n      <td>58</td>\n      <td>2017-01-02 09:01:00</td>\n    </tr>\n    <tr>\n      <th>2</th>\n      <td>1.05175</td>\n      <td>1.05201</td>\n      <td>1.05149</td>\n      <td>1.05154</td>\n      <td>33</td>\n      <td>2017-01-02 09:02:00</td>\n    </tr>\n    <tr>\n      <th>3</th>\n      <td>1.05177</td>\n      <td>1.05202</td>\n      <td>1.05177</td>\n      <td>1.05200</td>\n      <td>20</td>\n      <td>2017-01-02 09:03:00</td>\n    </tr>\n    <tr>\n      <th>4</th>\n      <td>1.05202</td>\n      <td>1.05202</td>\n      <td>1.05198</td>\n      <td>1.05202</td>\n      <td>7</td>\n      <td>2017-01-02 09:04:00</td>\n    </tr>\n  </tbody>\n</table>\n</div>"
     },
     "metadata": {},
     "execution_count": 2
    }
   ],
   "source": [
    "filePath = 'EURUSD_1.csv'\n",
    "data = pd.read_csv(filePath)\n",
    "data['ts'] = pd.to_datetime(data.ts)\n",
    "print(f'data.shape = {data.shape}')\n",
    "\n",
    "data.head()"
   ]
  },
  {
   "cell_type": "code",
   "execution_count": 3,
   "metadata": {},
   "outputs": [
    {
     "output_type": "display_data",
     "data": {
      "application/vnd.plotly.v1+json": {
       "config": {
        "plotlyServerURL": "https://plot.ly"
       },
       "data": [
        {
         "close": [],
         "high": [],
         "low": [],
         "open": [],
         "type": "candlestick",
         "x": []
        }
       ],
       "layout": {
        "template": {
         "data": {
          "bar": [
           {
            "error_x": {
             "color": "#2a3f5f"
            },
            "error_y": {
             "color": "#2a3f5f"
            },
            "marker": {
             "line": {
              "color": "#E5ECF6",
              "width": 0.5
             }
            },
            "type": "bar"
           }
          ],
          "barpolar": [
           {
            "marker": {
             "line": {
              "color": "#E5ECF6",
              "width": 0.5
             }
            },
            "type": "barpolar"
           }
          ],
          "carpet": [
           {
            "aaxis": {
             "endlinecolor": "#2a3f5f",
             "gridcolor": "white",
             "linecolor": "white",
             "minorgridcolor": "white",
             "startlinecolor": "#2a3f5f"
            },
            "baxis": {
             "endlinecolor": "#2a3f5f",
             "gridcolor": "white",
             "linecolor": "white",
             "minorgridcolor": "white",
             "startlinecolor": "#2a3f5f"
            },
            "type": "carpet"
           }
          ],
          "choropleth": [
           {
            "colorbar": {
             "outlinewidth": 0,
             "ticks": ""
            },
            "type": "choropleth"
           }
          ],
          "contour": [
           {
            "colorbar": {
             "outlinewidth": 0,
             "ticks": ""
            },
            "colorscale": [
             [
              0,
              "#0d0887"
             ],
             [
              0.1111111111111111,
              "#46039f"
             ],
             [
              0.2222222222222222,
              "#7201a8"
             ],
             [
              0.3333333333333333,
              "#9c179e"
             ],
             [
              0.4444444444444444,
              "#bd3786"
             ],
             [
              0.5555555555555556,
              "#d8576b"
             ],
             [
              0.6666666666666666,
              "#ed7953"
             ],
             [
              0.7777777777777778,
              "#fb9f3a"
             ],
             [
              0.8888888888888888,
              "#fdca26"
             ],
             [
              1,
              "#f0f921"
             ]
            ],
            "type": "contour"
           }
          ],
          "contourcarpet": [
           {
            "colorbar": {
             "outlinewidth": 0,
             "ticks": ""
            },
            "type": "contourcarpet"
           }
          ],
          "heatmap": [
           {
            "colorbar": {
             "outlinewidth": 0,
             "ticks": ""
            },
            "colorscale": [
             [
              0,
              "#0d0887"
             ],
             [
              0.1111111111111111,
              "#46039f"
             ],
             [
              0.2222222222222222,
              "#7201a8"
             ],
             [
              0.3333333333333333,
              "#9c179e"
             ],
             [
              0.4444444444444444,
              "#bd3786"
             ],
             [
              0.5555555555555556,
              "#d8576b"
             ],
             [
              0.6666666666666666,
              "#ed7953"
             ],
             [
              0.7777777777777778,
              "#fb9f3a"
             ],
             [
              0.8888888888888888,
              "#fdca26"
             ],
             [
              1,
              "#f0f921"
             ]
            ],
            "type": "heatmap"
           }
          ],
          "heatmapgl": [
           {
            "colorbar": {
             "outlinewidth": 0,
             "ticks": ""
            },
            "colorscale": [
             [
              0,
              "#0d0887"
             ],
             [
              0.1111111111111111,
              "#46039f"
             ],
             [
              0.2222222222222222,
              "#7201a8"
             ],
             [
              0.3333333333333333,
              "#9c179e"
             ],
             [
              0.4444444444444444,
              "#bd3786"
             ],
             [
              0.5555555555555556,
              "#d8576b"
             ],
             [
              0.6666666666666666,
              "#ed7953"
             ],
             [
              0.7777777777777778,
              "#fb9f3a"
             ],
             [
              0.8888888888888888,
              "#fdca26"
             ],
             [
              1,
              "#f0f921"
             ]
            ],
            "type": "heatmapgl"
           }
          ],
          "histogram": [
           {
            "marker": {
             "colorbar": {
              "outlinewidth": 0,
              "ticks": ""
             }
            },
            "type": "histogram"
           }
          ],
          "histogram2d": [
           {
            "colorbar": {
             "outlinewidth": 0,
             "ticks": ""
            },
            "colorscale": [
             [
              0,
              "#0d0887"
             ],
             [
              0.1111111111111111,
              "#46039f"
             ],
             [
              0.2222222222222222,
              "#7201a8"
             ],
             [
              0.3333333333333333,
              "#9c179e"
             ],
             [
              0.4444444444444444,
              "#bd3786"
             ],
             [
              0.5555555555555556,
              "#d8576b"
             ],
             [
              0.6666666666666666,
              "#ed7953"
             ],
             [
              0.7777777777777778,
              "#fb9f3a"
             ],
             [
              0.8888888888888888,
              "#fdca26"
             ],
             [
              1,
              "#f0f921"
             ]
            ],
            "type": "histogram2d"
           }
          ],
          "histogram2dcontour": [
           {
            "colorbar": {
             "outlinewidth": 0,
             "ticks": ""
            },
            "colorscale": [
             [
              0,
              "#0d0887"
             ],
             [
              0.1111111111111111,
              "#46039f"
             ],
             [
              0.2222222222222222,
              "#7201a8"
             ],
             [
              0.3333333333333333,
              "#9c179e"
             ],
             [
              0.4444444444444444,
              "#bd3786"
             ],
             [
              0.5555555555555556,
              "#d8576b"
             ],
             [
              0.6666666666666666,
              "#ed7953"
             ],
             [
              0.7777777777777778,
              "#fb9f3a"
             ],
             [
              0.8888888888888888,
              "#fdca26"
             ],
             [
              1,
              "#f0f921"
             ]
            ],
            "type": "histogram2dcontour"
           }
          ],
          "mesh3d": [
           {
            "colorbar": {
             "outlinewidth": 0,
             "ticks": ""
            },
            "type": "mesh3d"
           }
          ],
          "parcoords": [
           {
            "line": {
             "colorbar": {
              "outlinewidth": 0,
              "ticks": ""
             }
            },
            "type": "parcoords"
           }
          ],
          "pie": [
           {
            "automargin": true,
            "type": "pie"
           }
          ],
          "scatter": [
           {
            "marker": {
             "colorbar": {
              "outlinewidth": 0,
              "ticks": ""
             }
            },
            "type": "scatter"
           }
          ],
          "scatter3d": [
           {
            "line": {
             "colorbar": {
              "outlinewidth": 0,
              "ticks": ""
             }
            },
            "marker": {
             "colorbar": {
              "outlinewidth": 0,
              "ticks": ""
             }
            },
            "type": "scatter3d"
           }
          ],
          "scattercarpet": [
           {
            "marker": {
             "colorbar": {
              "outlinewidth": 0,
              "ticks": ""
             }
            },
            "type": "scattercarpet"
           }
          ],
          "scattergeo": [
           {
            "marker": {
             "colorbar": {
              "outlinewidth": 0,
              "ticks": ""
             }
            },
            "type": "scattergeo"
           }
          ],
          "scattergl": [
           {
            "marker": {
             "colorbar": {
              "outlinewidth": 0,
              "ticks": ""
             }
            },
            "type": "scattergl"
           }
          ],
          "scattermapbox": [
           {
            "marker": {
             "colorbar": {
              "outlinewidth": 0,
              "ticks": ""
             }
            },
            "type": "scattermapbox"
           }
          ],
          "scatterpolar": [
           {
            "marker": {
             "colorbar": {
              "outlinewidth": 0,
              "ticks": ""
             }
            },
            "type": "scatterpolar"
           }
          ],
          "scatterpolargl": [
           {
            "marker": {
             "colorbar": {
              "outlinewidth": 0,
              "ticks": ""
             }
            },
            "type": "scatterpolargl"
           }
          ],
          "scatterternary": [
           {
            "marker": {
             "colorbar": {
              "outlinewidth": 0,
              "ticks": ""
             }
            },
            "type": "scatterternary"
           }
          ],
          "surface": [
           {
            "colorbar": {
             "outlinewidth": 0,
             "ticks": ""
            },
            "colorscale": [
             [
              0,
              "#0d0887"
             ],
             [
              0.1111111111111111,
              "#46039f"
             ],
             [
              0.2222222222222222,
              "#7201a8"
             ],
             [
              0.3333333333333333,
              "#9c179e"
             ],
             [
              0.4444444444444444,
              "#bd3786"
             ],
             [
              0.5555555555555556,
              "#d8576b"
             ],
             [
              0.6666666666666666,
              "#ed7953"
             ],
             [
              0.7777777777777778,
              "#fb9f3a"
             ],
             [
              0.8888888888888888,
              "#fdca26"
             ],
             [
              1,
              "#f0f921"
             ]
            ],
            "type": "surface"
           }
          ],
          "table": [
           {
            "cells": {
             "fill": {
              "color": "#EBF0F8"
             },
             "line": {
              "color": "white"
             }
            },
            "header": {
             "fill": {
              "color": "#C8D4E3"
             },
             "line": {
              "color": "white"
             }
            },
            "type": "table"
           }
          ]
         },
         "layout": {
          "annotationdefaults": {
           "arrowcolor": "#2a3f5f",
           "arrowhead": 0,
           "arrowwidth": 1
          },
          "autotypenumbers": "strict",
          "coloraxis": {
           "colorbar": {
            "outlinewidth": 0,
            "ticks": ""
           }
          },
          "colorscale": {
           "diverging": [
            [
             0,
             "#8e0152"
            ],
            [
             0.1,
             "#c51b7d"
            ],
            [
             0.2,
             "#de77ae"
            ],
            [
             0.3,
             "#f1b6da"
            ],
            [
             0.4,
             "#fde0ef"
            ],
            [
             0.5,
             "#f7f7f7"
            ],
            [
             0.6,
             "#e6f5d0"
            ],
            [
             0.7,
             "#b8e186"
            ],
            [
             0.8,
             "#7fbc41"
            ],
            [
             0.9,
             "#4d9221"
            ],
            [
             1,
             "#276419"
            ]
           ],
           "sequential": [
            [
             0,
             "#0d0887"
            ],
            [
             0.1111111111111111,
             "#46039f"
            ],
            [
             0.2222222222222222,
             "#7201a8"
            ],
            [
             0.3333333333333333,
             "#9c179e"
            ],
            [
             0.4444444444444444,
             "#bd3786"
            ],
            [
             0.5555555555555556,
             "#d8576b"
            ],
            [
             0.6666666666666666,
             "#ed7953"
            ],
            [
             0.7777777777777778,
             "#fb9f3a"
            ],
            [
             0.8888888888888888,
             "#fdca26"
            ],
            [
             1,
             "#f0f921"
            ]
           ],
           "sequentialminus": [
            [
             0,
             "#0d0887"
            ],
            [
             0.1111111111111111,
             "#46039f"
            ],
            [
             0.2222222222222222,
             "#7201a8"
            ],
            [
             0.3333333333333333,
             "#9c179e"
            ],
            [
             0.4444444444444444,
             "#bd3786"
            ],
            [
             0.5555555555555556,
             "#d8576b"
            ],
            [
             0.6666666666666666,
             "#ed7953"
            ],
            [
             0.7777777777777778,
             "#fb9f3a"
            ],
            [
             0.8888888888888888,
             "#fdca26"
            ],
            [
             1,
             "#f0f921"
            ]
           ]
          },
          "colorway": [
           "#636efa",
           "#EF553B",
           "#00cc96",
           "#ab63fa",
           "#FFA15A",
           "#19d3f3",
           "#FF6692",
           "#B6E880",
           "#FF97FF",
           "#FECB52"
          ],
          "font": {
           "color": "#2a3f5f"
          },
          "geo": {
           "bgcolor": "white",
           "lakecolor": "white",
           "landcolor": "#E5ECF6",
           "showlakes": true,
           "showland": true,
           "subunitcolor": "white"
          },
          "hoverlabel": {
           "align": "left"
          },
          "hovermode": "closest",
          "mapbox": {
           "style": "light"
          },
          "paper_bgcolor": "white",
          "plot_bgcolor": "#E5ECF6",
          "polar": {
           "angularaxis": {
            "gridcolor": "white",
            "linecolor": "white",
            "ticks": ""
           },
           "bgcolor": "#E5ECF6",
           "radialaxis": {
            "gridcolor": "white",
            "linecolor": "white",
            "ticks": ""
           }
          },
          "scene": {
           "xaxis": {
            "backgroundcolor": "#E5ECF6",
            "gridcolor": "white",
            "gridwidth": 2,
            "linecolor": "white",
            "showbackground": true,
            "ticks": "",
            "zerolinecolor": "white"
           },
           "yaxis": {
            "backgroundcolor": "#E5ECF6",
            "gridcolor": "white",
            "gridwidth": 2,
            "linecolor": "white",
            "showbackground": true,
            "ticks": "",
            "zerolinecolor": "white"
           },
           "zaxis": {
            "backgroundcolor": "#E5ECF6",
            "gridcolor": "white",
            "gridwidth": 2,
            "linecolor": "white",
            "showbackground": true,
            "ticks": "",
            "zerolinecolor": "white"
           }
          },
          "shapedefaults": {
           "line": {
            "color": "#2a3f5f"
           }
          },
          "ternary": {
           "aaxis": {
            "gridcolor": "white",
            "linecolor": "white",
            "ticks": ""
           },
           "baxis": {
            "gridcolor": "white",
            "linecolor": "white",
            "ticks": ""
           },
           "bgcolor": "#E5ECF6",
           "caxis": {
            "gridcolor": "white",
            "linecolor": "white",
            "ticks": ""
           }
          },
          "title": {
           "x": 0.05
          },
          "xaxis": {
           "automargin": true,
           "gridcolor": "white",
           "linecolor": "white",
           "ticks": "",
           "title": {
            "standoff": 15
           },
           "zerolinecolor": "white",
           "zerolinewidth": 2
          },
          "yaxis": {
           "automargin": true,
           "gridcolor": "white",
           "linecolor": "white",
           "ticks": "",
           "title": {
            "standoff": 15
           },
           "zerolinecolor": "white",
           "zerolinewidth": 2
          }
         }
        }
       }
      }
     },
     "metadata": {}
    }
   ],
   "source": [
    "df = data.copy()\n",
    "df = df[df.ts < '2017-01-02']\n",
    "\n",
    "fig = go.Figure(data  = [go.Candlestick(\n",
    "            x=df['ts'],\n",
    "            open  = df['open'],\n",
    "            high  = df['high'],\n",
    "            low   = df['low'],\n",
    "            close = df['close']\n",
    "        )])\n",
    "\n",
    "fig.show()"
   ]
  },
  {
   "cell_type": "code",
   "execution_count": 6,
   "metadata": {},
   "outputs": [
    {
     "output_type": "execute_result",
     "data": {
      "text/plain": [
       "      open     high      low    close  vol                  ts\n",
       "0  1.05135  1.05192  1.05134  1.05187   65 2017-01-02 09:00:00\n",
       "1  1.05185  1.05198  1.05153  1.05168   58 2017-01-02 09:01:00\n",
       "2  1.05175  1.05201  1.05149  1.05154   33 2017-01-02 09:02:00\n",
       "3  1.05177  1.05202  1.05177  1.05200   20 2017-01-02 09:03:00\n",
       "4  1.05202  1.05202  1.05198  1.05202    7 2017-01-02 09:04:00"
      ],
      "text/html": "<div>\n<style scoped>\n    .dataframe tbody tr th:only-of-type {\n        vertical-align: middle;\n    }\n\n    .dataframe tbody tr th {\n        vertical-align: top;\n    }\n\n    .dataframe thead th {\n        text-align: right;\n    }\n</style>\n<table border=\"1\" class=\"dataframe\">\n  <thead>\n    <tr style=\"text-align: right;\">\n      <th></th>\n      <th>open</th>\n      <th>high</th>\n      <th>low</th>\n      <th>close</th>\n      <th>vol</th>\n      <th>ts</th>\n    </tr>\n  </thead>\n  <tbody>\n    <tr>\n      <th>0</th>\n      <td>1.05135</td>\n      <td>1.05192</td>\n      <td>1.05134</td>\n      <td>1.05187</td>\n      <td>65</td>\n      <td>2017-01-02 09:00:00</td>\n    </tr>\n    <tr>\n      <th>1</th>\n      <td>1.05185</td>\n      <td>1.05198</td>\n      <td>1.05153</td>\n      <td>1.05168</td>\n      <td>58</td>\n      <td>2017-01-02 09:01:00</td>\n    </tr>\n    <tr>\n      <th>2</th>\n      <td>1.05175</td>\n      <td>1.05201</td>\n      <td>1.05149</td>\n      <td>1.05154</td>\n      <td>33</td>\n      <td>2017-01-02 09:02:00</td>\n    </tr>\n    <tr>\n      <th>3</th>\n      <td>1.05177</td>\n      <td>1.05202</td>\n      <td>1.05177</td>\n      <td>1.05200</td>\n      <td>20</td>\n      <td>2017-01-02 09:03:00</td>\n    </tr>\n    <tr>\n      <th>4</th>\n      <td>1.05202</td>\n      <td>1.05202</td>\n      <td>1.05198</td>\n      <td>1.05202</td>\n      <td>7</td>\n      <td>2017-01-02 09:04:00</td>\n    </tr>\n  </tbody>\n</table>\n</div>"
     },
     "metadata": {},
     "execution_count": 6
    }
   ],
   "source": [
    "data.head()"
   ]
  },
  {
   "cell_type": "code",
   "execution_count": 10,
   "metadata": {},
   "outputs": [],
   "source": [
    "dff = data.set_index(data.ts)"
   ]
  },
  {
   "cell_type": "code",
   "execution_count": 14,
   "metadata": {},
   "outputs": [],
   "source": [
    "dff = dff.drop('ts', axis=1)"
   ]
  },
  {
   "cell_type": "code",
   "execution_count": 24,
   "metadata": {},
   "outputs": [],
   "source": [
    "def vol_rule(data):\n",
    "    return (data.mean()+data.median())/2"
   ]
  },
  {
   "cell_type": "code",
   "execution_count": 25,
   "metadata": {},
   "outputs": [],
   "source": [
    "resample_rule = {\n",
    "    'open': 'median',\n",
    "    'high': 'max',\n",
    "    'low': 'min',\n",
    "    'close': 'mean',\n",
    "    'vol': vol_rule\n",
    "}"
   ]
  },
  {
   "cell_type": "code",
   "execution_count": 30,
   "metadata": {},
   "outputs": [
    {
     "output_type": "execute_result",
     "data": {
      "text/plain": [
       "open       1.051160\n",
       "high       1.057430\n",
       "low        1.048230\n",
       "close      1.052138\n",
       "vol      481.334375\n",
       "Name: 2017-01-05 08:00:00, dtype: float64"
      ]
     },
     "metadata": {},
     "execution_count": 30
    }
   ],
   "source": [
    "dff.resample('8H').apply(resample_rule).loc['2017-01-05 08:00:00']"
   ]
  },
  {
   "cell_type": "code",
   "execution_count": 37,
   "metadata": {},
   "outputs": [],
   "source": [
    "df2 = data[data.ts <= '2017-01-03']"
   ]
  },
  {
   "cell_type": "code",
   "execution_count": 38,
   "metadata": {},
   "outputs": [
    {
     "output_type": "execute_result",
     "data": {
      "text/plain": [
       "        open     high      low    close  vol                  ts\n",
       "757  1.04598  1.04604  1.04592  1.04598   31 2017-01-02 21:44:00"
      ],
      "text/html": "<div>\n<style scoped>\n    .dataframe tbody tr th:only-of-type {\n        vertical-align: middle;\n    }\n\n    .dataframe tbody tr th {\n        vertical-align: top;\n    }\n\n    .dataframe thead th {\n        text-align: right;\n    }\n</style>\n<table border=\"1\" class=\"dataframe\">\n  <thead>\n    <tr style=\"text-align: right;\">\n      <th></th>\n      <th>open</th>\n      <th>high</th>\n      <th>low</th>\n      <th>close</th>\n      <th>vol</th>\n      <th>ts</th>\n    </tr>\n  </thead>\n  <tbody>\n    <tr>\n      <th>757</th>\n      <td>1.04598</td>\n      <td>1.04604</td>\n      <td>1.04592</td>\n      <td>1.04598</td>\n      <td>31</td>\n      <td>2017-01-02 21:44:00</td>\n    </tr>\n  </tbody>\n</table>\n</div>"
     },
     "metadata": {},
     "execution_count": 38
    }
   ],
   "source": [
    "df2.sample()"
   ]
  },
  {
   "cell_type": "code",
   "execution_count": 39,
   "metadata": {},
   "outputs": [],
   "source": [
    "df2 = df2.set_index(df2.ts)"
   ]
  },
  {
   "cell_type": "code",
   "execution_count": 40,
   "metadata": {},
   "outputs": [
    {
     "output_type": "execute_result",
     "data": {
      "text/plain": [
       "                        open     high      low    close  vol  \\\n",
       "ts                                                             \n",
       "2017-01-02 13:19:00  1.04803  1.04804  1.04783  1.04794  503   \n",
       "2017-01-02 16:10:00  1.04657  1.04670  1.04657  1.04670  287   \n",
       "2017-01-02 23:54:00  1.04535  1.04540  1.04531  1.04540  133   \n",
       "2017-01-02 17:25:00  1.04675  1.04682  1.04675  1.04680  576   \n",
       "2017-01-02 15:12:00  1.04645  1.04645  1.04638  1.04643   87   \n",
       "\n",
       "                                     ts  \n",
       "ts                                       \n",
       "2017-01-02 13:19:00 2017-01-02 13:19:00  \n",
       "2017-01-02 16:10:00 2017-01-02 16:10:00  \n",
       "2017-01-02 23:54:00 2017-01-02 23:54:00  \n",
       "2017-01-02 17:25:00 2017-01-02 17:25:00  \n",
       "2017-01-02 15:12:00 2017-01-02 15:12:00  "
      ],
      "text/html": "<div>\n<style scoped>\n    .dataframe tbody tr th:only-of-type {\n        vertical-align: middle;\n    }\n\n    .dataframe tbody tr th {\n        vertical-align: top;\n    }\n\n    .dataframe thead th {\n        text-align: right;\n    }\n</style>\n<table border=\"1\" class=\"dataframe\">\n  <thead>\n    <tr style=\"text-align: right;\">\n      <th></th>\n      <th>open</th>\n      <th>high</th>\n      <th>low</th>\n      <th>close</th>\n      <th>vol</th>\n      <th>ts</th>\n    </tr>\n    <tr>\n      <th>ts</th>\n      <th></th>\n      <th></th>\n      <th></th>\n      <th></th>\n      <th></th>\n      <th></th>\n    </tr>\n  </thead>\n  <tbody>\n    <tr>\n      <th>2017-01-02 13:19:00</th>\n      <td>1.04803</td>\n      <td>1.04804</td>\n      <td>1.04783</td>\n      <td>1.04794</td>\n      <td>503</td>\n      <td>2017-01-02 13:19:00</td>\n    </tr>\n    <tr>\n      <th>2017-01-02 16:10:00</th>\n      <td>1.04657</td>\n      <td>1.04670</td>\n      <td>1.04657</td>\n      <td>1.04670</td>\n      <td>287</td>\n      <td>2017-01-02 16:10:00</td>\n    </tr>\n    <tr>\n      <th>2017-01-02 23:54:00</th>\n      <td>1.04535</td>\n      <td>1.04540</td>\n      <td>1.04531</td>\n      <td>1.04540</td>\n      <td>133</td>\n      <td>2017-01-02 23:54:00</td>\n    </tr>\n    <tr>\n      <th>2017-01-02 17:25:00</th>\n      <td>1.04675</td>\n      <td>1.04682</td>\n      <td>1.04675</td>\n      <td>1.04680</td>\n      <td>576</td>\n      <td>2017-01-02 17:25:00</td>\n    </tr>\n    <tr>\n      <th>2017-01-02 15:12:00</th>\n      <td>1.04645</td>\n      <td>1.04645</td>\n      <td>1.04638</td>\n      <td>1.04643</td>\n      <td>87</td>\n      <td>2017-01-02 15:12:00</td>\n    </tr>\n  </tbody>\n</table>\n</div>"
     },
     "metadata": {},
     "execution_count": 40
    }
   ],
   "source": [
    "df2.sample(5)"
   ]
  },
  {
   "cell_type": "code",
   "execution_count": 41,
   "metadata": {},
   "outputs": [
    {
     "output_type": "execute_result",
     "data": {
      "text/plain": [
       "4508"
      ]
     },
     "metadata": {},
     "execution_count": 41
    }
   ],
   "source": [
    "df2.resample('10s').apply(resample_rule).open.isna().sum()"
   ]
  },
  {
   "cell_type": "code",
   "execution_count": 44,
   "metadata": {},
   "outputs": [
    {
     "output_type": "execute_result",
     "data": {
      "text/plain": [
       "1.051683"
      ]
     },
     "metadata": {},
     "execution_count": 44
    }
   ],
   "source": [
    "round(df2.resample('10s').apply(resample_rule).open.interpolate()['2017-01-02 09:00:40'], 6)"
   ]
  },
  {
   "cell_type": "code",
   "execution_count": 46,
   "metadata": {},
   "outputs": [
    {
     "output_type": "execute_result",
     "data": {
      "text/plain": [
       "1.05168"
      ]
     },
     "metadata": {},
     "execution_count": 46
    }
   ],
   "source": [
    "round(df2.resample('10s').apply(resample_rule).close.interpolate(method='nearest')['2017-01-02 09:00:40'], 5)"
   ]
  },
  {
   "cell_type": "code",
   "execution_count": 47,
   "metadata": {},
   "outputs": [
    {
     "output_type": "display_data",
     "data": {
      "application/vnd.plotly.v1+json": {
       "config": {
        "plotlyServerURL": "https://plot.ly"
       },
       "data": [
        {
         "close": [
          1.05048,
          1.05046,
          1.05075,
          1.05087,
          1.05101,
          1.05072,
          1.0507,
          1.05062,
          1.05067,
          1.05056,
          1.05052,
          1.05056,
          1.05057,
          1.05062,
          1.05081,
          1.05092,
          1.05092,
          1.05091,
          1.05098,
          1.05115,
          1.05119,
          1.05099,
          1.05102,
          1.05124,
          1.05082,
          1.0508,
          1.05101,
          1.05112,
          1.05118,
          1.05101,
          1.05092,
          1.05087,
          1.0507799999999998,
          1.0505799999999998,
          1.05052,
          1.05055,
          1.0506799999999998,
          1.05056,
          1.05053,
          1.05032,
          1.04992,
          1.04978,
          1.04967,
          1.04924,
          1.0492,
          1.04934,
          1.04927,
          1.0494,
          1.04951,
          1.0496299999999998,
          1.04978,
          1.04951,
          1.04948,
          1.04932,
          1.0492,
          1.04903,
          1.04913,
          1.04915,
          1.04885,
          1.04884,
          1.04895
         ],
         "high": [
          1.05052,
          1.05053,
          1.0508,
          1.05093,
          1.05118,
          1.05101,
          1.05076,
          1.0509,
          1.05079,
          1.05072,
          1.05059,
          1.05062,
          1.05061,
          1.05065,
          1.05082,
          1.05093,
          1.05092,
          1.05093,
          1.05102,
          1.05115,
          1.05122,
          1.05124,
          1.0511,
          1.05131,
          1.05124,
          1.05086,
          1.05102,
          1.0512,
          1.05133,
          1.05123,
          1.05103,
          1.05093,
          1.05087,
          1.0507799999999998,
          1.05079,
          1.05061,
          1.0506799999999998,
          1.05076,
          1.05065,
          1.05056,
          1.0504,
          1.04999,
          1.04987,
          1.04979,
          1.04942,
          1.04944,
          1.04944,
          1.04942,
          1.04953,
          1.04975,
          1.04985,
          1.04984,
          1.0496299999999998,
          1.04948,
          1.04944,
          1.04923,
          1.04918,
          1.04933,
          1.04915,
          1.04895,
          1.0492
         ],
         "low": [
          1.05032,
          1.05031,
          1.05046,
          1.05063,
          1.05087,
          1.05072,
          1.05054,
          1.05056,
          1.05051,
          1.05056,
          1.05051,
          1.05038,
          1.05047,
          1.05042,
          1.0506,
          1.05066,
          1.05085,
          1.05077,
          1.05088,
          1.05081,
          1.05102,
          1.05092,
          1.05098,
          1.05102,
          1.05076,
          1.0507,
          1.05079,
          1.05101,
          1.05111,
          1.05098,
          1.05086,
          1.05082,
          1.0507799999999998,
          1.05057,
          1.05051,
          1.05051,
          1.05052,
          1.05056,
          1.05048,
          1.05032,
          1.04992,
          1.04957,
          1.04966,
          1.04916,
          1.04901,
          1.0492,
          1.04923,
          1.0491700000000002,
          1.04934,
          1.04949,
          1.0496299999999998,
          1.04947,
          1.04934,
          1.04928,
          1.04918,
          1.04902,
          1.049,
          1.04909,
          1.04882,
          1.04873,
          1.04873
         ],
         "open": [
          1.05044,
          1.05048,
          1.05046,
          1.05075,
          1.05087,
          1.05101,
          1.05072,
          1.0507,
          1.05062,
          1.0506799999999998,
          1.05056,
          1.05052,
          1.05056,
          1.05057,
          1.05062,
          1.05081,
          1.0509,
          1.05092,
          1.05091,
          1.05098,
          1.05115,
          1.05119,
          1.05099,
          1.05102,
          1.05124,
          1.05083,
          1.0508,
          1.05101,
          1.05112,
          1.0512,
          1.05101,
          1.05092,
          1.05087,
          1.0507799999999998,
          1.0505799999999998,
          1.05052,
          1.05055,
          1.0506799999999998,
          1.05056,
          1.05052,
          1.05032,
          1.04992,
          1.04978,
          1.04967,
          1.04924,
          1.0492,
          1.04934,
          1.04927,
          1.0494,
          1.04951,
          1.0496299999999998,
          1.04978,
          1.0495,
          1.04948,
          1.04932,
          1.0492,
          1.04903,
          1.04914,
          1.04915,
          1.04885,
          1.04883
         ],
         "type": "candlestick",
         "x": [
          "2017-01-05T12:00:00",
          "2017-01-05T12:01:00",
          "2017-01-05T12:02:00",
          "2017-01-05T12:03:00",
          "2017-01-05T12:04:00",
          "2017-01-05T12:05:00",
          "2017-01-05T12:06:00",
          "2017-01-05T12:07:00",
          "2017-01-05T12:08:00",
          "2017-01-05T12:09:00",
          "2017-01-05T12:10:00",
          "2017-01-05T12:11:00",
          "2017-01-05T12:12:00",
          "2017-01-05T12:13:00",
          "2017-01-05T12:14:00",
          "2017-01-05T12:15:00",
          "2017-01-05T12:16:00",
          "2017-01-05T12:17:00",
          "2017-01-05T12:18:00",
          "2017-01-05T12:19:00",
          "2017-01-05T12:20:00",
          "2017-01-05T12:21:00",
          "2017-01-05T12:22:00",
          "2017-01-05T12:23:00",
          "2017-01-05T12:24:00",
          "2017-01-05T12:25:00",
          "2017-01-05T12:26:00",
          "2017-01-05T12:27:00",
          "2017-01-05T12:28:00",
          "2017-01-05T12:29:00",
          "2017-01-05T12:30:00",
          "2017-01-05T12:31:00",
          "2017-01-05T12:32:00",
          "2017-01-05T12:33:00",
          "2017-01-05T12:34:00",
          "2017-01-05T12:35:00",
          "2017-01-05T12:36:00",
          "2017-01-05T12:37:00",
          "2017-01-05T12:38:00",
          "2017-01-05T12:39:00",
          "2017-01-05T12:40:00",
          "2017-01-05T12:41:00",
          "2017-01-05T12:42:00",
          "2017-01-05T12:43:00",
          "2017-01-05T12:44:00",
          "2017-01-05T12:45:00",
          "2017-01-05T12:46:00",
          "2017-01-05T12:47:00",
          "2017-01-05T12:48:00",
          "2017-01-05T12:49:00",
          "2017-01-05T12:50:00",
          "2017-01-05T12:51:00",
          "2017-01-05T12:52:00",
          "2017-01-05T12:53:00",
          "2017-01-05T12:54:00",
          "2017-01-05T12:55:00",
          "2017-01-05T12:56:00",
          "2017-01-05T12:57:00",
          "2017-01-05T12:58:00",
          "2017-01-05T12:59:00",
          "2017-01-05T13:00:00"
         ]
        }
       ],
       "layout": {
        "template": {
         "data": {
          "bar": [
           {
            "error_x": {
             "color": "#2a3f5f"
            },
            "error_y": {
             "color": "#2a3f5f"
            },
            "marker": {
             "line": {
              "color": "#E5ECF6",
              "width": 0.5
             }
            },
            "type": "bar"
           }
          ],
          "barpolar": [
           {
            "marker": {
             "line": {
              "color": "#E5ECF6",
              "width": 0.5
             }
            },
            "type": "barpolar"
           }
          ],
          "carpet": [
           {
            "aaxis": {
             "endlinecolor": "#2a3f5f",
             "gridcolor": "white",
             "linecolor": "white",
             "minorgridcolor": "white",
             "startlinecolor": "#2a3f5f"
            },
            "baxis": {
             "endlinecolor": "#2a3f5f",
             "gridcolor": "white",
             "linecolor": "white",
             "minorgridcolor": "white",
             "startlinecolor": "#2a3f5f"
            },
            "type": "carpet"
           }
          ],
          "choropleth": [
           {
            "colorbar": {
             "outlinewidth": 0,
             "ticks": ""
            },
            "type": "choropleth"
           }
          ],
          "contour": [
           {
            "colorbar": {
             "outlinewidth": 0,
             "ticks": ""
            },
            "colorscale": [
             [
              0,
              "#0d0887"
             ],
             [
              0.1111111111111111,
              "#46039f"
             ],
             [
              0.2222222222222222,
              "#7201a8"
             ],
             [
              0.3333333333333333,
              "#9c179e"
             ],
             [
              0.4444444444444444,
              "#bd3786"
             ],
             [
              0.5555555555555556,
              "#d8576b"
             ],
             [
              0.6666666666666666,
              "#ed7953"
             ],
             [
              0.7777777777777778,
              "#fb9f3a"
             ],
             [
              0.8888888888888888,
              "#fdca26"
             ],
             [
              1,
              "#f0f921"
             ]
            ],
            "type": "contour"
           }
          ],
          "contourcarpet": [
           {
            "colorbar": {
             "outlinewidth": 0,
             "ticks": ""
            },
            "type": "contourcarpet"
           }
          ],
          "heatmap": [
           {
            "colorbar": {
             "outlinewidth": 0,
             "ticks": ""
            },
            "colorscale": [
             [
              0,
              "#0d0887"
             ],
             [
              0.1111111111111111,
              "#46039f"
             ],
             [
              0.2222222222222222,
              "#7201a8"
             ],
             [
              0.3333333333333333,
              "#9c179e"
             ],
             [
              0.4444444444444444,
              "#bd3786"
             ],
             [
              0.5555555555555556,
              "#d8576b"
             ],
             [
              0.6666666666666666,
              "#ed7953"
             ],
             [
              0.7777777777777778,
              "#fb9f3a"
             ],
             [
              0.8888888888888888,
              "#fdca26"
             ],
             [
              1,
              "#f0f921"
             ]
            ],
            "type": "heatmap"
           }
          ],
          "heatmapgl": [
           {
            "colorbar": {
             "outlinewidth": 0,
             "ticks": ""
            },
            "colorscale": [
             [
              0,
              "#0d0887"
             ],
             [
              0.1111111111111111,
              "#46039f"
             ],
             [
              0.2222222222222222,
              "#7201a8"
             ],
             [
              0.3333333333333333,
              "#9c179e"
             ],
             [
              0.4444444444444444,
              "#bd3786"
             ],
             [
              0.5555555555555556,
              "#d8576b"
             ],
             [
              0.6666666666666666,
              "#ed7953"
             ],
             [
              0.7777777777777778,
              "#fb9f3a"
             ],
             [
              0.8888888888888888,
              "#fdca26"
             ],
             [
              1,
              "#f0f921"
             ]
            ],
            "type": "heatmapgl"
           }
          ],
          "histogram": [
           {
            "marker": {
             "colorbar": {
              "outlinewidth": 0,
              "ticks": ""
             }
            },
            "type": "histogram"
           }
          ],
          "histogram2d": [
           {
            "colorbar": {
             "outlinewidth": 0,
             "ticks": ""
            },
            "colorscale": [
             [
              0,
              "#0d0887"
             ],
             [
              0.1111111111111111,
              "#46039f"
             ],
             [
              0.2222222222222222,
              "#7201a8"
             ],
             [
              0.3333333333333333,
              "#9c179e"
             ],
             [
              0.4444444444444444,
              "#bd3786"
             ],
             [
              0.5555555555555556,
              "#d8576b"
             ],
             [
              0.6666666666666666,
              "#ed7953"
             ],
             [
              0.7777777777777778,
              "#fb9f3a"
             ],
             [
              0.8888888888888888,
              "#fdca26"
             ],
             [
              1,
              "#f0f921"
             ]
            ],
            "type": "histogram2d"
           }
          ],
          "histogram2dcontour": [
           {
            "colorbar": {
             "outlinewidth": 0,
             "ticks": ""
            },
            "colorscale": [
             [
              0,
              "#0d0887"
             ],
             [
              0.1111111111111111,
              "#46039f"
             ],
             [
              0.2222222222222222,
              "#7201a8"
             ],
             [
              0.3333333333333333,
              "#9c179e"
             ],
             [
              0.4444444444444444,
              "#bd3786"
             ],
             [
              0.5555555555555556,
              "#d8576b"
             ],
             [
              0.6666666666666666,
              "#ed7953"
             ],
             [
              0.7777777777777778,
              "#fb9f3a"
             ],
             [
              0.8888888888888888,
              "#fdca26"
             ],
             [
              1,
              "#f0f921"
             ]
            ],
            "type": "histogram2dcontour"
           }
          ],
          "mesh3d": [
           {
            "colorbar": {
             "outlinewidth": 0,
             "ticks": ""
            },
            "type": "mesh3d"
           }
          ],
          "parcoords": [
           {
            "line": {
             "colorbar": {
              "outlinewidth": 0,
              "ticks": ""
             }
            },
            "type": "parcoords"
           }
          ],
          "pie": [
           {
            "automargin": true,
            "type": "pie"
           }
          ],
          "scatter": [
           {
            "marker": {
             "colorbar": {
              "outlinewidth": 0,
              "ticks": ""
             }
            },
            "type": "scatter"
           }
          ],
          "scatter3d": [
           {
            "line": {
             "colorbar": {
              "outlinewidth": 0,
              "ticks": ""
             }
            },
            "marker": {
             "colorbar": {
              "outlinewidth": 0,
              "ticks": ""
             }
            },
            "type": "scatter3d"
           }
          ],
          "scattercarpet": [
           {
            "marker": {
             "colorbar": {
              "outlinewidth": 0,
              "ticks": ""
             }
            },
            "type": "scattercarpet"
           }
          ],
          "scattergeo": [
           {
            "marker": {
             "colorbar": {
              "outlinewidth": 0,
              "ticks": ""
             }
            },
            "type": "scattergeo"
           }
          ],
          "scattergl": [
           {
            "marker": {
             "colorbar": {
              "outlinewidth": 0,
              "ticks": ""
             }
            },
            "type": "scattergl"
           }
          ],
          "scattermapbox": [
           {
            "marker": {
             "colorbar": {
              "outlinewidth": 0,
              "ticks": ""
             }
            },
            "type": "scattermapbox"
           }
          ],
          "scatterpolar": [
           {
            "marker": {
             "colorbar": {
              "outlinewidth": 0,
              "ticks": ""
             }
            },
            "type": "scatterpolar"
           }
          ],
          "scatterpolargl": [
           {
            "marker": {
             "colorbar": {
              "outlinewidth": 0,
              "ticks": ""
             }
            },
            "type": "scatterpolargl"
           }
          ],
          "scatterternary": [
           {
            "marker": {
             "colorbar": {
              "outlinewidth": 0,
              "ticks": ""
             }
            },
            "type": "scatterternary"
           }
          ],
          "surface": [
           {
            "colorbar": {
             "outlinewidth": 0,
             "ticks": ""
            },
            "colorscale": [
             [
              0,
              "#0d0887"
             ],
             [
              0.1111111111111111,
              "#46039f"
             ],
             [
              0.2222222222222222,
              "#7201a8"
             ],
             [
              0.3333333333333333,
              "#9c179e"
             ],
             [
              0.4444444444444444,
              "#bd3786"
             ],
             [
              0.5555555555555556,
              "#d8576b"
             ],
             [
              0.6666666666666666,
              "#ed7953"
             ],
             [
              0.7777777777777778,
              "#fb9f3a"
             ],
             [
              0.8888888888888888,
              "#fdca26"
             ],
             [
              1,
              "#f0f921"
             ]
            ],
            "type": "surface"
           }
          ],
          "table": [
           {
            "cells": {
             "fill": {
              "color": "#EBF0F8"
             },
             "line": {
              "color": "white"
             }
            },
            "header": {
             "fill": {
              "color": "#C8D4E3"
             },
             "line": {
              "color": "white"
             }
            },
            "type": "table"
           }
          ]
         },
         "layout": {
          "annotationdefaults": {
           "arrowcolor": "#2a3f5f",
           "arrowhead": 0,
           "arrowwidth": 1
          },
          "autotypenumbers": "strict",
          "coloraxis": {
           "colorbar": {
            "outlinewidth": 0,
            "ticks": ""
           }
          },
          "colorscale": {
           "diverging": [
            [
             0,
             "#8e0152"
            ],
            [
             0.1,
             "#c51b7d"
            ],
            [
             0.2,
             "#de77ae"
            ],
            [
             0.3,
             "#f1b6da"
            ],
            [
             0.4,
             "#fde0ef"
            ],
            [
             0.5,
             "#f7f7f7"
            ],
            [
             0.6,
             "#e6f5d0"
            ],
            [
             0.7,
             "#b8e186"
            ],
            [
             0.8,
             "#7fbc41"
            ],
            [
             0.9,
             "#4d9221"
            ],
            [
             1,
             "#276419"
            ]
           ],
           "sequential": [
            [
             0,
             "#0d0887"
            ],
            [
             0.1111111111111111,
             "#46039f"
            ],
            [
             0.2222222222222222,
             "#7201a8"
            ],
            [
             0.3333333333333333,
             "#9c179e"
            ],
            [
             0.4444444444444444,
             "#bd3786"
            ],
            [
             0.5555555555555556,
             "#d8576b"
            ],
            [
             0.6666666666666666,
             "#ed7953"
            ],
            [
             0.7777777777777778,
             "#fb9f3a"
            ],
            [
             0.8888888888888888,
             "#fdca26"
            ],
            [
             1,
             "#f0f921"
            ]
           ],
           "sequentialminus": [
            [
             0,
             "#0d0887"
            ],
            [
             0.1111111111111111,
             "#46039f"
            ],
            [
             0.2222222222222222,
             "#7201a8"
            ],
            [
             0.3333333333333333,
             "#9c179e"
            ],
            [
             0.4444444444444444,
             "#bd3786"
            ],
            [
             0.5555555555555556,
             "#d8576b"
            ],
            [
             0.6666666666666666,
             "#ed7953"
            ],
            [
             0.7777777777777778,
             "#fb9f3a"
            ],
            [
             0.8888888888888888,
             "#fdca26"
            ],
            [
             1,
             "#f0f921"
            ]
           ]
          },
          "colorway": [
           "#636efa",
           "#EF553B",
           "#00cc96",
           "#ab63fa",
           "#FFA15A",
           "#19d3f3",
           "#FF6692",
           "#B6E880",
           "#FF97FF",
           "#FECB52"
          ],
          "font": {
           "color": "#2a3f5f"
          },
          "geo": {
           "bgcolor": "white",
           "lakecolor": "white",
           "landcolor": "#E5ECF6",
           "showlakes": true,
           "showland": true,
           "subunitcolor": "white"
          },
          "hoverlabel": {
           "align": "left"
          },
          "hovermode": "closest",
          "mapbox": {
           "style": "light"
          },
          "paper_bgcolor": "white",
          "plot_bgcolor": "#E5ECF6",
          "polar": {
           "angularaxis": {
            "gridcolor": "white",
            "linecolor": "white",
            "ticks": ""
           },
           "bgcolor": "#E5ECF6",
           "radialaxis": {
            "gridcolor": "white",
            "linecolor": "white",
            "ticks": ""
           }
          },
          "scene": {
           "xaxis": {
            "backgroundcolor": "#E5ECF6",
            "gridcolor": "white",
            "gridwidth": 2,
            "linecolor": "white",
            "showbackground": true,
            "ticks": "",
            "zerolinecolor": "white"
           },
           "yaxis": {
            "backgroundcolor": "#E5ECF6",
            "gridcolor": "white",
            "gridwidth": 2,
            "linecolor": "white",
            "showbackground": true,
            "ticks": "",
            "zerolinecolor": "white"
           },
           "zaxis": {
            "backgroundcolor": "#E5ECF6",
            "gridcolor": "white",
            "gridwidth": 2,
            "linecolor": "white",
            "showbackground": true,
            "ticks": "",
            "zerolinecolor": "white"
           }
          },
          "shapedefaults": {
           "line": {
            "color": "#2a3f5f"
           }
          },
          "ternary": {
           "aaxis": {
            "gridcolor": "white",
            "linecolor": "white",
            "ticks": ""
           },
           "baxis": {
            "gridcolor": "white",
            "linecolor": "white",
            "ticks": ""
           },
           "bgcolor": "#E5ECF6",
           "caxis": {
            "gridcolor": "white",
            "linecolor": "white",
            "ticks": ""
           }
          },
          "title": {
           "x": 0.05
          },
          "xaxis": {
           "automargin": true,
           "gridcolor": "white",
           "linecolor": "white",
           "ticks": "",
           "title": {
            "standoff": 15
           },
           "zerolinecolor": "white",
           "zerolinewidth": 2
          },
          "yaxis": {
           "automargin": true,
           "gridcolor": "white",
           "linecolor": "white",
           "ticks": "",
           "title": {
            "standoff": 15
           },
           "zerolinecolor": "white",
           "zerolinewidth": 2
          }
         }
        }
       }
      }
     },
     "metadata": {}
    },
    {
     "output_type": "execute_result",
     "data": {
      "text/plain": [
       "         open     high      low    close  vol                  ts  \\\n",
       "4491  1.05044  1.05052  1.05032  1.05048  530 2017-01-05 12:00:00   \n",
       "4492  1.05048  1.05053  1.05031  1.05046  447 2017-01-05 12:01:00   \n",
       "4493  1.05046  1.05080  1.05046  1.05075  516 2017-01-05 12:02:00   \n",
       "4494  1.05075  1.05093  1.05063  1.05087  477 2017-01-05 12:03:00   \n",
       "4495  1.05087  1.05118  1.05087  1.05101  456 2017-01-05 12:04:00   \n",
       "\n",
       "                 unixtime  \n",
       "4491  1483617600000000000  \n",
       "4492  1483617660000000000  \n",
       "4493  1483617720000000000  \n",
       "4494  1483617780000000000  \n",
       "4495  1483617840000000000  "
      ],
      "text/html": "<div>\n<style scoped>\n    .dataframe tbody tr th:only-of-type {\n        vertical-align: middle;\n    }\n\n    .dataframe tbody tr th {\n        vertical-align: top;\n    }\n\n    .dataframe thead th {\n        text-align: right;\n    }\n</style>\n<table border=\"1\" class=\"dataframe\">\n  <thead>\n    <tr style=\"text-align: right;\">\n      <th></th>\n      <th>open</th>\n      <th>high</th>\n      <th>low</th>\n      <th>close</th>\n      <th>vol</th>\n      <th>ts</th>\n      <th>unixtime</th>\n    </tr>\n  </thead>\n  <tbody>\n    <tr>\n      <th>4491</th>\n      <td>1.05044</td>\n      <td>1.05052</td>\n      <td>1.05032</td>\n      <td>1.05048</td>\n      <td>530</td>\n      <td>2017-01-05 12:00:00</td>\n      <td>1483617600000000000</td>\n    </tr>\n    <tr>\n      <th>4492</th>\n      <td>1.05048</td>\n      <td>1.05053</td>\n      <td>1.05031</td>\n      <td>1.05046</td>\n      <td>447</td>\n      <td>2017-01-05 12:01:00</td>\n      <td>1483617660000000000</td>\n    </tr>\n    <tr>\n      <th>4493</th>\n      <td>1.05046</td>\n      <td>1.05080</td>\n      <td>1.05046</td>\n      <td>1.05075</td>\n      <td>516</td>\n      <td>2017-01-05 12:02:00</td>\n      <td>1483617720000000000</td>\n    </tr>\n    <tr>\n      <th>4494</th>\n      <td>1.05075</td>\n      <td>1.05093</td>\n      <td>1.05063</td>\n      <td>1.05087</td>\n      <td>477</td>\n      <td>2017-01-05 12:03:00</td>\n      <td>1483617780000000000</td>\n    </tr>\n    <tr>\n      <th>4495</th>\n      <td>1.05087</td>\n      <td>1.05118</td>\n      <td>1.05087</td>\n      <td>1.05101</td>\n      <td>456</td>\n      <td>2017-01-05 12:04:00</td>\n      <td>1483617840000000000</td>\n    </tr>\n  </tbody>\n</table>\n</div>"
     },
     "metadata": {},
     "execution_count": 47
    }
   ],
   "source": [
    "df = data.copy()\n",
    "df = df[(df.ts >= '2017-01-05 12:00:00') & (df.ts <= '2017-01-05 13:00:00')]\n",
    "df['unixtime'] = df.ts.astype(np.int64)\n",
    "\n",
    "fig = go.Figure(data  = [go.Candlestick(\n",
    "            x=df['ts'],\n",
    "            open  = df['open'],\n",
    "            high  = df['high'],\n",
    "            low   = df['low'],\n",
    "            close = df['close']\n",
    "        )])\n",
    "\n",
    "fig.show()\n",
    "\n",
    "df.head()"
   ]
  },
  {
   "cell_type": "code",
   "execution_count": 49,
   "metadata": {},
   "outputs": [],
   "source": [
    "ti = np.linspace(df.unixtime.min(), df.unixtime.max(), 135)"
   ]
  },
  {
   "cell_type": "code",
   "execution_count": 52,
   "metadata": {},
   "outputs": [],
   "source": [
    "ff = np.interp(ti, df.unixtime, df.close)"
   ]
  },
  {
   "cell_type": "code",
   "execution_count": 54,
   "metadata": {},
   "outputs": [
    {
     "output_type": "execute_result",
     "data": {
      "text/plain": [
       "1.050295"
      ]
     },
     "metadata": {},
     "execution_count": 54
    }
   ],
   "source": []
  },
  {
   "cell_type": "code",
   "execution_count": 58,
   "metadata": {},
   "outputs": [
    {
     "output_type": "execute_result",
     "data": {
      "text/plain": [
       "1.050295"
      ]
     },
     "metadata": {},
     "execution_count": 58
    }
   ],
   "source": [
    "round(ff.mean(), 6)"
   ]
  },
  {
   "cell_type": "code",
   "execution_count": null,
   "metadata": {},
   "outputs": [],
   "source": []
  }
 ]
}