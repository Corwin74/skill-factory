{
 "cells": [
  {
   "cell_type": "code",
   "execution_count": 1,
   "metadata": {
    "colab": {
     "base_uri": "https://localhost:8080/",
     "height": 85
    },
    "colab_type": "code",
    "id": "zl5g0USZZMvI",
    "outputId": "1a4892f1-2fb9-4a1b-b75b-1592008361f6"
   },
   "outputs": [
    {
     "data": {
      "text/plain": [
       "(array([1.9922, 0.0078]),\n",
       " array([[ 0.70710678, -0.70710678],\n",
       "        [ 0.70710678,  0.70710678]]))"
      ]
     },
     "execution_count": 1,
     "metadata": {},
     "output_type": "execute_result"
    }
   ],
   "source": [
    "import numpy as np\n",
    "A = np.array([[1, 0.9922],\n",
    "    [0.9922, 1]]) # создаем матрицу 3х,2,3 \n",
    "B = np.linalg.eig(A) # находим собственные вектора (с.в.) и собственные числа (с.ч.) через np.linalg.eig\n",
    "B\n",
    "# Обратите внимание, что B - кортеж (tuple). Его компоненты имеют тип np.ndarray, с которыми вы уже должны быть знакомы. \n",
    "# Нулевая компонента B[0] - вектор собственных чисел, а компонента B[1] - матрица, столбцами которой являются \n",
    "# собственные вектора, соответствующие данному числу.; в данном случае собственному числу 13.59373746 \n",
    "# соответствует собственный вектор [0.45145779, 0.62348353, 0.63832135]"
   ]
  },
  {
   "cell_type": "code",
   "execution_count": 22,
   "metadata": {},
   "outputs": [],
   "source": [
    "l = B[1][1,:]"
   ]
  },
  {
   "cell_type": "code",
   "execution_count": 26,
   "metadata": {
    "colab": {},
    "colab_type": "code",
    "id": "fTnKUWS0nhA5"
   },
   "outputs": [
    {
     "data": {
      "text/plain": [
       "array([-0.28867513,  0.8660254 , -0.28867513, -0.28867513])"
      ]
     },
     "execution_count": 26,
     "metadata": {},
     "output_type": "execute_result"
    }
   ],
   "source": [
    "x1 = np.array([1,2,1,1])\n",
    "x1_centr = x1 - x1.mean()\n",
    "x1_norm = np.linalg.norm(x1_centr)\n",
    "x1_std_norm = x1_centr / x1_norm\n",
    "x1_std_norm"
   ]
  },
  {
   "cell_type": "code",
   "execution_count": 28,
   "metadata": {},
   "outputs": [
    {
     "data": {
      "text/plain": [
       "array([-0.19829369,  0.85927267, -0.28642422, -0.37455475])"
      ]
     },
     "execution_count": 28,
     "metadata": {},
     "output_type": "execute_result"
    }
   ],
   "source": [
    "x2 = np.array([70,130,65,60])\n",
    "x2_centr = x2 - x2.mean()\n",
    "x2_norm = np.linalg.norm(x2_centr)\n",
    "x2_std_norm = x2_centr / x2_norm\n",
    "x2_std_norm"
   ]
  },
  {
   "cell_type": "code",
   "execution_count": 29,
   "metadata": {},
   "outputs": [
    {
     "data": {
      "text/plain": [
       "array([-0.24396044,  0.86433557, -0.28811186, -0.33226327])"
      ]
     },
     "execution_count": 29,
     "metadata": {},
     "output_type": "execute_result"
    }
   ],
   "source": [
    "new = x1_std_norm*l[0] + x2_std_norm*l[1]\n",
    "new_c = new - new.mean()\n",
    "new_std = new_c / np.linalg.norm(new_c)\n",
    "new_std"
   ]
  }
 ],
 "metadata": {
  "colab": {
   "name": "Untitled2.ipynb",
   "provenance": [],
   "version": "0.3.2"
  },
  "kernelspec": {
   "display_name": "Python 3",
   "language": "python",
   "name": "python3"
  },
  "language_info": {
   "codemirror_mode": {
    "name": "ipython",
    "version": 3
   },
   "file_extension": ".py",
   "mimetype": "text/x-python",
   "name": "python",
   "nbconvert_exporter": "python",
   "pygments_lexer": "ipython3",
   "version": "3.7.6"
  }
 },
 "nbformat": 4,
 "nbformat_minor": 2
}
