{
 "cells": [
  {
   "cell_type": "code",
   "execution_count": 2,
   "metadata": {},
   "outputs": [],
   "source": [
    "from scipy.optimize import linprog\n",
    "import numpy as np\n",
    "import time"
   ]
  },
  {
   "cell_type": "code",
   "execution_count": 3,
   "metadata": {},
   "outputs": [
    {
     "name": "stdout",
     "output_type": "stream",
     "text": [
      "     con: array([4.39231856e-06, 6.01910315e-06, 5.61240711e-06])\n",
      "     fun: 1899.999925682654\n",
      " message: 'Optimization terminated successfully.'\n",
      "     nit: 5\n",
      "   slack: array([7.20364883e-06, 8.82017997e-06])\n",
      "  status: 0\n",
      " success: True\n",
      "       x: array([1.09999995e+02, 4.43103329e-08, 6.99999980e+01, 8.98577274e-07,\n",
      "       1.49999994e+02, 6.99999963e+01])\n",
      "Время :\n",
      "0.01994466781616211\n"
     ]
    }
   ],
   "source": [
    "start = time.time()\n",
    "c = [2,5,3,7,7,6]\n",
    "b_ub = [180, 220] \n",
    "A_ub = np.array([[1,1,1,0,0,0], [0,0,0,1,1,1]])\n",
    "b_eq = [110, 150, 140] \n",
    "A_eq = np.array([[1,0,0,1,0,0], [0,1,0,0,1,0], [0,0,1,0,0,1]])\n",
    "print(linprog(c, A_ub, b_ub, A_eq, b_eq))\n",
    "stop = time.time()\n",
    "print (\"Время :\")\n",
    "print(stop - start)"
   ]
  },
  {
   "cell_type": "code",
   "execution_count": 5,
   "metadata": {},
   "outputs": [],
   "source": [
    "a_eq = np.array([[1,1,1,0,0,0], [0,0,0,1,1,1]])\n",
    "x = np.array([1,1,1,1,1,1])"
   ]
  },
  {
   "cell_type": "code",
   "execution_count": 6,
   "metadata": {},
   "outputs": [
    {
     "data": {
      "text/plain": [
       "array([3, 3])"
      ]
     },
     "execution_count": 6,
     "metadata": {},
     "output_type": "execute_result"
    }
   ],
   "source": [
    "a_eq @ x"
   ]
  }
 ],
 "metadata": {
  "kernelspec": {
   "display_name": "Python 3",
   "language": "python",
   "name": "python3"
  },
  "language_info": {
   "codemirror_mode": {
    "name": "ipython",
    "version": 3
   },
   "file_extension": ".py",
   "mimetype": "text/x-python",
   "name": "python",
   "nbconvert_exporter": "python",
   "pygments_lexer": "ipython3",
   "version": "3.7.7"
  }
 },
 "nbformat": 4,
 "nbformat_minor": 4
}
