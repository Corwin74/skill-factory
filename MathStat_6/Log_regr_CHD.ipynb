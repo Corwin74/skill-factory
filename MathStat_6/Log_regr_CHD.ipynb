{
 "cells": [
  {
   "cell_type": "code",
   "execution_count": 4,
   "metadata": {
    "colab": {},
    "colab_type": "code",
    "id": "wr2l1eRirQcC"
   },
   "outputs": [],
   "source": [
    "import pandas as pd\n",
    "from sklearn import linear_model\n",
    "from sklearn.linear_model import LogisticRegression\n",
    "from sklearn.model_selection import train_test_split\n",
    "from sklearn import metrics\n",
    "import matplotlib.pyplot as plt\n",
    "import seaborn as sn\n",
    "import matplotlib.mlab as mlab\n",
    "%matplotlib inline\n",
    "%precision??"
   ]
  },
  {
   "cell_type": "code",
   "execution_count": 0,
   "metadata": {
    "colab": {},
    "colab_type": "code",
    "id": "Kv178wp_rQdO"
   },
   "outputs": [],
   "source": [
    "# Импортируем датасет и избавимся от нулевых строк\n",
    "df = pd.read_csv('framingham.csv')\n",
    "df.dropna(axis=0,inplace=True) #избавляемся от строчек с пропущенными значениями"
   ]
  },
  {
   "cell_type": "markdown",
   "metadata": {
    "colab_type": "text",
    "id": "VhTUGb7CrQfK"
   },
   "source": [
    "Задача 1:\n",
    "\n",
    "прогноз риска ишемичсекой болезни сердца в 10 летней перспективе в зависимости от всех имеющихся параметров"
   ]
  },
  {
   "cell_type": "code",
   "execution_count": 0,
   "metadata": {
    "colab": {},
    "colab_type": "code",
    "id": "2lxswKA7rQfi"
   },
   "outputs": [],
   "source": [
    "# разбиваем датафрейм на две части, dfx - параметры, dfy - целевая переменная. \n",
    "dfx = df.drop('TenYearCHD', axis = 1)\n",
    "dfy = df[['TenYearCHD']] "
   ]
  },
  {
   "cell_type": "code",
   "execution_count": 0,
   "metadata": {
    "colab": {},
    "colab_type": "code",
    "id": "seVyhXyyrQgJ"
   },
   "outputs": [],
   "source": [
    "# разбиваем датасет на train и test выборку в соотношениии 80% train / 20% test случайным образом\n",
    "X_train, X_test, y_train, y_test = train_test_split(dfx, dfy, test_size=0.2) "
   ]
  },
  {
   "cell_type": "code",
   "execution_count": 0,
   "metadata": {
    "colab": {},
    "colab_type": "code",
    "id": "cWQX5AQvrQgw"
   },
   "outputs": [],
   "source": [
    "# используем логистическую регрессию из sklearn. Имя lm - для краткости записи\n",
    "lm = linear_model.LogisticRegression(solver='liblinear') \n",
    "# solver='liblinear' задает алгоритм поиска максимума функции правдоподобия. "
   ]
  },
  {
   "cell_type": "code",
   "execution_count": 0,
   "metadata": {
    "colab": {},
    "colab_type": "code",
    "id": "PC2IsP1erQhh"
   },
   "outputs": [],
   "source": [
    "# функция fit обучает регрессию - подбирает коэффициенты\n",
    "model = lm.fit(X_train, y_train.values.ravel()) "
   ]
  },
  {
   "cell_type": "code",
   "execution_count": 0,
   "metadata": {
    "colab": {},
    "colab_type": "code",
    "id": "cnrKkZqBrQiH"
   },
   "outputs": [],
   "source": [
    "# выведем коэффициенты модели\n",
    "model.coef_"
   ]
  },
  {
   "cell_type": "code",
   "execution_count": 0,
   "metadata": {
    "colab": {},
    "colab_type": "code",
    "id": "TrlRuJSSrQjP"
   },
   "outputs": [],
   "source": [
    "# выведем коэффициент при константе\n",
    "model.intercept_"
   ]
  },
  {
   "cell_type": "code",
   "execution_count": 0,
   "metadata": {
    "colab": {},
    "colab_type": "code",
    "id": "6C8L9RxUrQkz"
   },
   "outputs": [],
   "source": [
    "# возьмем одного пациента из тестовой выборки и сделаем для него прогноз\n",
    "X_test[:1]"
   ]
  },
  {
   "cell_type": "code",
   "execution_count": 0,
   "metadata": {
    "colab": {},
    "colab_type": "code",
    "id": "GxkXwyBdrQma"
   },
   "outputs": [],
   "source": [
    "# прогноз вероятности отнесения к каждому классу (0 - нет риска, 1 - есть риск)\n",
    "# первый элемент массива - вероятность класса 0, второй - вероятность класса 1\n",
    "lm.predict_proba(X_test[:1])"
   ]
  },
  {
   "cell_type": "code",
   "execution_count": 0,
   "metadata": {
    "colab": {},
    "colab_type": "code",
    "id": "yjQKi-U9rQnP"
   },
   "outputs": [],
   "source": [
    "# классификация (0 - нет риска, 1 - есть риск)\n",
    "lm.predict(X_test[:1])"
   ]
  },
  {
   "cell_type": "code",
   "execution_count": 0,
   "metadata": {
    "colab": {},
    "colab_type": "code",
    "id": "kgfe2JsirQoK"
   },
   "outputs": [],
   "source": [
    "# сделаем prediction классов на всей тестовой выборке\n",
    "y_pred = lm.predict(X_test)\n",
    "y_pred"
   ]
  },
  {
   "cell_type": "code",
   "execution_count": 0,
   "metadata": {
    "colab": {},
    "colab_type": "code",
    "id": "hlBnC6-4rQoy"
   },
   "outputs": [],
   "source": [
    "y_pred.sum()"
   ]
  },
  {
   "cell_type": "code",
   "execution_count": 0,
   "metadata": {
    "colab": {},
    "colab_type": "code",
    "id": "TygXkVxErQpo"
   },
   "outputs": [],
   "source": [
    " # смотрим accuracy модели\n",
    "lm.score(X_test, y_test)"
   ]
  },
  {
   "cell_type": "code",
   "execution_count": 0,
   "metadata": {
    "colab": {},
    "colab_type": "code",
    "id": "mvouNHY0rQqq"
   },
   "outputs": [],
   "source": [
    "# смотрим confusion matrix - таблицу правильных и неправильных предсказаний\n",
    "cnf_matrix = metrics.confusion_matrix(y_test, y_pred)\n",
    "cnf_matrix "
   ]
  },
  {
   "cell_type": "code",
   "execution_count": 0,
   "metadata": {
    "colab": {},
    "colab_type": "code",
    "id": "mlkIIz37rQrn"
   },
   "outputs": [],
   "source": [
    "y_test['TenYearCHD'].value_counts()"
   ]
  },
  {
   "cell_type": "code",
   "execution_count": 0,
   "metadata": {
    "colab": {},
    "colab_type": "code",
    "id": "ZYTjZa7GrQsB"
   },
   "outputs": [],
   "source": [
    "y_pred.sum()"
   ]
  },
  {
   "cell_type": "code",
   "execution_count": 0,
   "metadata": {
    "colab": {},
    "colab_type": "code",
    "id": "jydCFa2prQsr",
    "scrolled": false
   },
   "outputs": [],
   "source": [
    "# строим тепловую карту\n",
    "# Обратите внимание - по строкам расположены настоящие значения классов, а по столбцам - предсказанные\n",
    "sn.heatmap(cnf_matrix, annot=True)"
   ]
  },
  {
   "cell_type": "markdown",
   "metadata": {
    "colab_type": "text",
    "id": "VejC02TerQtL"
   },
   "source": [
    "Выводы:\n",
    "Наша модель хорошо работает на \"здоровых\" пациентах и плохо на \"больных\":\n",
    "Из 100 (примерно) пациентов группы риска модель нашла около 10 (примерно), это значит, что вероятность ошибки второго рода высока. Для медицинского теста это плохо, поэтому нам нужно более аккуратно выбирать параметры."
   ]
  },
  {
   "cell_type": "markdown",
   "metadata": {
    "colab_type": "text",
    "id": "8HgbwE9VrQtZ"
   },
   "source": [
    "Задача 2\n",
    "\n",
    "прогноз риска ишемической болезни сердца в 10 летней перспективе в зависимости только от пола\n",
    "\n",
    "Делаем те же самые шаги, но с новыми переменными"
   ]
  },
  {
   "cell_type": "code",
   "execution_count": 0,
   "metadata": {
    "colab": {},
    "colab_type": "code",
    "id": "z3u8i8X7rQtt"
   },
   "outputs": [],
   "source": [
    "list_col=['male']\n",
    "dfx1 = df[list_col]\n",
    "dfy1 = df[['TenYearCHD']]\n",
    "\n",
    "X_train1, X_test1, y_train1, y_test1 = train_test_split(dfx1, dfy1, test_size=0.2)\n",
    "lm1 = linear_model.LogisticRegression(solver='liblinear') \n",
    "model1 = lm1.fit(X_train1, y_train1.values.ravel())"
   ]
  },
  {
   "cell_type": "code",
   "execution_count": 0,
   "metadata": {
    "colab": {},
    "colab_type": "code",
    "id": "Ck7ds8ulrQuB"
   },
   "outputs": [],
   "source": [
    "# Выведем коэффициенты модели. \n",
    "model1.coef_"
   ]
  },
  {
   "cell_type": "code",
   "execution_count": 0,
   "metadata": {
    "colab": {},
    "colab_type": "code",
    "id": "9atlIGpGrQuQ"
   },
   "outputs": [],
   "source": [
    "# выведем коэффициент при константе\n",
    "model1.intercept_"
   ]
  },
  {
   "cell_type": "code",
   "execution_count": 0,
   "metadata": {
    "colab": {},
    "colab_type": "code",
    "id": "s84DI-eyrQvR"
   },
   "outputs": [],
   "source": [
    "# Сделаем предсказания класса для всей тестовой выборки и вычислим accuracy модели\n",
    "\n",
    "y_pred1 = lm1.predict(X_test1) \n",
    "lm1.score(X_test1, y_test1)"
   ]
  },
  {
   "cell_type": "code",
   "execution_count": 0,
   "metadata": {
    "colab": {},
    "colab_type": "code",
    "id": "aftu8Dz7rQvy"
   },
   "outputs": [],
   "source": [
    "# Посмотрим на ошибки предсказания более детально:\n",
    "cnf_matrix2 = metrics.confusion_matrix(y_test1, y_pred1)\n",
    "cnf_matrix2"
   ]
  },
  {
   "cell_type": "code",
   "execution_count": 0,
   "metadata": {
    "colab": {},
    "colab_type": "code",
    "id": "nfx_FeWlrQwc"
   },
   "outputs": [],
   "source": [
    "sn.heatmap(cnf_matrix2, annot=True)"
   ]
  },
  {
   "cell_type": "markdown",
   "metadata": {
    "colab_type": "text",
    "id": "kvofzWGtrQxC"
   },
   "source": [
    "Выводы:\n",
    "Acuuracy модели довольно высока, но если присмотреться, нас ждет сюрприз:\n",
    "Внезапно модель считает всех пациентов здоровыми. Таким образом, пол сам по себе - бесполезный фактор для классификации."
   ]
  },
  {
   "cell_type": "code",
   "execution_count": 0,
   "metadata": {
    "colab": {},
    "colab_type": "code",
    "id": "CFAt_rlwrQxL"
   },
   "outputs": [],
   "source": []
  }
 ],
 "metadata": {
  "colab": {
   "name": "Log_regr_CHD.ipynb",
   "provenance": []
  },
  "kernelspec": {
   "display_name": "Python 3",
   "language": "python",
   "name": "python3"
  },
  "language_info": {
   "codemirror_mode": {
    "name": "ipython",
    "version": 3
   },
   "file_extension": ".py",
   "mimetype": "text/x-python",
   "name": "python",
   "nbconvert_exporter": "python",
   "pygments_lexer": "ipython3",
   "version": "3.7.6"
  }
 },
 "nbformat": 4,
 "nbformat_minor": 1
}
