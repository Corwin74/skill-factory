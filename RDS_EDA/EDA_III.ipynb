{
 "cells": [
  {
   "cell_type": "code",
   "execution_count": null,
   "metadata": {},
   "outputs": [],
   "source": [
    "import pandas as pd\n",
    "import numpy as np\n",
    "import matplotlib.pyplot as plt\n",
    "import seaborn as sns\n",
    "from itertools import combinations\n",
    "from scipy.stats import ttest_ind, kendalltau\n",
    "from sklearn.feature_selection import SelectKBest, f_classif\n",
    "import lightgbm as lgb\n",
    "from sklearn.metrics import mean_squared_error\n",
    "from sklearn.model_selection import train_test_split\n",
    "from sklearn.preprocessing import OrdinalEncoder\n",
    "\n",
    "df = pd.read_csv('stud_math.csv')\n",
    "df = df.drop('studytime, granular', axis=1)\n",
    "%matplotlib inline"
   ]
  },
  {
   "cell_type": "markdown",
   "metadata": {},
   "source": [
    "## Часть третья.  Числовая"
   ]
  },
  {
   "cell_type": "code",
   "execution_count": null,
   "metadata": {},
   "outputs": [],
   "source": [
    "# Разделим колонки по типам переменных, содержащихся в них.\n",
    "\n",
    "cat_cols = df.columns[df.dtypes == 'O'].to_list()\n",
    "num_cols_y = df.columns[df.dtypes == 'float64'].to_list()"
   ]
  },
  {
   "cell_type": "markdown",
   "metadata": {},
   "source": [
    "### Score\n",
    "Сначала посмотрим на нашу целевую переменную **score**"
   ]
  },
  {
   "cell_type": "code",
   "execution_count": null,
   "metadata": {},
   "outputs": [],
   "source": [
    "df.score.hist()"
   ]
  },
  {
   "cell_type": "markdown",
   "metadata": {},
   "source": [
    "Видим две части: на правой распределение очень похожее на нормальное, левая содержит значение 0. При стобальной оценке на экзамене, оценка 0 скорее значит, что ученик не писал работу совсем, либо оценка не попала в данные."
   ]
  },
  {
   "cell_type": "code",
   "execution_count": null,
   "metadata": {},
   "outputs": [],
   "source": [
    "df[df.score==0].head()"
   ]
  },
  {
   "cell_type": "markdown",
   "metadata": {},
   "source": [
    "*Здесь вывод ограничен пятью строками для удобства чтения, но на всех  \n",
    "остальных данных поле **'absences'** также содержит нулевое значение (и один NaN)  \n",
    "при нулевом  **'score'**. Источник данных о  пропущенных занятиях и итоговая  \n",
    "оценка это школа, остальные данные могли быть получене из других источников,  \n",
    "здесь явно какая-то аномалия. Причем нулевая оценка по экзамену никак не  \n",
    "коррелирует с другими данными, например вряд ли выглядит правдоподобным желание  \n",
    "получить высшее образование и нулевая оценка по математике. Мне кажется более  \n",
    "правильным удалить строки с нулевым значением **'score'**, чем заменять эти  \n",
    "значения, например на среднее или обучать модель на нулевом значении. По тем  \n",
    "же соображениям удалим строки (6) с пропусками в целевой переменной.*"
   ]
  },
  {
   "cell_type": "code",
   "execution_count": null,
   "metadata": {},
   "outputs": [],
   "source": [
    "df = df[df.score != 0]\n",
    "df = df.dropna(subset=['score'])"
   ]
  },
  {
   "cell_type": "markdown",
   "metadata": {},
   "source": [
    "### Absences\n",
    "Колонка с пропусками занятий absences содержит два выброса - 385 и 212. Для пропущенных занятий это слишком большое значение.\n",
    "Заменим на среднее значение без учета этих выбросов, дробную часть отбросим.  Пропуски заменим тем же средним."
   ]
  },
  {
   "cell_type": "code",
   "execution_count": null,
   "metadata": {},
   "outputs": [],
   "source": [
    "df[df.absences>100].absences"
   ]
  },
  {
   "cell_type": "code",
   "execution_count": null,
   "metadata": {},
   "outputs": [],
   "source": [
    "mean_ab = int(df.absences[df.absences<100].mean())\n",
    "index = df.absences[df.absences>100].index\n",
    "df.loc[index, 'absences'] = mean_ab\n",
    "df.absences.fillna(mean_ab, inplace=True)"
   ]
  },
  {
   "cell_type": "markdown",
   "metadata": {},
   "source": [
    "### Fedu, Medu"
   ]
  },
  {
   "cell_type": "code",
   "execution_count": null,
   "metadata": {},
   "outputs": [],
   "source": [
    "df.groupby('Fedu').Medu.value_counts()"
   ]
  },
  {
   "cell_type": "markdown",
   "metadata": {},
   "source": [
    "Наблюдается взаимосвязь между переменными Medu и Fedu, для каждого значения Fedu самое частое значение Medu совпадают или находится на втором месте. Поэтому для заполнения пропусков (24) в Fedu присвоим значение Medu из этой же строчки. Наоборот поступим также, там аналогичная зависимость без исключений."
   ]
  },
  {
   "cell_type": "code",
   "execution_count": null,
   "metadata": {},
   "outputs": [],
   "source": [
    "df.Fedu = df.Fedu.fillna(df.Medu)\n",
    "df.Medu = df.Medu.fillna(df.Fedu)"
   ]
  },
  {
   "cell_type": "markdown",
   "metadata": {},
   "source": [
    "### Traveltime\n",
    "\n",
    "Выбросов нет, 28 пропусков.\n"
   ]
  },
  {
   "cell_type": "code",
   "execution_count": null,
   "metadata": {},
   "outputs": [],
   "source": [
    "df.groupby(['school', 'address']).traveltime.value_counts(dropna=False)"
   ]
  },
  {
   "cell_type": "markdown",
   "metadata": {},
   "source": [
    "Школьники из школы GP независимо от типа адреса чаще всего добираются за время < 15 минут, а из MS за 15-30 минут. Заполним пропуски по этому принципу."
   ]
  },
  {
   "cell_type": "code",
   "execution_count": null,
   "metadata": {},
   "outputs": [],
   "source": [
    "df['traveltime'] = df.apply(lambda x: (1.0 if x.school == 'GP' else 2.0) if pd.isna(x.traveltime) else x.traveltime , axis=1)"
   ]
  },
  {
   "cell_type": "markdown",
   "metadata": {},
   "source": [
    "### Studytime\n",
    "Выбросов нет, 7 пропусков. "
   ]
  },
  {
   "cell_type": "code",
   "execution_count": null,
   "metadata": {},
   "outputs": [],
   "source": [
    "df.groupby('freetime').studytime.value_counts(dropna=False)"
   ]
  },
  {
   "cell_type": "markdown",
   "metadata": {},
   "source": [
    "Если у ученика много свободного времени после школы, значит он мало занимается после школы. Данные это предположение не отвергают, поэтому заполним **studytime** 1.0, если **freetime** равно 5.0, и значением 2.0 в остальных случаях."
   ]
  },
  {
   "cell_type": "code",
   "execution_count": null,
   "metadata": {},
   "outputs": [],
   "source": [
    "df['studytime'] = df.apply(lambda x: (1.0 if x.freetime == 5.0 else 2.0) if pd.isna(x.studytime) else x.studytime , axis=1)"
   ]
  },
  {
   "cell_type": "markdown",
   "metadata": {},
   "source": [
    "### Failures\n",
    "\n",
    "Выбросов нет. Пропусков - 22. Здесь нулевое значение побеждает с большим отрывом, поэтому заполним пропуск им"
   ]
  },
  {
   "cell_type": "code",
   "execution_count": null,
   "metadata": {},
   "outputs": [],
   "source": [
    "df.failures.fillna(0, inplace=True)"
   ]
  },
  {
   "cell_type": "markdown",
   "metadata": {},
   "source": [
    "### Famrel\n",
    "Один выброс - отрицательное значение \"-1\", просто поменяем ему знак. Пропусков - 27, заполним самым популярным значением этого поля 4.0"
   ]
  },
  {
   "cell_type": "code",
   "execution_count": null,
   "metadata": {},
   "outputs": [],
   "source": [
    "df.loc[df.famrel == -1, 'famrel'] = 1\n",
    "df.famrel.fillna(4.0, inplace=True)"
   ]
  },
  {
   "cell_type": "markdown",
   "metadata": {},
   "source": [
    "### Freetime\n",
    "\n",
    "Выбросов нет. Пропусков - 11. 3.0 - самое частое значение, середина нашей шкалы по этой колонке , поэтому заполним пропуск \"золотой\" серединой."
   ]
  },
  {
   "cell_type": "code",
   "execution_count": null,
   "metadata": {},
   "outputs": [],
   "source": [
    "df.freetime.fillna(3.0, inplace=True)"
   ]
  },
  {
   "cell_type": "markdown",
   "metadata": {},
   "source": [
    "### Goout\n",
    "\n",
    "Выбросов нет. Пропусков - 8. Остальное все так же как и в **Freetime**\n"
   ]
  },
  {
   "cell_type": "code",
   "execution_count": null,
   "metadata": {},
   "outputs": [],
   "source": [
    "df.goout.fillna(3.0, inplace=True)"
   ]
  },
  {
   "cell_type": "markdown",
   "metadata": {},
   "source": [
    "### Health\n",
    "Выбросов нет. Пропусков - 15, заполним самым популярным значением этого поля 5.0"
   ]
  },
  {
   "cell_type": "code",
   "execution_count": null,
   "metadata": {},
   "outputs": [],
   "source": [
    "df.health.fillna(5.0, inplace=True)"
   ]
  },
  {
   "cell_type": "code",
   "execution_count": null,
   "metadata": {},
   "outputs": [],
   "source": [
    "#=====================================================#\n",
    "df.info()"
   ]
  }
 ],
 "metadata": {
  "kernelspec": {
   "display_name": "Python 3",
   "language": "python",
   "name": "python3"
  },
  "language_info": {
   "codemirror_mode": {
    "name": "ipython",
    "version": 3
   },
   "file_extension": ".py",
   "mimetype": "text/x-python",
   "name": "python",
   "nbconvert_exporter": "python",
   "pygments_lexer": "ipython3",
   "version": "3.7.6"
  }
 },
 "nbformat": 4,
 "nbformat_minor": 4
}
