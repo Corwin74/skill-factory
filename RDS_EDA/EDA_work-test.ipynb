{
 "cells": [
  {
   "cell_type": "code",
   "execution_count": 32,
   "metadata": {},
   "outputs": [],
   "source": [
    "import pandas as pd\n",
    "import numpy as np\n",
    "import matplotlib.pyplot as plt\n",
    "import seaborn as sns\n",
    "from itertools import combinations\n",
    "from scipy.stats import ttest_ind\n",
    "\n",
    "df = pd.read_csv('stud_math.csv')"
   ]
  },
  {
   "cell_type": "code",
   "execution_count": 34,
   "metadata": {},
   "outputs": [
    {
     "data": {
      "text/plain": [
       "U      295\n",
       "R       83\n",
       "NaN     17\n",
       "Name: address, dtype: int64"
      ]
     },
     "execution_count": 34,
     "metadata": {},
     "output_type": "execute_result"
    }
   ],
   "source": [
    "df.address.value_counts(dropna=False)"
   ]
  },
  {
   "cell_type": "code",
   "execution_count": 39,
   "metadata": {},
   "outputs": [],
   "source": [
    "df['address'] = df.apply(lambda x: ('U' if x.traveltime == 1 else 'R') \\\n",
    "                         if pd.isna(x.address) else x.address , axis=1)"
   ]
  },
  {
   "cell_type": "code",
   "execution_count": 37,
   "metadata": {},
   "outputs": [
    {
     "data": {
      "text/plain": [
       "U    303\n",
       "R     92\n",
       "Name: address, dtype: int64"
      ]
     },
     "execution_count": 37,
     "metadata": {},
     "output_type": "execute_result"
    }
   ],
   "source": [
    "df.address.value_counts(dropna=False)"
   ]
  },
  {
   "cell_type": "code",
   "execution_count": 7,
   "metadata": {
    "scrolled": true
   },
   "outputs": [
    {
     "data": {
      "text/plain": [
       "address\n",
       "R    1.815789\n",
       "U    1.332130\n",
       "Name: traveltime, dtype: float64"
      ]
     },
     "execution_count": 7,
     "metadata": {},
     "output_type": "execute_result"
    }
   ],
   "source": [
    "df.groupby(['address']).traveltime.mean()"
   ]
  },
  {
   "cell_type": "code",
   "execution_count": 30,
   "metadata": {},
   "outputs": [
    {
     "data": {
      "text/plain": [
       "['school',\n",
       " 'sex',\n",
       " 'address',\n",
       " 'famsize',\n",
       " 'Pstatus',\n",
       " 'Mjob',\n",
       " 'Fjob',\n",
       " 'reason',\n",
       " 'guardian',\n",
       " 'schoolsup',\n",
       " 'famsup',\n",
       " 'paid',\n",
       " 'activities',\n",
       " 'nursery',\n",
       " 'higher',\n",
       " 'internet',\n",
       " 'romantic']"
      ]
     },
     "execution_count": 30,
     "metadata": {},
     "output_type": "execute_result"
    }
   ],
   "source": [
    "nominate"
   ]
  },
  {
   "cell_type": "code",
   "execution_count": 11,
   "metadata": {},
   "outputs": [
    {
     "name": "stdout",
     "output_type": "stream",
     "text": [
      "<class 'pandas.core.frame.DataFrame'>\n",
      "RangeIndex: 395 entries, 0 to 394\n",
      "Data columns (total 28 columns):\n",
      " #   Column      Non-Null Count  Dtype  \n",
      "---  ------      --------------  -----  \n",
      " 0   sex         395 non-null    object \n",
      " 1   age         395 non-null    int64  \n",
      " 2   address     378 non-null    object \n",
      " 3   famsize     368 non-null    object \n",
      " 4   Pstatus     350 non-null    object \n",
      " 5   Medu        392 non-null    float64\n",
      " 6   Fedu        371 non-null    float64\n",
      " 7   Mjob        376 non-null    object \n",
      " 8   Fjob        359 non-null    object \n",
      " 9   reason      378 non-null    object \n",
      " 10  guardian    364 non-null    object \n",
      " 11  traveltime  367 non-null    float64\n",
      " 12  studytime   388 non-null    float64\n",
      " 13  failures    373 non-null    float64\n",
      " 14  schoolsup   386 non-null    object \n",
      " 15  famsup      356 non-null    object \n",
      " 16  paid        355 non-null    object \n",
      " 17  activities  381 non-null    object \n",
      " 18  nursery     379 non-null    object \n",
      " 19  higher      375 non-null    object \n",
      " 20  internet    361 non-null    object \n",
      " 21  romantic    364 non-null    object \n",
      " 22  famrel      368 non-null    float64\n",
      " 23  freetime    384 non-null    float64\n",
      " 24  goout       387 non-null    float64\n",
      " 25  health      380 non-null    float64\n",
      " 26  absences    383 non-null    float64\n",
      " 27  score       389 non-null    float64\n",
      "dtypes: float64(11), int64(1), object(16)\n",
      "memory usage: 86.5+ KB\n"
     ]
    }
   ],
   "source": [
    "df.info()"
   ]
  }
 ],
 "metadata": {
  "kernelspec": {
   "display_name": "Python 3",
   "language": "python",
   "name": "python3"
  },
  "language_info": {
   "codemirror_mode": {
    "name": "ipython",
    "version": 3
   },
   "file_extension": ".py",
   "mimetype": "text/x-python",
   "name": "python",
   "nbconvert_exporter": "python",
   "pygments_lexer": "ipython3",
   "version": "3.7.6"
  }
 },
 "nbformat": 4,
 "nbformat_minor": 4
}
