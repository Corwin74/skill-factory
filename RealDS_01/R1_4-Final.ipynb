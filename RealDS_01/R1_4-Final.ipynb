{
 "cells": [
  {
   "cell_type": "markdown",
   "metadata": {},
   "source": [
    "# Загрузка Pandas и очистка данных"
   ]
  },
  {
   "cell_type": "code",
   "execution_count": 17,
   "metadata": {},
   "outputs": [],
   "source": [
    "import pandas as pd\n",
    "import re\n",
    "df = pd.read_csv('main_task.csv')"
   ]
  },
  {
   "cell_type": "code",
   "execution_count": 28,
   "metadata": {},
   "outputs": [],
   "source": [
    "# Ваш код по очистке данных и генерации новых признаков\n",
    "# При необходимости добавьте ячейки\n",
    "#'Reviews', 'URL_TA', 'ID_TA', 'Rating', 'Restaurant_id'\n",
    "\n",
    "X = df.drop(['Reviews', 'URL_TA', 'ID_TA', 'Rating'], axis=1)\n",
    "\n",
    "#Первый признак: Индекс города\n",
    "\n",
    "list_city = list(df['City'].unique())\n",
    "dict_city = {}\n",
    "for each in list_city:\n",
    "    dict_city[each] = len(dict_city)\n",
    "X['City'] = X['City'].apply(lambda x: dict_city[x])\n",
    "\n",
    "#Второй признак: Уровень цен\n",
    "df['Price Range'] = df['Price Range'].fillna(0)\n",
    "price_dict = {'$$ - $$$': 5, '$$$$': 15, '$': 3}\n",
    "X['Price Range'] = df['Price Range'].apply(lambda x: 3 if x == 0 else price_dict[x])\n",
    "\n",
    "#Третий признак: Количество кухонь\n",
    "df['Cuisine Style'].fillna(\"\", inplace=True)\n",
    "X['Cuisine Style_'] = df['Cuisine Style'].apply(lambda x: len(re.findall('\\w+\\s*\\w+\\s*\\w+', str(x))))\n",
    "\n",
    "#Четвертый признак: Встречаются ли в отзывах слова Good|good|excellent|Excellent|awesome|Awesome|Best|best|Nice|nice\n",
    "                                                 \n",
    "X['is_good'] = df['Reviews'].apply(lambda x: 0 if pd.isna(re.search(\"Good|good|excellent|Excellent|awesome|Awesome|Best|best|Nice|nice\", x)) else 1)\n",
    "\n",
    "def review_time(row):\n",
    "    match = re.findall('\\d\\d/\\d\\d/\\d\\d\\d\\d', row['Reviews'])\n",
    "    if len(match) == 0:\n",
    "        return [pd.to_datetime('10/25/2017', format='%m/%d/%Y'), pd.to_datetime('10/25/2017', format='%m/%d/%Y')]\n",
    "    elif len(match) == 1:\n",
    "        return [pd.to_datetime(match[0], format='%m/%d/%Y'), pd.to_datetime('10/25/2017', format='%m/%d/%Y')]\n",
    "    return [pd.to_datetime(match[0], format='%m/%d/%Y'), pd.to_datetime(match[1], format='%m/%d/%Y')]\n",
    "df2 = df.apply(review_time, axis=1, result_type='expand')\n",
    "fake = pd.to_datetime('10/25/2017',  format='%m/%d/%Y')\n",
    "X['delta'] = df2.apply(lambda x: (x[0]-x[1]).days if not x[0] == fake or not x[1] == fake else 100000, axis=1)"
   ]
  },
  {
   "cell_type": "code",
   "execution_count": 29,
   "metadata": {},
   "outputs": [],
   "source": [
    "X = X.drop(['Cuisine Style'], axis=1)\n",
    "X['Restaurant_id'] = X['Restaurant_id'].apply(lambda x: int(str(x)[3:]))\n",
    "X = X.fillna(0)"
   ]
  },
  {
   "cell_type": "code",
   "execution_count": 30,
   "metadata": {},
   "outputs": [
    {
     "data": {
      "text/html": [
       "<div>\n",
       "<style scoped>\n",
       "    .dataframe tbody tr th:only-of-type {\n",
       "        vertical-align: middle;\n",
       "    }\n",
       "\n",
       "    .dataframe tbody tr th {\n",
       "        vertical-align: top;\n",
       "    }\n",
       "\n",
       "    .dataframe thead th {\n",
       "        text-align: right;\n",
       "    }\n",
       "</style>\n",
       "<table border=\"1\" class=\"dataframe\">\n",
       "  <thead>\n",
       "    <tr style=\"text-align: right;\">\n",
       "      <th></th>\n",
       "      <th>Restaurant_id</th>\n",
       "      <th>City</th>\n",
       "      <th>Ranking</th>\n",
       "      <th>Price Range</th>\n",
       "      <th>Number of Reviews</th>\n",
       "      <th>Cuisine Style_</th>\n",
       "      <th>is_good</th>\n",
       "      <th>delta</th>\n",
       "    </tr>\n",
       "  </thead>\n",
       "  <tbody>\n",
       "    <tr>\n",
       "      <th>0</th>\n",
       "      <td>5569</td>\n",
       "      <td>0</td>\n",
       "      <td>5570.0</td>\n",
       "      <td>5</td>\n",
       "      <td>194.0</td>\n",
       "      <td>3</td>\n",
       "      <td>1</td>\n",
       "      <td>41</td>\n",
       "    </tr>\n",
       "    <tr>\n",
       "      <th>1</th>\n",
       "      <td>1535</td>\n",
       "      <td>1</td>\n",
       "      <td>1537.0</td>\n",
       "      <td>3</td>\n",
       "      <td>10.0</td>\n",
       "      <td>0</td>\n",
       "      <td>0</td>\n",
       "      <td>382</td>\n",
       "    </tr>\n",
       "    <tr>\n",
       "      <th>2</th>\n",
       "      <td>352</td>\n",
       "      <td>2</td>\n",
       "      <td>353.0</td>\n",
       "      <td>15</td>\n",
       "      <td>688.0</td>\n",
       "      <td>7</td>\n",
       "      <td>0</td>\n",
       "      <td>2</td>\n",
       "    </tr>\n",
       "    <tr>\n",
       "      <th>3</th>\n",
       "      <td>3456</td>\n",
       "      <td>3</td>\n",
       "      <td>3458.0</td>\n",
       "      <td>3</td>\n",
       "      <td>3.0</td>\n",
       "      <td>0</td>\n",
       "      <td>0</td>\n",
       "      <td>100000</td>\n",
       "    </tr>\n",
       "    <tr>\n",
       "      <th>4</th>\n",
       "      <td>615</td>\n",
       "      <td>4</td>\n",
       "      <td>621.0</td>\n",
       "      <td>5</td>\n",
       "      <td>84.0</td>\n",
       "      <td>3</td>\n",
       "      <td>1</td>\n",
       "      <td>272</td>\n",
       "    </tr>\n",
       "  </tbody>\n",
       "</table>\n",
       "</div>"
      ],
      "text/plain": [
       "   Restaurant_id  City  Ranking  Price Range  Number of Reviews  \\\n",
       "0           5569     0   5570.0            5              194.0   \n",
       "1           1535     1   1537.0            3               10.0   \n",
       "2            352     2    353.0           15              688.0   \n",
       "3           3456     3   3458.0            3                3.0   \n",
       "4            615     4    621.0            5               84.0   \n",
       "\n",
       "   Cuisine Style_  is_good   delta  \n",
       "0               3        1      41  \n",
       "1               0        0     382  \n",
       "2               7        0       2  \n",
       "3               0        0  100000  \n",
       "4               3        1     272  "
      ]
     },
     "execution_count": 30,
     "metadata": {},
     "output_type": "execute_result"
    }
   ],
   "source": [
    "X.head()\n"
   ]
  },
  {
   "cell_type": "markdown",
   "metadata": {},
   "source": [
    "# Разбиваем датафрейм на части, необходимые для обучения и тестирования модели"
   ]
  },
  {
   "cell_type": "code",
   "execution_count": 31,
   "metadata": {},
   "outputs": [],
   "source": [
    "# Х - данные с информацией о ресторанах, у - целевая переменная (рейтинги ресторанов)\n",
    "y = df['Rating']"
   ]
  },
  {
   "cell_type": "code",
   "execution_count": 32,
   "metadata": {},
   "outputs": [],
   "source": [
    "# Загружаем специальный инструмент для разбивки:\n",
    "from sklearn.model_selection import train_test_split\n",
    "\n",
    "# Наборы данных с меткой \"train\" будут использоваться для обучения модели, \"test\" - для тестирования.\n",
    "# Для тестирования мы будем использовать 25% от исходного датасета.\n",
    "X_train, X_test, y_train, y_test = train_test_split(X, y, test_size=0.25, random_state=42)"
   ]
  },
  {
   "cell_type": "markdown",
   "metadata": {},
   "source": [
    "# Создаём, обучаем и тестируем модель"
   ]
  },
  {
   "cell_type": "code",
   "execution_count": 33,
   "metadata": {},
   "outputs": [
    {
     "name": "stdout",
     "output_type": "stream",
     "text": [
      "MAE: 0.21335549999999998\n"
     ]
    }
   ],
   "source": [
    "# Импортируем необходимые библиотеки:\n",
    "from sklearn.ensemble import RandomForestRegressor # инструмент для создания и обучения модели\n",
    "from sklearn import metrics # инструменты для оценки точности модели\n",
    "\n",
    "# Создаём модель\n",
    "regr = RandomForestRegressor(n_estimators=100, random_state=42)\n",
    "\n",
    "# Обучаем модель на тестовом наборе данных\n",
    "regr.fit(X_train, y_train)\n",
    "\n",
    "# Используем обученную модель для предсказания рейтинга ресторанов в тестовой выборке.\n",
    "# Предсказанные значения записываем в переменную y_pred\n",
    "y_pred = regr.predict(X_test)\n",
    "\n",
    "# Сравниваем предсказанные значения (y_pred) с реальными (y_test), и смотрим насколько они в среднем отличаются\n",
    "# Метрика называется Mean Absolute Error (MAE) и показывает среднее отклонение предсказанных значений от фактических.\n",
    "print('MAE:', metrics.mean_absolute_error(y_test, y_pred))"
   ]
  }
 ],
 "metadata": {
  "kernelspec": {
   "display_name": "Python 3",
   "language": "python",
   "name": "python3"
  },
  "language_info": {
   "codemirror_mode": {
    "name": "ipython",
    "version": 3
   },
   "file_extension": ".py",
   "mimetype": "text/x-python",
   "name": "python",
   "nbconvert_exporter": "python",
   "pygments_lexer": "ipython3",
   "version": "3.7.6"
  }
 },
 "nbformat": 4,
 "nbformat_minor": 2
}
