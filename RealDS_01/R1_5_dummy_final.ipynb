{
 "cells": [
  {
   "cell_type": "markdown",
   "metadata": {},
   "source": [
    "# Загрузка Pandas и очистка данных"
   ]
  },
  {
   "cell_type": "code",
   "execution_count": 1,
   "metadata": {},
   "outputs": [],
   "source": [
    "import pandas as pd\n",
    "import numpy as np\n",
    "import re\n",
    "df = pd.read_csv('main_task.csv')\n",
    "X = df.drop(['Reviews', 'URL_TA', 'ID_TA', 'Rating', 'City', 'Restaurant_id', 'Cuisine Style', 'Price Range'], axis=1)"
   ]
  },
  {
   "cell_type": "code",
   "execution_count": 2,
   "metadata": {},
   "outputs": [],
   "source": [
    "X['count_city_venue'] = df['City'].map(df.groupby(['City'])['City'].max().to_dict())"
   ]
  },
  {
   "cell_type": "code",
   "execution_count": 4,
   "metadata": {},
   "outputs": [
    {
     "data": {
      "text/plain": [
       "0            Paris\n",
       "1        Stockholm\n",
       "2           London\n",
       "3           Berlin\n",
       "4           Munich\n",
       "           ...    \n",
       "39995        Milan\n",
       "39996        Paris\n",
       "39997    Stockholm\n",
       "39998       Warsaw\n",
       "39999        Milan\n",
       "Name: City, Length: 40000, dtype: object"
      ]
     },
     "execution_count": 4,
     "metadata": {},
     "output_type": "execute_result"
    }
   ],
   "source": [
    " df['City'].map(df.groupby(['City'])['City'].max().to_dict())"
   ]
  },
  {
   "cell_type": "code",
   "execution_count": 13,
   "metadata": {},
   "outputs": [
    {
     "data": {
      "text/plain": [
       "0        13986.0\n",
       "1         2464.0\n",
       "2        16444.0\n",
       "3         6372.0\n",
       "4         2763.0\n",
       "          ...   \n",
       "39995     6275.0\n",
       "39996    13986.0\n",
       "39997     2464.0\n",
       "39998     2141.0\n",
       "39999     6275.0\n",
       "Name: City, Length: 40000, dtype: float64"
      ]
     },
     "execution_count": 13,
     "metadata": {},
     "output_type": "execute_result"
    }
   ],
   "source": [
    "df['City'].map(df.groupby(['City'])['Ranking'].max().to_dict())"
   ]
  },
  {
   "cell_type": "code",
   "execution_count": 9,
   "metadata": {},
   "outputs": [
    {
     "data": {
      "text/plain": [
       "{'Amsterdam': 3249.0,\n",
       " 'Athens': 1787.0,\n",
       " 'Barcelona': 7796.0,\n",
       " 'Berlin': 6372.0,\n",
       " 'Bratislava': 889.0,\n",
       " 'Brussels': 3004.0,\n",
       " 'Budapest': 2438.0,\n",
       " 'Copenhagen': 1964.0,\n",
       " 'Dublin': 1960.0,\n",
       " 'Edinburgh': 1766.0,\n",
       " 'Geneva': 1413.0,\n",
       " 'Hamburg': 2736.0,\n",
       " 'Helsinki': 1141.0,\n",
       " 'Krakow': 1244.0,\n",
       " 'Lisbon': 3717.0,\n",
       " 'Ljubljana': 468.0,\n",
       " 'London': 16444.0,\n",
       " 'Luxembourg': 621.0,\n",
       " 'Lyon': 2666.0,\n",
       " 'Madrid': 8809.0,\n",
       " 'Milan': 6275.0,\n",
       " 'Munich': 2763.0,\n",
       " 'Oporto': 1484.0,\n",
       " 'Oslo': 1137.0,\n",
       " 'Paris': 13986.0,\n",
       " 'Prague': 4188.0,\n",
       " 'Rome': 5946.0,\n",
       " 'Stockholm': 2464.0,\n",
       " 'Vienna': 3444.0,\n",
       " 'Warsaw': 2141.0,\n",
       " 'Zurich': 1590.0}"
      ]
     },
     "execution_count": 9,
     "metadata": {},
     "output_type": "execute_result"
    }
   ],
   "source": [
    "df.groupby(['City'])['Ranking'].max().to_dict()"
   ]
  },
  {
   "cell_type": "code",
   "execution_count": 4,
   "metadata": {},
   "outputs": [
    {
     "data": {
      "text/plain": [
       "array(['$$ - $$$', nan, '$$$$', '$'], dtype=object)"
      ]
     },
     "execution_count": 4,
     "metadata": {},
     "output_type": "execute_result"
    }
   ],
   "source": [
    "df['Price Range'].unique()"
   ]
  },
  {
   "cell_type": "markdown",
   "metadata": {},
   "source": [
    "**Обработка Price Range**"
   ]
  },
  {
   "cell_type": "code",
   "execution_count": null,
   "metadata": {},
   "outputs": [],
   "source": [
    "from sklearn import preprocessing\n",
    "le"
   ]
  },
  {
   "cell_type": "code",
   "execution_count": 5,
   "metadata": {},
   "outputs": [],
   "source": [
    "X['PriceRange_isNAN'] = pd.isna(df['Price Range']).astype('uint8')\n",
    "df['Price Range'].fillna('$$ - $$$', inplace=True)\n",
    "\n",
    "X['Price Range'] = df['Price Range']"
   ]
  },
  {
   "cell_type": "code",
   "execution_count": 6,
   "metadata": {},
   "outputs": [
    {
     "data": {
      "text/html": [
       "<div>\n",
       "<style scoped>\n",
       "    .dataframe tbody tr th:only-of-type {\n",
       "        vertical-align: middle;\n",
       "    }\n",
       "\n",
       "    .dataframe tbody tr th {\n",
       "        vertical-align: top;\n",
       "    }\n",
       "\n",
       "    .dataframe thead th {\n",
       "        text-align: right;\n",
       "    }\n",
       "</style>\n",
       "<table border=\"1\" class=\"dataframe\">\n",
       "  <thead>\n",
       "    <tr style=\"text-align: right;\">\n",
       "      <th></th>\n",
       "      <th>Ranking</th>\n",
       "      <th>Number of Reviews</th>\n",
       "      <th>PriceRange_isNAN</th>\n",
       "      <th>Price Range</th>\n",
       "    </tr>\n",
       "  </thead>\n",
       "  <tbody>\n",
       "    <tr>\n",
       "      <th>26076</th>\n",
       "      <td>13356.0</td>\n",
       "      <td>3.0</td>\n",
       "      <td>1</td>\n",
       "      <td>$$ - $$$</td>\n",
       "    </tr>\n",
       "  </tbody>\n",
       "</table>\n",
       "</div>"
      ],
      "text/plain": [
       "       Ranking  Number of Reviews  PriceRange_isNAN Price Range\n",
       "26076  13356.0                3.0                 1    $$ - $$$"
      ]
     },
     "execution_count": 6,
     "metadata": {},
     "output_type": "execute_result"
    }
   ],
   "source": [
    "X.sample()"
   ]
  },
  {
   "cell_type": "code",
   "execution_count": 48,
   "metadata": {},
   "outputs": [],
   "source": [
    "# Dummy based on price range\n",
    "\n",
    "t1 = pd.get_dummies(df['Price Range'])\n",
    "t1.columns=['low', 'mean', 'high']\n",
    "X = X.join(t1)"
   ]
  },
  {
   "cell_type": "code",
   "execution_count": 49,
   "metadata": {},
   "outputs": [],
   "source": [
    "# Dummy based on cities\n",
    "\n",
    "country = {'Paris': 'France', 'Stockholm': 'Sweden', 'London': 'GB', 'Berlin': 'Germany', 'Munich': 'Germany',\n",
    "           'Oporto': 'Portugal', 'Milan': 'Italy', 'Bratislava': 'Slovak', 'Vienna': 'Austria', 'Rome': 'Italy',\n",
    "           'Barcelona': 'Spain', 'Madrid': 'Spain', 'Dublin': 'Ireland', 'Brussels': 'Belgium', 'Zurich': 'Switzerland',\n",
    "           'Warsaw': 'Poland', 'Budapest': 'Hungary', 'Copenhagen': 'Sweden', 'Amsterdam': 'Dutch', 'Lyon': 'France',\n",
    "           'Hamburg': 'Germany', 'Lisbon': 'Portugal', 'Prague': 'Czech','Oslo': 'Denmark', 'Helsinki': 'Finland',\n",
    "           'Edinburgh': 'GB', 'Geneva': 'Switzerland', 'Ljubljana': 'Slovak', 'Athens': 'Greece', \n",
    "           'Luxembourg': 'Luxembourg', 'Krakow': 'Poland'}\n",
    "\n",
    "t2 = pd.get_dummies(df['City'])\n",
    "X = X.join(t2)"
   ]
  },
  {
   "cell_type": "code",
   "execution_count": 50,
   "metadata": {},
   "outputs": [],
   "source": [
    "# Dummy based on Cuisine Style\n",
    "\n",
    "import re\n",
    "\n",
    "df['Cuisine Style'].fillna(\"\", inplace=True)\n",
    "df['Cuisine Style_'] = df['Cuisine Style'].apply(lambda x: re.findall('\\w+\\s*\\w+\\s*\\w+', str(x)))\n",
    "cuisine_dict = {}\n",
    "cuisine_freq = {}\n",
    "cuisine_venue = {}\n",
    "idx = 0\n",
    "indx = 0\n",
    "\n",
    "def create_dict(x):\n",
    "    global idx, indx\n",
    "    if len(x['Cuisine Style_']) == 0:\n",
    "        cuisine_venue[indx] = 1\n",
    "    else:\n",
    "        cuisine_venue[indx] = len(x['Cuisine Style_'])\n",
    "    indx += 1\n",
    "    for each in x['Cuisine Style_']:     \n",
    "        if not each in cuisine_dict:\n",
    "            cuisine_dict[each] = idx\n",
    "            cuisine_freq[each] = 1\n",
    "            idx += 1\n",
    "        else:\n",
    "            cuisine_freq[each] += 1 \n",
    "df.apply(create_dict, axis=1)\n",
    "\n",
    "bar_venue = ['Bar', 'Pub', 'Wine Pub', 'Brew Pub']\n",
    "fast_venue = ['Pizza', 'Fast Food', 'Street Food']\n",
    "cafe_venue = ['Cafe', 'Gastropub', 'Diner']\n",
    "vegan_venue = ['Vegetarian Friendly', 'Vegan Options', 'Gluten Free Options']\n",
    "meat_venue = ['Grill', 'Steakhouse', 'Barbecue']\n",
    "seafood_venue = ['Seafood', 'Sushi']\n",
    "\n",
    "def dummy_venue(row):\n",
    "    temp = [0,0,0,0,0,0,0]\n",
    "    if  len(row['Cuisine Style_']) == 0:\n",
    "        temp[0] = 1\n",
    "    else:\n",
    "        for each in row['Cuisine Style_']:\n",
    "            if each in bar_venue:\n",
    "                   temp[1] = 1\n",
    "            if each in fast_venue:\n",
    "                    temp[2] = 1\n",
    "            if each in cafe_venue:\n",
    "                    temp[3] = 1\n",
    "            if each in vegan_venue:\n",
    "                    temp[4] = 1\n",
    "            if each in meat_venue:\n",
    "                    temp[5] = 1\n",
    "            temp[6] = 1\n",
    "    return pd.Series(temp)\n",
    "\n",
    "t3 = df.apply(dummy_venue, axis=1)\n",
    "t3.columns = ['boom', 'bar', 'cafe', 'fastfood', 'vegan', 'meat', 'national']\n",
    "X = X.join(t3)"
   ]
  },
  {
   "cell_type": "code",
   "execution_count": 51,
   "metadata": {},
   "outputs": [],
   "source": [
    "# Dummy based on positive reviews\n",
    "\n",
    "X['is_good'] = df['Reviews'].apply(lambda x: 0 if pd.isna(re.search(\"Good|good|excellent|Excellent|awesome|Awesome|Best|best|Nice|nice\", x)) else 1)"
   ]
  },
  {
   "cell_type": "code",
   "execution_count": 52,
   "metadata": {},
   "outputs": [],
   "source": [
    "#Dummy based on delta timestamp\n",
    "\n",
    "def review_time(row):\n",
    "    match = re.findall('\\d\\d/\\d\\d/\\d\\d\\d\\d', row['Reviews'])\n",
    "    if len(match) == 0:\n",
    "        return [pd.to_datetime('10/25/2017', format='%m/%d/%Y'), pd.to_datetime('10/25/2017', format='%m/%d/%Y')]\n",
    "    elif len(match) == 1:\n",
    "        return [pd.to_datetime(match[0], format='%m/%d/%Y'), pd.to_datetime('10/25/2017', format='%m/%d/%Y')]\n",
    "    return [pd.to_datetime(match[0], format='%m/%d/%Y'), pd.to_datetime(match[1], format='%m/%d/%Y')]\n",
    "df2 = df.apply(review_time, axis=1, result_type='expand')\n",
    "fake = pd.to_datetime('10/25/2017',  format='%m/%d/%Y')\n",
    "t5 = df2.apply(lambda x: (x[0]-x[1]).days if not x[0] == fake or not x[1] == fake else 100000, axis=1)\n",
    "t5 = t5.apply(lambda x: 0 if x > 64 else 1)\n",
    "t5 = pd.DataFrame(t5, columns=['delta'])\n",
    "X = X.join(t5)"
   ]
  },
  {
   "cell_type": "code",
   "execution_count": 53,
   "metadata": {},
   "outputs": [
    {
     "data": {
      "text/html": [
       "<div>\n",
       "<style scoped>\n",
       "    .dataframe tbody tr th:only-of-type {\n",
       "        vertical-align: middle;\n",
       "    }\n",
       "\n",
       "    .dataframe tbody tr th {\n",
       "        vertical-align: top;\n",
       "    }\n",
       "\n",
       "    .dataframe thead th {\n",
       "        text-align: right;\n",
       "    }\n",
       "</style>\n",
       "<table border=\"1\" class=\"dataframe\">\n",
       "  <thead>\n",
       "    <tr style=\"text-align: right;\">\n",
       "      <th></th>\n",
       "      <th>Ranking</th>\n",
       "      <th>Number of Reviews</th>\n",
       "      <th>low</th>\n",
       "      <th>mean</th>\n",
       "      <th>high</th>\n",
       "      <th>Amsterdam</th>\n",
       "      <th>Athens</th>\n",
       "      <th>Barcelona</th>\n",
       "      <th>Berlin</th>\n",
       "      <th>Bratislava</th>\n",
       "      <th>...</th>\n",
       "      <th>Zurich</th>\n",
       "      <th>boom</th>\n",
       "      <th>bar</th>\n",
       "      <th>cafe</th>\n",
       "      <th>fastfood</th>\n",
       "      <th>vegan</th>\n",
       "      <th>meat</th>\n",
       "      <th>national</th>\n",
       "      <th>is_good</th>\n",
       "      <th>delta</th>\n",
       "    </tr>\n",
       "  </thead>\n",
       "  <tbody>\n",
       "    <tr>\n",
       "      <th>0</th>\n",
       "      <td>5570.0</td>\n",
       "      <td>194.0</td>\n",
       "      <td>0</td>\n",
       "      <td>1</td>\n",
       "      <td>0</td>\n",
       "      <td>0</td>\n",
       "      <td>0</td>\n",
       "      <td>0</td>\n",
       "      <td>0</td>\n",
       "      <td>0</td>\n",
       "      <td>...</td>\n",
       "      <td>0</td>\n",
       "      <td>0</td>\n",
       "      <td>0</td>\n",
       "      <td>0</td>\n",
       "      <td>0</td>\n",
       "      <td>0</td>\n",
       "      <td>0</td>\n",
       "      <td>1</td>\n",
       "      <td>1</td>\n",
       "      <td>1</td>\n",
       "    </tr>\n",
       "    <tr>\n",
       "      <th>1</th>\n",
       "      <td>1537.0</td>\n",
       "      <td>10.0</td>\n",
       "      <td>0</td>\n",
       "      <td>0</td>\n",
       "      <td>0</td>\n",
       "      <td>0</td>\n",
       "      <td>0</td>\n",
       "      <td>0</td>\n",
       "      <td>0</td>\n",
       "      <td>0</td>\n",
       "      <td>...</td>\n",
       "      <td>0</td>\n",
       "      <td>1</td>\n",
       "      <td>0</td>\n",
       "      <td>0</td>\n",
       "      <td>0</td>\n",
       "      <td>0</td>\n",
       "      <td>0</td>\n",
       "      <td>0</td>\n",
       "      <td>0</td>\n",
       "      <td>0</td>\n",
       "    </tr>\n",
       "    <tr>\n",
       "      <th>2</th>\n",
       "      <td>353.0</td>\n",
       "      <td>688.0</td>\n",
       "      <td>0</td>\n",
       "      <td>0</td>\n",
       "      <td>1</td>\n",
       "      <td>0</td>\n",
       "      <td>0</td>\n",
       "      <td>0</td>\n",
       "      <td>0</td>\n",
       "      <td>0</td>\n",
       "      <td>...</td>\n",
       "      <td>0</td>\n",
       "      <td>0</td>\n",
       "      <td>0</td>\n",
       "      <td>0</td>\n",
       "      <td>0</td>\n",
       "      <td>1</td>\n",
       "      <td>1</td>\n",
       "      <td>1</td>\n",
       "      <td>0</td>\n",
       "      <td>1</td>\n",
       "    </tr>\n",
       "    <tr>\n",
       "      <th>3</th>\n",
       "      <td>3458.0</td>\n",
       "      <td>3.0</td>\n",
       "      <td>0</td>\n",
       "      <td>0</td>\n",
       "      <td>0</td>\n",
       "      <td>0</td>\n",
       "      <td>0</td>\n",
       "      <td>0</td>\n",
       "      <td>1</td>\n",
       "      <td>0</td>\n",
       "      <td>...</td>\n",
       "      <td>0</td>\n",
       "      <td>1</td>\n",
       "      <td>0</td>\n",
       "      <td>0</td>\n",
       "      <td>0</td>\n",
       "      <td>0</td>\n",
       "      <td>0</td>\n",
       "      <td>0</td>\n",
       "      <td>0</td>\n",
       "      <td>0</td>\n",
       "    </tr>\n",
       "    <tr>\n",
       "      <th>4</th>\n",
       "      <td>621.0</td>\n",
       "      <td>84.0</td>\n",
       "      <td>0</td>\n",
       "      <td>1</td>\n",
       "      <td>0</td>\n",
       "      <td>0</td>\n",
       "      <td>0</td>\n",
       "      <td>0</td>\n",
       "      <td>0</td>\n",
       "      <td>0</td>\n",
       "      <td>...</td>\n",
       "      <td>0</td>\n",
       "      <td>0</td>\n",
       "      <td>0</td>\n",
       "      <td>0</td>\n",
       "      <td>0</td>\n",
       "      <td>1</td>\n",
       "      <td>0</td>\n",
       "      <td>1</td>\n",
       "      <td>1</td>\n",
       "      <td>0</td>\n",
       "    </tr>\n",
       "  </tbody>\n",
       "</table>\n",
       "<p>5 rows × 45 columns</p>\n",
       "</div>"
      ],
      "text/plain": [
       "   Ranking  Number of Reviews  low  mean  high  Amsterdam  Athens  Barcelona  \\\n",
       "0   5570.0              194.0    0     1     0          0       0          0   \n",
       "1   1537.0               10.0    0     0     0          0       0          0   \n",
       "2    353.0              688.0    0     0     1          0       0          0   \n",
       "3   3458.0                3.0    0     0     0          0       0          0   \n",
       "4    621.0               84.0    0     1     0          0       0          0   \n",
       "\n",
       "   Berlin  Bratislava  ...  Zurich  boom  bar  cafe  fastfood  vegan  meat  \\\n",
       "0       0           0  ...       0     0    0     0         0      0     0   \n",
       "1       0           0  ...       0     1    0     0         0      0     0   \n",
       "2       0           0  ...       0     0    0     0         0      1     1   \n",
       "3       1           0  ...       0     1    0     0         0      0     0   \n",
       "4       0           0  ...       0     0    0     0         0      1     0   \n",
       "\n",
       "   national  is_good  delta  \n",
       "0         1        1      1  \n",
       "1         0        0      0  \n",
       "2         1        0      1  \n",
       "3         0        0      0  \n",
       "4         1        1      0  \n",
       "\n",
       "[5 rows x 45 columns]"
      ]
     },
     "execution_count": 53,
     "metadata": {},
     "output_type": "execute_result"
    }
   ],
   "source": [
    "X.head()"
   ]
  },
  {
   "cell_type": "markdown",
   "metadata": {},
   "source": [
    "# Разбиваем датафрейм на части, необходимые для обучения и тестирования модели"
   ]
  },
  {
   "cell_type": "code",
   "execution_count": 54,
   "metadata": {},
   "outputs": [],
   "source": [
    "# Х - данные с информацией о ресторанах, у - целевая переменная (рейтинги ресторанов)\n",
    "y = df['Rating']\n",
    "\n",
    "# Загружаем специальный инструмент для разбивки:\n",
    "from sklearn.model_selection import train_test_split\n",
    "\n",
    "# Наборы данных с меткой \"train\" будут использоваться для обучения модели, \"test\" - для тестирования.\n",
    "# Для тестирования мы будем использовать 25% от исходного датасета.\n",
    "X_train, X_test, y_train, y_test = train_test_split(X, y, test_size=0.25, random_state=42)"
   ]
  },
  {
   "cell_type": "markdown",
   "metadata": {},
   "source": [
    "# Создаём, обучаем и тестируем модель"
   ]
  },
  {
   "cell_type": "code",
   "execution_count": 55,
   "metadata": {},
   "outputs": [
    {
     "name": "stdout",
     "output_type": "stream",
     "text": [
      "MAE: 0.21284699999999998\n"
     ]
    }
   ],
   "source": [
    "# Импортируем необходимые библиотеки:\n",
    "from sklearn.ensemble import RandomForestRegressor # инструмент для создания и обучения модели\n",
    "from sklearn import metrics # инструменты для оценки точности модели\n",
    "\n",
    "# Создаём модель\n",
    "regr = RandomForestRegressor(n_estimators=100, random_state=42)\n",
    "\n",
    "# Обучаем модель на тестовом наборе данных\n",
    "regr.fit(X_train, y_train)\n",
    "\n",
    "# Используем обученную модель для предсказания рейтинга ресторанов в тестовой выборке.\n",
    "# Предсказанные значения записываем в переменную y_pred\n",
    "y_pred = regr.predict(X_test)\n",
    "\n",
    "# Сравниваем предсказанные значения (y_pred) с реальными (y_test), и смотрим насколько они в среднем отличаются\n",
    "# Метрика называется Mean Absolute Error (MAE) и показывает среднее отклонение предсказанных значений от фактических.\n",
    "print('MAE:', metrics.mean_absolute_error(y_test, y_pred))"
   ]
  }
 ],
 "metadata": {
  "kernelspec": {
   "display_name": "Python 3",
   "language": "python",
   "name": "python3"
  },
  "language_info": {
   "codemirror_mode": {
    "name": "ipython",
    "version": 3
   },
   "file_extension": ".py",
   "mimetype": "text/x-python",
   "name": "python",
   "nbconvert_exporter": "python",
   "pygments_lexer": "ipython3",
   "version": "3.7.6"
  }
 },
 "nbformat": 4,
 "nbformat_minor": 2
}
