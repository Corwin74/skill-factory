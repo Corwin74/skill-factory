{
 "cells": [
  {
   "cell_type": "code",
   "execution_count": null,
   "metadata": {},
   "outputs": [],
   "source": [
    "import pandas as pd\n",
    "import numpy as np\n",
    "import re\n",
    "df = pd.read_csv('main_task.csv')"
   ]
  },
  {
   "cell_type": "code",
   "execution_count": null,
   "metadata": {
    "scrolled": true
   },
   "outputs": [],
   "source": [
    "# Dummy based on cities\n",
    "\n",
    "list(df['City'].unique())\n",
    "\n",
    "country = {'Paris': 'France', 'Stockholm': 'Sweden', 'London': 'GB', 'Berlin': 'Germany', 'Munich': 'Germany',\n",
    "           'Oporto': 'Portugal', 'Milan': 'Italy', 'Bratislava': 'Slovak', 'Vienna': 'Austria', 'Rome': 'Italy',\n",
    "           'Barcelona': 'Spain', 'Madrid': 'Spain', 'Dublin': 'Ireland', 'Brussels': 'Belgium', 'Zurich': 'Switzerland',\n",
    "           'Warsaw': 'Poland', 'Budapest': 'Hungary', 'Copenhagen': 'Sweden', 'Amsterdam': 'Dutch', 'Lyon': 'France',\n",
    "           'Hamburg': 'Germany', 'Lisbon': 'Portugal', 'Prague': 'Czech','Oslo': 'Denmark', 'Helsinki': 'Finland',\n",
    "           'Edinburgh': 'GB', 'Geneva': 'Switzerland', 'Ljubljana': 'Slovak', 'Athens': 'Greece', \n",
    "           'Luxembourg': 'Luxembourg', 'Krakow': 'Poland'}\n",
    "\n",
    "pd.get_dummies(df['City'].apply(lambda x: country[x])).head()"
   ]
  }
 ],
 "metadata": {
  "kernelspec": {
   "display_name": "Python 3",
   "language": "python",
   "name": "python3"
  },
  "language_info": {
   "codemirror_mode": {
    "name": "ipython",
    "version": 3
   },
   "file_extension": ".py",
   "mimetype": "text/x-python",
   "name": "python",
   "nbconvert_exporter": "python",
   "pygments_lexer": "ipython3",
   "version": "3.7.6"
  }
 },
 "nbformat": 4,
 "nbformat_minor": 4
}
