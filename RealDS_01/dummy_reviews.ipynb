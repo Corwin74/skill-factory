{
 "cells": [
  {
   "cell_type": "code",
   "execution_count": 1,
   "metadata": {},
   "outputs": [],
   "source": [
    "import pandas as pd\n",
    "import re\n",
    "df = pd.read_csv('main_task.csv')\n",
    "\n",
    "def review_time(row):\n",
    "    match = re.findall('\\d\\d/\\d\\d/\\d\\d\\d\\d', row['Reviews'])\n",
    "    if len(match) == 0:\n",
    "        return [pd.to_datetime('10/25/2017', format='%m/%d/%Y'), pd.to_datetime('10/25/2017', format='%m/%d/%Y')]\n",
    "    elif len(match) == 1:\n",
    "        return [pd.to_datetime(match[0], format='%m/%d/%Y'), pd.to_datetime('10/25/2017', format='%m/%d/%Y')]\n",
    "    return [pd.to_datetime(match[0], format='%m/%d/%Y'), pd.to_datetime(match[1], format='%m/%d/%Y')]\n",
    "df2 = df.apply(review_time, axis=1, result_type='expand')\n",
    "fake = pd.to_datetime('10/25/2017',  format='%m/%d/%Y')\n",
    "t5 = df2.apply(lambda x: (x[0]-x[1]).days if not x[0] == fake or not x[1] == fake else 100000, axis=1)\n",
    "t5 = t5.apply(lambda x: 0 if x > 64 else 1)\n",
    "X = X.join(t5)"
   ]
  }
 ],
 "metadata": {
  "kernelspec": {
   "display_name": "Python 3",
   "language": "python",
   "name": "python3"
  },
  "language_info": {
   "codemirror_mode": {
    "name": "ipython",
    "version": 3
   },
   "file_extension": ".py",
   "mimetype": "text/x-python",
   "name": "python",
   "nbconvert_exporter": "python",
   "pygments_lexer": "ipython3",
   "version": "3.7.6"
  }
 },
 "nbformat": 4,
 "nbformat_minor": 4
}
