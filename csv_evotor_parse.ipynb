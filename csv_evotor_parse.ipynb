{
 "cells": [
  {
   "cell_type": "code",
   "execution_count": 27,
   "metadata": {},
   "outputs": [],
   "source": [
    "import pandas as pd\n",
    "import os\n",
    "# Загрузка и объединение данных\n",
    "files_list = os.listdir('sales_report')\n",
    "files_csv = [x for x in files_list if x[-4:] == '.csv']\n",
    "columns = ['Date', '2', '3', '4', '5', 'bill_sum','7','8','9','cash','card','12','13','14','15', '16']\n",
    "df = pd.DataFrame(columns=columns)\n",
    "\n",
    "for file_name in files_csv:\n",
    "    temp = pd.read_csv('sales_report/' + file_name, sep=';', index_col=0,\n",
    "                  encoding=\"cp1251\", names=columns, header=None, parse_dates=True, dayfirst=True)\n",
    "    df = pd.concat([df, temp])\n",
    "\n",
    "# Группировка по дням и вычисление бонуса\n",
    "df2 = df[['bill_sum', 'cash', 'card']].resample(\"D\").sum()\n",
    "bonus = 0\n",
    "for row_index, row in df2.iterrows():\n",
    "    if row['bill_sum'] > 10000:\n",
    "        bonus += (row['bill_sum'] - 10000)*0.1\n",
    "        print(row_index, row['bill_sum'], (row['bill_sum'] - 10000)*0.1)\n",
    "    else:\n",
    "        print(row_index, row['bill_sum'])        \n",
    "print(bonus)"
   ]
  }
 ],
 "metadata": {
  "kernelspec": {
   "display_name": "Python 3",
   "language": "python",
   "name": "python3"
  },
  "language_info": {
   "codemirror_mode": {
    "name": "ipython",
    "version": 3
   },
   "file_extension": ".py",
   "mimetype": "text/x-python",
   "name": "python",
   "nbconvert_exporter": "python",
   "pygments_lexer": "ipython3",
   "version": "3.7.6"
  }
 },
 "nbformat": 4,
 "nbformat_minor": 2
}
