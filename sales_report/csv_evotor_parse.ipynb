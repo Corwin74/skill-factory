{
 "cells": [
  {
   "cell_type": "code",
   "execution_count": 1,
   "metadata": {},
   "outputs": [],
   "source": [
    "import pandas as pd\n",
    "DATA_FILE = 'bonus.csv'\n",
    "columns = ['Date', '2', '3', '4', '5', 'bill_sum','7','8','9','cash','card','12','13','14','15', '16']\n",
    "df = pd.read_csv('C:/Users/icorw/iCloudDrive/DST9/' + DATA_FILE, sep=';', index_col=0,\n",
    "                  encoding=\"cp1251\", names=columns, header=None, parse_dates=True, dayfirst=True)"
   ]
  },
  {
   "cell_type": "code",
   "execution_count": 2,
   "metadata": {},
   "outputs": [
    {
     "name": "stdout",
     "output_type": "stream",
     "text": [
      "2020-01-13 00:00:00 13010.0 301.0\n",
      "2020-01-14 00:00:00 9635.0\n",
      "2020-01-15 00:00:00 8970.0\n",
      "2020-01-16 00:00:00 11180.0 118.0\n",
      "2020-01-17 00:00:00 12255.0 225.5\n",
      "2020-01-18 00:00:00 0.0\n",
      "2020-01-19 00:00:00 0.0\n",
      "2020-01-20 00:00:00 11160.0 116.0\n",
      "2020-01-21 00:00:00 12156.0 215.60000000000002\n",
      "2020-01-22 00:00:00 8070.0\n",
      "2020-01-23 00:00:00 10290.0 29.0\n",
      "2020-01-24 00:00:00 10505.0 50.5\n",
      "1055.6\n"
     ]
    }
   ],
   "source": [
    "df2 = df[['bill_sum', 'cash', 'card']].resample(\"D\").sum()\n",
    "bonus = 0\n",
    "for row_index, row in df2.iterrows():\n",
    "    if row['bill_sum'] > 10000:\n",
    "        bonus += (row['bill_sum'] - 10000)*0.1\n",
    "        print(row_index, row['bill_sum'], (row['bill_sum'] - 10000)*0.1)\n",
    "    else:\n",
    "        print(row_index, row['bill_sum'])        \n",
    "print(bonus)"
   ]
  }
 ],
 "metadata": {
  "kernelspec": {
   "display_name": "Python 3",
   "language": "python",
   "name": "python3"
  },
  "language_info": {
   "codemirror_mode": {
    "name": "ipython",
    "version": 3
   },
   "file_extension": ".py",
   "mimetype": "text/x-python",
   "name": "python",
   "nbconvert_exporter": "python",
   "pygments_lexer": "ipython3",
   "version": "3.7.6"
  }
 },
 "nbformat": 4,
 "nbformat_minor": 2
}
